{
 "cells": [
  {
   "cell_type": "code",
   "execution_count": 46,
   "metadata": {
    "collapsed": true
   },
   "outputs": [],
   "source": [
    "#Random Forest algorithm\n",
    "#replicate findings from Walters et al 2014"
   ]
  },
  {
   "cell_type": "code",
   "execution_count": 47,
   "metadata": {
    "collapsed": true
   },
   "outputs": [],
   "source": [
    "#import io, os, sys, types\n",
    "#from IPython import get_ipython\n",
    "#from nbformat import read\n",
    "#from IPython.core.interactiveshell import InteractiveShell\n",
    "\n",
    "import biom\n",
    "import sklearn\n",
    "import pandas as pd"
   ]
  },
  {
   "cell_type": "code",
   "execution_count": 48,
   "metadata": {
    "collapsed": true
   },
   "outputs": [],
   "source": [
    "#HMP dataset\n",
    "text_file = \"/home/blooh/ersp/merged_bmi_mapping_final__original_study_HMP__.txt\"\n",
    "biom_file = \"/home/blooh/ersp/filtered_otu_table__original_study_HMP__.biom\""
   ]
  },
  {
   "cell_type": "code",
   "execution_count": 49,
   "metadata": {
    "collapsed": false
   },
   "outputs": [],
   "source": [
    "m = pd.read_csv(text_file, sep=\"\\t\", index_col=0)"
   ]
  },
  {
   "cell_type": "code",
   "execution_count": 50,
   "metadata": {
    "collapsed": false
   },
   "outputs": [
    {
     "data": {
      "text/plain": [
       "Index([u'BarcodeSequence', u'LinkerPrimerSequence', u'BMI',\n",
       "       u'bmi_group_binned', u'bmi_group_coded', u'original_study',\n",
       "       u'combined_study_bmi_group', u'PCR_PRIMERS', u'TARGET_SUBFRAGMENT',\n",
       "       u'AGE', u'ELEVATION', u'LONGITUDE', u'COUNTRY', u'SEQUENCING_METH',\n",
       "       u'SAMPLE_CENTER', u'Description_duplicate', u'ReversePrimer',\n",
       "       u'COLLECTION_DATE', u'SEX', u'FAMILY_RELATIONSHIP_GG', u'STUDY_CENTER',\n",
       "       u'EXPERIMENT_CENTER', u'bmi_group_amish', u'RUN_CENTER', u'LATITUDE',\n",
       "       u'Description'],\n",
       "      dtype='object')"
      ]
     },
     "execution_count": 50,
     "metadata": {},
     "output_type": "execute_result"
    }
   ],
   "source": [
    "m.columns"
   ]
  },
  {
   "cell_type": "code",
   "execution_count": 51,
   "metadata": {
    "collapsed": false
   },
   "outputs": [
    {
     "data": {
      "text/plain": [
       "Index([u'SRS011271.396367', u'SRS011410.396107', u'SRS011415.394388',\n",
       "       u'SRS011529.396185', u'SRS011586.393765', u'SRS011621.394454',\n",
       "       u'SRS012191.395151', u'SRS013177.401537', u'SRS013386.400409',\n",
       "       u'SRS013543.394407',\n",
       "       ...\n",
       "       u'SRS049157.403739', u'SRS049959.401022', u'SRS056620.394943',\n",
       "       u'SRS057447.396161', u'SRS063068.403097', u'SRS063524.397569',\n",
       "       u'SRS063827.396534', u'SRS065263.395822', u'SRS065466.395776',\n",
       "       u'SRS065725.395071'],\n",
       "      dtype='object', name=u'#SampleID', length=208)"
      ]
     },
     "execution_count": 51,
     "metadata": {},
     "output_type": "execute_result"
    }
   ],
   "source": [
    "m.index"
   ]
  },
  {
   "cell_type": "code",
   "execution_count": 52,
   "metadata": {
    "collapsed": true
   },
   "outputs": [],
   "source": [
    "b= biom.load_table(biom_file)"
   ]
  },
  {
   "cell_type": "code",
   "execution_count": 53,
   "metadata": {
    "collapsed": false
   },
   "outputs": [],
   "source": [
    "#select only samples that fit LEAN OR OBESE\n",
    "i = m[m.bmi_group_coded != \"Overweight\"].index\n",
    "i_2 = m[m.bmi_group_coded != \"Overweight\"]\n",
    "\n",
    "i_2.loc[i_2.bmi_group_binned == 3, 'bmi_group_binned'] = 0"
   ]
  },
  {
   "cell_type": "code",
   "execution_count": 54,
   "metadata": {
    "collapsed": false
   },
   "outputs": [
    {
     "name": "stdout",
     "output_type": "stream",
     "text": [
      "#SampleID\n",
      "SRS011271.396367        Normal\n",
      "SRS011410.396107        Normal\n",
      "SRS011415.394388        Normal\n",
      "SRS011529.396185        Normal\n",
      "SRS011586.393765        Normal\n",
      "SRS011621.394454        Normal\n",
      "SRS012191.395151        Normal\n",
      "SRS013177.401537        Normal\n",
      "SRS013386.400409        Normal\n",
      "SRS013543.394407        Normal\n",
      "SRS013687.400715        Normal\n",
      "SRS013801.398248        Normal\n",
      "SRS014345.393344        Normal\n",
      "SRS014572.396411        Normal\n",
      "SRS014885.394865        Normal\n",
      "SRS014923.394014        Normal\n",
      "SRS015247.394888        Normal\n",
      "SRS015389.394987        Normal\n",
      "SRS015599.394288        Normal\n",
      "SRS015724.395613        Normal\n",
      "SRS015782.394538        Normal\n",
      "SRS015911.396089        Normal\n",
      "SRS015960.395111        Normal\n",
      "SRS016095.395879        Normal\n",
      "SRS016267.395183        Normal\n",
      "SRS016335.395358        Normal\n",
      "SRS016400.399670        Normal\n",
      "SRS016437.400001        Normal\n",
      "SRS016517.399341        Normal\n",
      "SRS016585.401158        Normal\n",
      "                       ...    \n",
      "SRS020926.402304    Overweight\n",
      "SRS020983.400142    Overweight\n",
      "SRS021304.398073    Overweight\n",
      "SRS021364.400322    Overweight\n",
      "SRS021724.401437    Overweight\n",
      "SRS021790.397926    Overweight\n",
      "SRS022093.398975    Overweight\n",
      "SRS022480.394346    Overweight\n",
      "SRS022609.402969    Overweight\n",
      "SRS022669.402973    Overweight\n",
      "SRS022924.396417    Overweight\n",
      "SRS023047.395317    Overweight\n",
      "SRS023851.395664    Overweight\n",
      "SRS042703.395416    Overweight\n",
      "SRS045414.396091    Overweight\n",
      "SRS045607.394913    Overweight\n",
      "SRS046313.395104    Overweight\n",
      "SRS046341.394125    Overweight\n",
      "SRS047642.395847    Overweight\n",
      "SRS048722.395742    Overweight\n",
      "SRS049157.403739    Overweight\n",
      "SRS049959.401022    Overweight\n",
      "SRS056620.394943    Overweight\n",
      "SRS057447.396161    Overweight\n",
      "SRS063068.403097    Overweight\n",
      "SRS063524.397569    Overweight\n",
      "SRS063827.396534    Overweight\n",
      "SRS065263.395822    Overweight\n",
      "SRS065466.395776    Overweight\n",
      "SRS065725.395071    Overweight\n",
      "Name: bmi_group_coded, dtype: object\n",
      "208\n"
     ]
    }
   ],
   "source": [
    "# prints 4th column\n",
    "y = m.iloc[:, 4]\n",
    "print(y)\n",
    "print(y.size)"
   ]
  },
  {
   "cell_type": "code",
   "execution_count": 55,
   "metadata": {
    "collapsed": true
   },
   "outputs": [],
   "source": [
    "writer = pd.ExcelWriter('biom_original_1.xlsx', engine='xlsxwriter')"
   ]
  },
  {
   "cell_type": "code",
   "execution_count": 56,
   "metadata": {
    "collapsed": false
   },
   "outputs": [
    {
     "name": "stdout",
     "output_type": "stream",
     "text": [
      "                  304309  193008  190299  191393  193061  186596  174924  \\\n",
      "SRS057447.396161       0       0       0       0       0       0       0   \n",
      "SRS013762.393921       0       0       0       0       0       0       0   \n",
      "SRS011415.394388       0       0       0       0       0       0       0   \n",
      "SRS052697.393711       0       0       0       0       0       0       0   \n",
      "SRS052433.395864       0       0       0       0       0       0       0   \n",
      "SRS048722.395742       0       0       0       0       0       0       2   \n",
      "SRS019910.396375       0       0       0       0       0       0       0   \n",
      "SRS015247.394888       0       0       0       0       0       0       2   \n",
      "SRS014999.393232       0       0       0       0       0       0       0   \n",
      "SRS018968.393467       0       0       0       0       0       0       2   \n",
      "SRS022480.394346       0       0       0       0       0       0       0   \n",
      "SRS012191.395151       0       0       0       0       0       0       1   \n",
      "SRS063921.394565       0       0       0       0       0       0       0   \n",
      "SRS022987.395478       0       0       0       0       0       0       0   \n",
      "SRS016095.395879       0       0       0       0       0       0       0   \n",
      "SRS016335.395358       0       0       0       0       0       0       0   \n",
      "SRS014287.393992       0       0       0       0       0       0       0   \n",
      "SRS015452.393813       0       0       0       0       0       0       0   \n",
      "SRS015911.396089       0       0       0       0       0       0       0   \n",
      "SRS044415.396407       0       0       0       0       0       0       0   \n",
      "SRS022924.396417       0       0       0       0       0       0       0   \n",
      "SRS045613.395655       0       0       0       0       0       0       0   \n",
      "SRS046382.395403       0       0       0       0       0       0       0   \n",
      "SRS011586.393765       0       0       0       0       0       0       0   \n",
      "SRS014885.394865       0       0       0       0       0       0       0   \n",
      "SRS014369.396478       0       0       0       0       0       0       0   \n",
      "SRS015599.394288       0       0       0       0       0       0       0   \n",
      "SRS021910.396580       0       0       0       0       0       0       0   \n",
      "SRS058416.395069       0       0       0       0       0       0       0   \n",
      "SRS065725.395071       0       0       0       0       0       0       0   \n",
      "...                  ...     ...     ...     ...     ...     ...     ...   \n",
      "SRS020527.400864       0       0       0       0       0       0       0   \n",
      "SRS048008.402102       0       0       0       0       0       0       0   \n",
      "SRS020698.397863       0       1       0       0       0       0       0   \n",
      "SRS044146.402702       0       0       0       0       0       0       7   \n",
      "SRS019990.403191       0       0       0       0       0       0       0   \n",
      "SRS063138.400525       0       0       0       0       0       0       1   \n",
      "SRS016841.402651       0       0       0       0       0       0       0   \n",
      "SRS018817.402377       0       0       0       0       0       0       0   \n",
      "SRS049959.401022       0       1       0       0       0       0       0   \n",
      "SRS018068.403124       0       0       0       0       0       0       1   \n",
      "SRS016990.399976       0       0       0       0       0       0       0   \n",
      "SRS013386.400409       0       0       0       0       0       0       0   \n",
      "SRS021364.400322       0       0       0       0       0       0       2   \n",
      "SRS022291.401914       0       0       0       0       0       0       0   \n",
      "SRS022546.402806       0       0       0       0       0       0       0   \n",
      "SRS022354.402671       0       0       0       0       0       0       0   \n",
      "SRS021790.397926       0       0       0       0       0       0       0   \n",
      "SRS017821.397630       0       0       0       0       0       1       2   \n",
      "SRS047950.403159       0       0       0       0       0       0       0   \n",
      "SRS024682.402667       0       0       0       0       0       0       0   \n",
      "SRS021175.397751       0       0       0       0       0       0       0   \n",
      "SRS016437.400001       0       0       0       0       0       0       0   \n",
      "SRS023302.399864       0       0       0       0       0       0       0   \n",
      "SRS018076.400346       0       0       0       0       0       0       1   \n",
      "SRS052471.398623       0       0       0       0       0       0       0   \n",
      "SRS048853.399883       0       0       0       0       0       0       0   \n",
      "SRS017764.401815       0       0       0       0       0       0       0   \n",
      "SRS018427.401159       0       1       0       0       0       0       0   \n",
      "SRS017394.400974       0       0       0       0       0       0       0   \n",
      "SRS016585.401158       0       0       0       0       0       0       0   \n",
      "\n",
      "                  296166  177792  337735  ...    230389  521586  207610  \\\n",
      "SRS057447.396161       0       0       1  ...         0       0       0   \n",
      "SRS013762.393921       0       0       0  ...         0       0       0   \n",
      "SRS011415.394388       0       0       0  ...         0       0       0   \n",
      "SRS052697.393711       0       0       0  ...         0       0       0   \n",
      "SRS052433.395864       0       0       0  ...         0       0       0   \n",
      "SRS048722.395742       0       0       0  ...         0       0       0   \n",
      "SRS019910.396375       0       0       0  ...         0       0       0   \n",
      "SRS015247.394888       0       0       0  ...         0       0       0   \n",
      "SRS014999.393232       0       0       0  ...         0       0       0   \n",
      "SRS018968.393467       0       0       0  ...         0       0       0   \n",
      "SRS022480.394346       0       0       0  ...         0       0       0   \n",
      "SRS012191.395151       0       0       0  ...         0       0       0   \n",
      "SRS063921.394565       0       0       0  ...         0       0       0   \n",
      "SRS022987.395478       0       0       0  ...         0       0       0   \n",
      "SRS016095.395879       0       0       0  ...         0       0       0   \n",
      "SRS016335.395358       0       0       0  ...         0       0       0   \n",
      "SRS014287.393992       0       0       0  ...         0       0       0   \n",
      "SRS015452.393813       0       0       0  ...         0       0       0   \n",
      "SRS015911.396089       0       0       0  ...         0       0       0   \n",
      "SRS044415.396407       0       0       0  ...         0       0       0   \n",
      "SRS022924.396417       0       0       0  ...         0       0       0   \n",
      "SRS045613.395655       0       0       0  ...         0       0       0   \n",
      "SRS046382.395403       0       0       0  ...         0       0       0   \n",
      "SRS011586.393765       0       0       0  ...         0       0       0   \n",
      "SRS014885.394865       0       0       0  ...         0       0       0   \n",
      "SRS014369.396478       0       0       0  ...         0       0       0   \n",
      "SRS015599.394288       0       0       0  ...         0       0       0   \n",
      "SRS021910.396580       0       0       0  ...         0       0       0   \n",
      "SRS058416.395069       0       0       0  ...         0       0       0   \n",
      "SRS065725.395071       0       0       0  ...         0       0       0   \n",
      "...                  ...     ...     ...  ...       ...     ...     ...   \n",
      "SRS020527.400864       0       0       0  ...         0       0       0   \n",
      "SRS048008.402102       0       0       0  ...         0       0       0   \n",
      "SRS020698.397863       0       0       0  ...         0       0       0   \n",
      "SRS044146.402702       0       0       0  ...         0       0       0   \n",
      "SRS019990.403191       0       0       0  ...         0       0       0   \n",
      "SRS063138.400525       0       0       0  ...         0       0       0   \n",
      "SRS016841.402651       0       0       0  ...         0       0       0   \n",
      "SRS018817.402377       0       0       0  ...         0       0       0   \n",
      "SRS049959.401022       0       0       0  ...         0       0       0   \n",
      "SRS018068.403124       0       1       0  ...         0       0       0   \n",
      "SRS016990.399976       0       0       0  ...         0       0       0   \n",
      "SRS013386.400409       0       0       0  ...         0       0       0   \n",
      "SRS021364.400322       0       0       0  ...         0       0       0   \n",
      "SRS022291.401914       0       0       0  ...         0       0       0   \n",
      "SRS022546.402806       0       0       0  ...         0       0       0   \n",
      "SRS022354.402671       0       0       0  ...         0       0       0   \n",
      "SRS021790.397926       0       0       0  ...         0       0       0   \n",
      "SRS017821.397630       0       0       0  ...         0       0       0   \n",
      "SRS047950.403159       0       0       0  ...         0       0       0   \n",
      "SRS024682.402667       0       0       0  ...         0       0       0   \n",
      "SRS021175.397751       0       0       0  ...         0       0       0   \n",
      "SRS016437.400001       0       0       0  ...         0       0       0   \n",
      "SRS023302.399864       0       0       0  ...         0       0       0   \n",
      "SRS018076.400346       0       0       0  ...         0       0       0   \n",
      "SRS052471.398623       0       0       0  ...         0       0       0   \n",
      "SRS048853.399883       0       0       0  ...         0       0       0   \n",
      "SRS017764.401815       0       0       0  ...         0       0       0   \n",
      "SRS018427.401159       0       0       0  ...         0       0       0   \n",
      "SRS017394.400974       0       0       0  ...         0       0       0   \n",
      "SRS016585.401158       0       0       0  ...         0       0       0   \n",
      "\n",
      "                  239867  310499  131845  4306049  303554  625671  38344  \n",
      "SRS057447.396161       0       0       0        0       0       0      0  \n",
      "SRS013762.393921       0       0       0        0       0       0      0  \n",
      "SRS011415.394388       0       0       0        0       0       0      0  \n",
      "SRS052697.393711       0       0       0        0       0       0      0  \n",
      "SRS052433.395864       0       0       0        0       0       0      0  \n",
      "SRS048722.395742       0       0       0        0       0       0      0  \n",
      "SRS019910.396375       0       0       0        0       0       0      0  \n",
      "SRS015247.394888       0       0       0        0       0       0      0  \n",
      "SRS014999.393232       0       0       0        0       0       0      0  \n",
      "SRS018968.393467       0       0       0        0       0       0      0  \n",
      "SRS022480.394346       0       0       0        0       0       0      0  \n",
      "SRS012191.395151       0       0       0        0       0       0      0  \n",
      "SRS063921.394565       0       0       0        0       0       0      0  \n",
      "SRS022987.395478       0       0       0        0       0       0      0  \n",
      "SRS016095.395879       0       0       0        0       0       0      0  \n",
      "SRS016335.395358       0       0       0        0       0       0      0  \n",
      "SRS014287.393992       0       0       0        0       0       0      0  \n",
      "SRS015452.393813       0       0       0        0       0       0      0  \n",
      "SRS015911.396089       0       0       0        0       0       0      0  \n",
      "SRS044415.396407       0       0       0        0       0       0      0  \n",
      "SRS022924.396417       0       0       0        0       0       0      0  \n",
      "SRS045613.395655       0       0       0        0       0       0      0  \n",
      "SRS046382.395403       0       0       0        0       0       0      0  \n",
      "SRS011586.393765       0       0       0        0       0       0      0  \n",
      "SRS014885.394865       0       0       0        0       0       0      0  \n",
      "SRS014369.396478       0       0       0        0       0       0      0  \n",
      "SRS015599.394288       0       0       0        0       0       0      0  \n",
      "SRS021910.396580       0       0       0        0       0       0      0  \n",
      "SRS058416.395069       0       0       0        0       0       0      0  \n",
      "SRS065725.395071       0       0       0        0       0       0      0  \n",
      "...                  ...     ...     ...      ...     ...     ...    ...  \n",
      "SRS020527.400864       0       0       0        0       0       0      0  \n",
      "SRS048008.402102       0       0       0        0       0       0      0  \n",
      "SRS020698.397863       0       0       0        0       0       0      0  \n",
      "SRS044146.402702       0       0       0        0       0       0      0  \n",
      "SRS019990.403191       0       0       0        0       0       0      0  \n",
      "SRS063138.400525       0       0       0        0       0       0      0  \n",
      "SRS016841.402651       0       0       0        0       0       0      0  \n",
      "SRS018817.402377       0       0       0        0       0       0      0  \n",
      "SRS049959.401022       0       0       0        0       0       0      0  \n",
      "SRS018068.403124       0       0       0        0       0       0      0  \n",
      "SRS016990.399976       0       0       0        0       0       0      0  \n",
      "SRS013386.400409       0       0       0        0       0       0      0  \n",
      "SRS021364.400322       0       0       0        0       0       0      0  \n",
      "SRS022291.401914       0       0       0        0       0       0      0  \n",
      "SRS022546.402806       0       0       0        0       0       0      0  \n",
      "SRS022354.402671       0       0       0        0       0       0      0  \n",
      "SRS021790.397926       0       0       0        0       0       0      0  \n",
      "SRS017821.397630       0       0       0        0       0       0      0  \n",
      "SRS047950.403159       0       0       0        0       0       0      0  \n",
      "SRS024682.402667       0       0       0        0       0       0      0  \n",
      "SRS021175.397751       0       0       0        0       0       0      0  \n",
      "SRS016437.400001       0       0       0        0       0       0      0  \n",
      "SRS023302.399864       0       0       0        0       0       0      0  \n",
      "SRS018076.400346       0       0       0        0       0       0      0  \n",
      "SRS052471.398623       0       0       0        0       0       0      0  \n",
      "SRS048853.399883       0       0       0        0       0       0      0  \n",
      "SRS017764.401815       0       0       0        0       0       0      0  \n",
      "SRS018427.401159       0       0       0        0       0       0      0  \n",
      "SRS017394.400974       0       0       0        0       0       0      0  \n",
      "SRS016585.401158       0       0       0        0       0       0      0  \n",
      "\n",
      "[208 rows x 27400 columns]\n"
     ]
    }
   ],
   "source": [
    "p = pd.DataFrame(b.matrix_data.T.todense().astype(int), index=b.ids(axis=\"sample\"), columns=b.ids(axis=\"observation\"))\n",
    "print(p)"
   ]
  },
  {
   "cell_type": "code",
   "execution_count": 57,
   "metadata": {
    "collapsed": true
   },
   "outputs": [],
   "source": [
    "# Convert the dataframe to an XlsxWriter Excel object.\n",
    "p.to_excel(writer, sheet_name='Sheet1')\n",
    "\n",
    "# Close the Pandas Excel writer and output the Excel file.\n",
    "writer.save()"
   ]
  },
  {
   "cell_type": "code",
   "execution_count": 58,
   "metadata": {
    "collapsed": false
   },
   "outputs": [
    {
     "ename": "CParserError",
     "evalue": "Error tokenizing data. C error: Expected 8 fields in line 4, saw 16\n",
     "output_type": "error",
     "traceback": [
      "\u001b[0;31m---------------------------------------------------------------------------\u001b[0m",
      "\u001b[0;31mCParserError\u001b[0m                              Traceback (most recent call last)",
      "\u001b[0;32m<ipython-input-58-10077c197fce>\u001b[0m in \u001b[0;36m<module>\u001b[0;34m()\u001b[0m\n\u001b[1;32m      1\u001b[0m \u001b[0;31m# load sorted file\u001b[0m\u001b[0;34m\u001b[0m\u001b[0;34m\u001b[0m\u001b[0m\n\u001b[0;32m----> 2\u001b[0;31m \u001b[0msorted_m\u001b[0m \u001b[0;34m=\u001b[0m \u001b[0mpd\u001b[0m\u001b[0;34m.\u001b[0m\u001b[0mread_csv\u001b[0m\u001b[0;34m(\u001b[0m\u001b[0;34m\"/home/blooh/ersp/biom_original_1.csv\"\u001b[0m\u001b[0;34m,\u001b[0m \u001b[0mindex_col\u001b[0m\u001b[0;34m=\u001b[0m\u001b[0;36m0\u001b[0m\u001b[0;34m)\u001b[0m\u001b[0;34m\u001b[0m\u001b[0m\n\u001b[0m\u001b[1;32m      3\u001b[0m \u001b[0;32mprint\u001b[0m\u001b[0;34m(\u001b[0m\u001b[0msorted_m\u001b[0m\u001b[0;34m)\u001b[0m\u001b[0;34m\u001b[0m\u001b[0m\n",
      "\u001b[0;32m/home/blooh/.local/lib/python2.7/site-packages/pandas/io/parsers.pyc\u001b[0m in \u001b[0;36mparser_f\u001b[0;34m(filepath_or_buffer, sep, delimiter, header, names, index_col, usecols, squeeze, prefix, mangle_dupe_cols, dtype, engine, converters, true_values, false_values, skipinitialspace, skiprows, nrows, na_values, keep_default_na, na_filter, verbose, skip_blank_lines, parse_dates, infer_datetime_format, keep_date_col, date_parser, dayfirst, iterator, chunksize, compression, thousands, decimal, lineterminator, quotechar, quoting, escapechar, comment, encoding, dialect, tupleize_cols, error_bad_lines, warn_bad_lines, skipfooter, skip_footer, doublequote, delim_whitespace, as_recarray, compact_ints, use_unsigned, low_memory, buffer_lines, memory_map, float_precision)\u001b[0m\n\u001b[1;32m    644\u001b[0m                     skip_blank_lines=skip_blank_lines)\n\u001b[1;32m    645\u001b[0m \u001b[0;34m\u001b[0m\u001b[0m\n\u001b[0;32m--> 646\u001b[0;31m         \u001b[0;32mreturn\u001b[0m \u001b[0m_read\u001b[0m\u001b[0;34m(\u001b[0m\u001b[0mfilepath_or_buffer\u001b[0m\u001b[0;34m,\u001b[0m \u001b[0mkwds\u001b[0m\u001b[0;34m)\u001b[0m\u001b[0;34m\u001b[0m\u001b[0m\n\u001b[0m\u001b[1;32m    647\u001b[0m \u001b[0;34m\u001b[0m\u001b[0m\n\u001b[1;32m    648\u001b[0m     \u001b[0mparser_f\u001b[0m\u001b[0;34m.\u001b[0m\u001b[0m__name__\u001b[0m \u001b[0;34m=\u001b[0m \u001b[0mname\u001b[0m\u001b[0;34m\u001b[0m\u001b[0m\n",
      "\u001b[0;32m/home/blooh/.local/lib/python2.7/site-packages/pandas/io/parsers.pyc\u001b[0m in \u001b[0;36m_read\u001b[0;34m(filepath_or_buffer, kwds)\u001b[0m\n\u001b[1;32m    399\u001b[0m         \u001b[0;32mreturn\u001b[0m \u001b[0mparser\u001b[0m\u001b[0;34m\u001b[0m\u001b[0m\n\u001b[1;32m    400\u001b[0m \u001b[0;34m\u001b[0m\u001b[0m\n\u001b[0;32m--> 401\u001b[0;31m     \u001b[0mdata\u001b[0m \u001b[0;34m=\u001b[0m \u001b[0mparser\u001b[0m\u001b[0;34m.\u001b[0m\u001b[0mread\u001b[0m\u001b[0;34m(\u001b[0m\u001b[0;34m)\u001b[0m\u001b[0;34m\u001b[0m\u001b[0m\n\u001b[0m\u001b[1;32m    402\u001b[0m     \u001b[0mparser\u001b[0m\u001b[0;34m.\u001b[0m\u001b[0mclose\u001b[0m\u001b[0;34m(\u001b[0m\u001b[0;34m)\u001b[0m\u001b[0;34m\u001b[0m\u001b[0m\n\u001b[1;32m    403\u001b[0m     \u001b[0;32mreturn\u001b[0m \u001b[0mdata\u001b[0m\u001b[0;34m\u001b[0m\u001b[0m\n",
      "\u001b[0;32m/home/blooh/.local/lib/python2.7/site-packages/pandas/io/parsers.pyc\u001b[0m in \u001b[0;36mread\u001b[0;34m(self, nrows)\u001b[0m\n\u001b[1;32m    937\u001b[0m                 \u001b[0;32mraise\u001b[0m \u001b[0mValueError\u001b[0m\u001b[0;34m(\u001b[0m\u001b[0;34m'skipfooter not supported for iteration'\u001b[0m\u001b[0;34m)\u001b[0m\u001b[0;34m\u001b[0m\u001b[0m\n\u001b[1;32m    938\u001b[0m \u001b[0;34m\u001b[0m\u001b[0m\n\u001b[0;32m--> 939\u001b[0;31m         \u001b[0mret\u001b[0m \u001b[0;34m=\u001b[0m \u001b[0mself\u001b[0m\u001b[0;34m.\u001b[0m\u001b[0m_engine\u001b[0m\u001b[0;34m.\u001b[0m\u001b[0mread\u001b[0m\u001b[0;34m(\u001b[0m\u001b[0mnrows\u001b[0m\u001b[0;34m)\u001b[0m\u001b[0;34m\u001b[0m\u001b[0m\n\u001b[0m\u001b[1;32m    940\u001b[0m \u001b[0;34m\u001b[0m\u001b[0m\n\u001b[1;32m    941\u001b[0m         \u001b[0;32mif\u001b[0m \u001b[0mself\u001b[0m\u001b[0;34m.\u001b[0m\u001b[0moptions\u001b[0m\u001b[0;34m.\u001b[0m\u001b[0mget\u001b[0m\u001b[0;34m(\u001b[0m\u001b[0;34m'as_recarray'\u001b[0m\u001b[0;34m)\u001b[0m\u001b[0;34m:\u001b[0m\u001b[0;34m\u001b[0m\u001b[0m\n",
      "\u001b[0;32m/home/blooh/.local/lib/python2.7/site-packages/pandas/io/parsers.pyc\u001b[0m in \u001b[0;36mread\u001b[0;34m(self, nrows)\u001b[0m\n\u001b[1;32m   1506\u001b[0m     \u001b[0;32mdef\u001b[0m \u001b[0mread\u001b[0m\u001b[0;34m(\u001b[0m\u001b[0mself\u001b[0m\u001b[0;34m,\u001b[0m \u001b[0mnrows\u001b[0m\u001b[0;34m=\u001b[0m\u001b[0mNone\u001b[0m\u001b[0;34m)\u001b[0m\u001b[0;34m:\u001b[0m\u001b[0;34m\u001b[0m\u001b[0m\n\u001b[1;32m   1507\u001b[0m         \u001b[0;32mtry\u001b[0m\u001b[0;34m:\u001b[0m\u001b[0;34m\u001b[0m\u001b[0m\n\u001b[0;32m-> 1508\u001b[0;31m             \u001b[0mdata\u001b[0m \u001b[0;34m=\u001b[0m \u001b[0mself\u001b[0m\u001b[0;34m.\u001b[0m\u001b[0m_reader\u001b[0m\u001b[0;34m.\u001b[0m\u001b[0mread\u001b[0m\u001b[0;34m(\u001b[0m\u001b[0mnrows\u001b[0m\u001b[0;34m)\u001b[0m\u001b[0;34m\u001b[0m\u001b[0m\n\u001b[0m\u001b[1;32m   1509\u001b[0m         \u001b[0;32mexcept\u001b[0m \u001b[0mStopIteration\u001b[0m\u001b[0;34m:\u001b[0m\u001b[0;34m\u001b[0m\u001b[0m\n\u001b[1;32m   1510\u001b[0m             \u001b[0;32mif\u001b[0m \u001b[0mself\u001b[0m\u001b[0;34m.\u001b[0m\u001b[0m_first_chunk\u001b[0m\u001b[0;34m:\u001b[0m\u001b[0;34m\u001b[0m\u001b[0m\n",
      "\u001b[0;32mpandas/parser.pyx\u001b[0m in \u001b[0;36mpandas.parser.TextReader.read (pandas/parser.c:10415)\u001b[0;34m()\u001b[0m\n",
      "\u001b[0;32mpandas/parser.pyx\u001b[0m in \u001b[0;36mpandas.parser.TextReader._read_low_memory (pandas/parser.c:10691)\u001b[0;34m()\u001b[0m\n",
      "\u001b[0;32mpandas/parser.pyx\u001b[0m in \u001b[0;36mpandas.parser.TextReader._read_rows (pandas/parser.c:11437)\u001b[0;34m()\u001b[0m\n",
      "\u001b[0;32mpandas/parser.pyx\u001b[0m in \u001b[0;36mpandas.parser.TextReader._tokenize_rows (pandas/parser.c:11308)\u001b[0;34m()\u001b[0m\n",
      "\u001b[0;32mpandas/parser.pyx\u001b[0m in \u001b[0;36mpandas.parser.raise_parser_error (pandas/parser.c:27037)\u001b[0;34m()\u001b[0m\n",
      "\u001b[0;31mCParserError\u001b[0m: Error tokenizing data. C error: Expected 8 fields in line 4, saw 16\n"
     ]
    }
   ],
   "source": [
    "# load sorted file\n",
    "sorted_m = pd.read_csv(\"/home/blooh/ersp/biom_original_1.csv\", index_col=0)\n",
    "print(sorted_m)"
   ]
  },
  {
   "cell_type": "code",
   "execution_count": null,
   "metadata": {
    "collapsed": false
   },
   "outputs": [],
   "source": [
    "c = p.iloc[i, :]\n",
    "print(c)"
   ]
  },
  {
   "cell_type": "code",
   "execution_count": null,
   "metadata": {
    "collapsed": true
   },
   "outputs": [],
   "source": [
    "from sklearn import model_selection\n",
    "from sklearn.ensemble import RandomForestClassifier\n",
    "#10 fold cross-validation, 5 times repeated\n",
    "#for i in range(5):\n",
    "   # kfold = model_selection.KFold(n_splits=10, random_state=7)\n",
    "    #model = RandomForestClassifier(n_estimators=1000)\n",
    "    #results = model_selection.cross_val_score(model, p.fillna(0).as_matrix(), y, cv=kfold)\n",
    "    #print(results.mean())"
   ]
  },
  {
   "cell_type": "code",
   "execution_count": null,
   "metadata": {
    "collapsed": false
   },
   "outputs": [],
   "source": [
    "from sklearn.cross_validation import cross_val_score\n",
    "from sklearn.metrics import confusion_matrix\n",
    "from sklearn.model_selection import cross_val_predict\n",
    "iter_range = range(1, 10)\n",
    "# empty list to store scores\n",
    "rForest_scores = []\n",
    "average_accuracy = 0.0;\n",
    "\n",
    "for i in iter_range:\n",
    "    classifier = RandomForestClassifier(n_estimators=1000)\n",
    "    #cross-validation score\n",
    "    #scores = cross_val_score(classifier, c.fillna(0).as_matrix(), i_2.bmi_group_coded, cv=10, scoring='accuracy')\n",
    "    predicted = cross_val_predict(classifier, c.fillna(0).as_matrix(), i_2.bmi_group_binned, cv=10)\n",
    "    #cross-validation AUC score\n",
    "    #scores = cross_val_score(classifier, c.fillna(0).as_matrix(), i_2.bmi_group_binned, cv=10, scoring='roc_auc')\n",
    "    #rForest_scores.append(scores.mean())\n",
    "    #average_accuracy+=scores.mean()\n",
    "    print(confusion_matrix(i_2.bmi_group_binned, predicted))\n",
    "\n",
    "#print(rForest_scores)\n",
    "#print(average_accuracy/(5.0))"
   ]
  },
  {
   "cell_type": "code",
   "execution_count": null,
   "metadata": {
    "collapsed": false
   },
   "outputs": [],
   "source": [
    "from sklearn.cross_validation import cross_val_score\n",
    "iter_range = range(1, 6)\n",
    "# empty list to store scores\n",
    "rForest_scores = []\n",
    "average_accuracy = 0.0;\n",
    "\n",
    "for i in iter_range:\n",
    "    classifier = RandomForestClassifier(n_estimators=1000)\n",
    "    #cross-validation score\n",
    "    #scores = cross_val_score(classifier, c.fillna(0).as_matrix(), i_2.bmi_group_coded, cv=10, scoring='accuracy')\n",
    "    #cross-validation AUC score\n",
    "    scores = cross_val_score(classifier, c.fillna(0).as_matrix(), i_2.bmi_group_binned, cv=10, scoring='roc_auc')\n",
    "    rForest_scores.append(scores.mean())\n",
    "    average_accuracy+=scores.mean()\n",
    "\n",
    "print(rForest_scores)\n",
    "print(average_accuracy/(5.0))"
   ]
  },
  {
   "cell_type": "code",
   "execution_count": null,
   "metadata": {
    "collapsed": true
   },
   "outputs": [],
   "source": []
  },
  {
   "cell_type": "code",
   "execution_count": null,
   "metadata": {
    "collapsed": true
   },
   "outputs": [],
   "source": []
  },
  {
   "cell_type": "code",
   "execution_count": null,
   "metadata": {
    "collapsed": true
   },
   "outputs": [],
   "source": []
  },
  {
   "cell_type": "code",
   "execution_count": null,
   "metadata": {
    "collapsed": true
   },
   "outputs": [],
   "source": []
  },
  {
   "cell_type": "code",
   "execution_count": null,
   "metadata": {
    "collapsed": true
   },
   "outputs": [],
   "source": []
  },
  {
   "cell_type": "code",
   "execution_count": null,
   "metadata": {
    "collapsed": true
   },
   "outputs": [],
   "source": []
  }
 ],
 "metadata": {
  "anaconda-cloud": {},
  "kernelspec": {
   "display_name": "Python 2",
   "language": "python",
   "name": "python2"
  },
  "language_info": {
   "codemirror_mode": {
    "name": "ipython",
    "version": 2
   },
   "file_extension": ".py",
   "mimetype": "text/x-python",
   "name": "python",
   "nbconvert_exporter": "python",
   "pygments_lexer": "ipython2",
   "version": "2.7.12"
  }
 },
 "nbformat": 4,
 "nbformat_minor": 1
}
