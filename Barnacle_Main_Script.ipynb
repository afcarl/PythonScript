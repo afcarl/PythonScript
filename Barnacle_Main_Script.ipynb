{
 "cells": [
  {
   "cell_type": "code",
   "execution_count": 1,
   "metadata": {
    "collapsed": false
   },
   "outputs": [],
   "source": [
    "# TO BE USED IN BARNACLE\n",
    "\n",
    "#MODIFIED TO BE LESS COMPLICATED\n",
    "\n",
    "#This file performs the parsing of 5 datasets here and runs 9 algorithms on the sample.\n",
    "# The program will only use the obese/lean samples (omits overweight) and specifically works on Wu, Turnbaugh, HMP,\n",
    "# Amish, and Yasunenko studies\n",
    "\n",
    "# To use this function, call the function that loops through classifiers and creates table in other ntbk\n",
    "#modify to have parameter settings at the end\n",
    "\n",
    "#In order to run this file, you must also download Parsing_Dataset and CLassifiers_Accuracies_Script (from git repo)"
   ]
  },
  {
   "cell_type": "code",
   "execution_count": 2,
   "metadata": {
    "collapsed": false
   },
   "outputs": [],
   "source": [
    "%load_ext autoreload\n",
    "%autoreload 2"
   ]
  },
  {
   "cell_type": "code",
   "execution_count": 3,
   "metadata": {
    "collapsed": false
   },
   "outputs": [
    {
     "name": "stdout",
     "output_type": "stream",
     "text": [
      "importing Jupyter notebook from Parsing_Dataset.ipynb\n",
      "importing Jupyter notebook from Classifiers_Accuracies_Script.ipynb\n"
     ]
    },
    {
     "name": "stderr",
     "output_type": "stream",
     "text": [
      "/home/barbarahe/anaconda3/lib/python3.5/site-packages/sklearn/cross_validation.py:44: DeprecationWarning: This module was deprecated in version 0.18 in favor of the model_selection module into which all the refactored classes and functions are moved. Also note that the interface of the new CV iterators are different from that of this module. This module will be removed in 0.20.\n",
      "  \"This module will be removed in 0.20.\", DeprecationWarning)\n"
     ]
    }
   ],
   "source": [
    "#import statements\n",
    "import biom\n",
    "import sklearn\n",
    "import pandas as pd\n",
    "#import nbimporter # not sure if need to download\n",
    "from imp import reload\n",
    "import Parsing_Dataset as parse #MAKE SURE YOU DOWNLOAD THIS FROM GIT REPO\n",
    "import Classifiers_Accuracies_Script as script #MAKE SURE YOU DOWNLOAD THIS GIT REPO"
   ]
  },
  {
   "cell_type": "code",
   "execution_count": 8,
   "metadata": {
    "collapsed": true
   },
   "outputs": [],
   "source": [
    "#MODIFY PATH ACCORDINGLY\n",
    "\n",
    "path = \"/projects/bariatric_surgery/\""
   ]
  },
  {
   "cell_type": "code",
   "execution_count": 9,
   "metadata": {
    "collapsed": false
   },
   "outputs": [
    {
     "data": {
      "text/plain": [
       "{'HMP': {'biom': '/projects/bariatric_surgery/filtered_otu_table__original_study_HMP__.biom',\n",
       "  'meta': '/projects/bariatric_surgery/merged_bmi_mapping_final__original_study_HMP__.txt'},\n",
       " 'amish': {'biom': '/projects/bariatric_surgery/filtered_otu_table__original_study_amish_Fraser__.biom',\n",
       "  'meta': '/projects/bariatric_surgery/merged_bmi_mapping_final__original_study_amish_Fraser__.txt'},\n",
       " 'turnbaugh': {'biom': '/home/barbarahe/Downloads/filtered_otu_table__original_study_Turnbaugh_mz_dz_twins__.biom',\n",
       "  'meta': '/projects/bariatric_surgery/merged_bmi_mapping_final__original_study_Turnbaugh_mz_dz_twins__.txt'},\n",
       " 'wu': {'biom': '/projects/bariatric_surgery/filtered_otu_table__original_study_COMBO_Wu__.biom',\n",
       "  'meta': '/projects/bariatric_surgery/merged_bmi_mapping_final__original_study_COMBO_Wu__.txt'},\n",
       " 'yatsunenko': {'biom': '/projects/bariatric_surgery/filtered_otu_table__original_study_Yatsunenko_GG__.biom',\n",
       "  'meta': '/projects/bariatric_surgery/merged_bmi_mapping_final__original_study_Yatsunenko_GG__.txt'}}"
      ]
     },
     "execution_count": 9,
     "metadata": {},
     "output_type": "execute_result"
    }
   ],
   "source": [
    "# dictionary of dictionaries to contain file names\n",
    "files = {\n",
    "    'turnbaugh': {},\n",
    "    'wu' : {},\n",
    "    'amish' : {},\n",
    "    'yatsunenko' : {},\n",
    "    'HMP' : {},\n",
    "} \n",
    "\n",
    "#Turnbaugh\n",
    "files['turnbaugh']['meta'] = path + \"merged_bmi_mapping_final__original_study_Turnbaugh_mz_dz_twins__.txt\"\n",
    "files['turnbaugh']['biom'] =\"/home/barbarahe/Downloads/filtered_otu_table__original_study_Turnbaugh_mz_dz_twins__.biom\"\n",
    "\n",
    "#Wu dataset\n",
    "files['wu']['meta'] = path + \"merged_bmi_mapping_final__original_study_COMBO_Wu__.txt\"\n",
    "files['wu']['biom'] = path + \"filtered_otu_table__original_study_COMBO_Wu__.biom\"\n",
    "\n",
    "#Amish dataset\n",
    "files['amish']['meta'] = path + \"merged_bmi_mapping_final__original_study_amish_Fraser__.txt\"\n",
    "files['amish']['biom'] = path + \"filtered_otu_table__original_study_amish_Fraser__.biom\"\n",
    "\n",
    "#Yatsunenko dataset\n",
    "files['yatsunenko']['meta'] = path + \"merged_bmi_mapping_final__original_study_Yatsunenko_GG__.txt\"\n",
    "files['yatsunenko']['biom'] = path + \"filtered_otu_table__original_study_Yatsunenko_GG__.biom\"\n",
    "\n",
    "#HMP dataset\n",
    "files['HMP']['meta'] = path + \"merged_bmi_mapping_final__original_study_HMP__.txt\"\n",
    "files['HMP']['biom'] = path + \"filtered_otu_table__original_study_HMP__.biom\"\n",
    "\n",
    "files"
   ]
  },
  {
   "cell_type": "code",
   "execution_count": 10,
   "metadata": {
    "collapsed": false
   },
   "outputs": [
    {
     "name": "stdout",
     "output_type": "stream",
     "text": [
      "/projects/bariatric_surgery/merged_bmi_mapping_final__original_study_Turnbaugh_mz_dz_twins__.txt\n",
      "/home/barbarahe/Downloads/filtered_otu_table__original_study_Turnbaugh_mz_dz_twins__.biom\n",
      "/projects/bariatric_surgery/merged_bmi_mapping_final__original_study_COMBO_Wu__.txt\n",
      "/projects/bariatric_surgery/filtered_otu_table__original_study_COMBO_Wu__.biom\n",
      "/projects/bariatric_surgery/merged_bmi_mapping_final__original_study_HMP__.txt\n",
      "/projects/bariatric_surgery/filtered_otu_table__original_study_HMP__.biom\n",
      "/projects/bariatric_surgery/merged_bmi_mapping_final__original_study_Yatsunenko_GG__.txt\n",
      "/projects/bariatric_surgery/filtered_otu_table__original_study_Yatsunenko_GG__.biom\n",
      "/projects/bariatric_surgery/merged_bmi_mapping_final__original_study_amish_Fraser__.txt\n",
      "/projects/bariatric_surgery/filtered_otu_table__original_study_amish_Fraser__.biom\n"
     ]
    }
   ],
   "source": [
    "#run on each study\n",
    "\n",
    "for study in files:\n",
    "    #print(files[study]['meta'])\n",
    "    #print(files[study]['biom'])\n",
    "    X, y = parse.parse_dataset_X(files[study]['meta'], files[study]['biom'], False)\n",
    "    dataframe = script.setupAndRun(study, X, y, 2)\n",
    "    dataframe\n",
    "    \n",
    "#finished all studies"
   ]
  },
  {
   "cell_type": "code",
   "execution_count": 8,
   "metadata": {
    "collapsed": false
   },
   "outputs": [],
   "source": [
    "# %timeit list(reversed(range(1,1000)))"
   ]
  }
 ],
 "metadata": {
  "anaconda-cloud": {},
  "kernelspec": {
   "display_name": "Python [conda root]",
   "language": "python",
   "name": "conda-root-py"
  },
  "language_info": {
   "codemirror_mode": {
    "name": "ipython",
    "version": 3
   },
   "file_extension": ".py",
   "mimetype": "text/x-python",
   "name": "python",
   "nbconvert_exporter": "python",
   "pygments_lexer": "ipython3",
   "version": "3.5.2"
  }
 },
 "nbformat": 4,
 "nbformat_minor": 1
}
