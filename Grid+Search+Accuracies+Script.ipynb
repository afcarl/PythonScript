{
 "cells": [
  {
   "cell_type": "code",
   "execution_count": 1,
   "metadata": {
    "collapsed": false
   },
   "outputs": [
    {
     "name": "stderr",
     "output_type": "stream",
     "text": [
      "/home/barbarahe/anaconda3/lib/python3.5/site-packages/sklearn/cross_validation.py:44: DeprecationWarning: This module was deprecated in version 0.18 in favor of the model_selection module into which all the refactored classes and functions are moved. Also note that the interface of the new CV iterators are different from that of this module. This module will be removed in 0.20.\n",
      "  \"This module will be removed in 0.20.\", DeprecationWarning)\n"
     ]
    }
   ],
   "source": [
    "import numpy as np\n",
    "import pandas as pd\n",
    "from sklearn.model_selection import train_test_split\n",
    "from sklearn.cross_validation import cross_val_score\n",
    "from sklearn.neural_network import MLPClassifier\n",
    "from sklearn.neighbors import KNeighborsClassifier\n",
    "from sklearn.svm import SVC\n",
    "from sklearn.gaussian_process import GaussianProcessClassifier\n",
    "from sklearn.gaussian_process.kernels import RBF\n",
    "from sklearn.tree import DecisionTreeClassifier\n",
    "from sklearn.ensemble import RandomForestClassifier, AdaBoostClassifier, ExtraTreesClassifier\n",
    "from sklearn.naive_bayes import GaussianNB\n",
    "\n",
    "\n",
    "from sklearn.grid_search import GridSearchCV"
   ]
  },
  {
   "cell_type": "code",
   "execution_count": null,
   "metadata": {
    "collapsed": true
   },
   "outputs": [],
   "source": [
    "#Dictionaries that hold parameters \n",
    "paramsRandomForest = {\n",
    "    'max_depth': [],\n",
    "    'min_samples_split': [2,3,5,6],\n",
    "    'min_samples_leaf':[2,4,5],\n",
    "    'n_estimators': [1500,1800]\n",
    "}\n",
    "\n",
    "# finish parameter values\n",
    "paramsDecisionTrees = {}\n",
    "paramsExtraTrees = {}\n",
    "paramsKNN = {}\n",
    "paramsAdaboost = {}\n",
    "paramsNeuralNet = {}\n",
    "paramsSVM = {}"
   ]
  },
  {
   "cell_type": "code",
   "execution_count": 2,
   "metadata": {
    "collapsed": true
   },
   "outputs": [],
   "source": [
    "# Dictionary of algorithms (with their parameters)\n",
    "\n",
    "algs = {\n",
    "    'randomForest': paramsRandomForest,\n",
    "    'decisionTrees': paramsDecisionTrees,\n",
    "    'extraTrees:' paramsExtraTrees,\n",
    "    'KNN': paramsKNN,\n",
    "    'adaboost': paramsAdaboost,\n",
    "    'neuralNet': paramsNeuralNet,\n",
    "    'SVM': paramsSVM,\n",
    "    'naiveBayes': {},\n",
    "    'gaussian': {},\n",
    "} \n",
    "\n",
    "\n",
    "df = pd.DataFrame()\n",
    "df['classifier name'] = ['KNN', 'Decision Tree', 'Naive Bayes', 'SVM', 'Gaussian Process', 'Random Forest', 'Neural Net', 'AdaBoost', 'Extra Trees Classifier']"
   ]
  },
  {
   "cell_type": "code",
   "execution_count": 3,
   "metadata": {
    "collapsed": true
   },
   "outputs": [],
   "source": [
    "def gridSearch(dataset_name, X, y, num_iterations):\n",
    "    \n",
    "    for i in range(1, num_iterations):\n",
    "        name = dataset_name + str(i)\n",
    "        models = []\n",
    "        models.append(('KNN', KNeighborsClassifier()\n",
    "        models.append(('Decision Tree', DecisionTreeClassifier())\n",
    "        models.append(('Naive Bayes', GaussianNB())\n",
    "        models.append(('SVM', SVC())\n",
    "        models.append(('Gaussian Process', GaussianProcessClassifier()))\n",
    "        models.append(('Random Forest', RandomForestClassifier())\n",
    "        models.append(('Neural Net', MLPClassifier())\n",
    "        models.append(('AdaBoost', AdaBoostClassifier())\n",
    "        models.append(('Extra Trees Classifier', ExtraTreesClassifier())\n",
    "       \n",
    "        run_dataset(name, X, y, models, algs) \n",
    "                      \n",
    "    return df"
   ]
  },
  {
   "cell_type": "code",
   "execution_count": 4,
   "metadata": {
    "collapsed": true
   },
   "outputs": [],
   "source": [
    "def run_dataset(dataset_name, X, y, models, algs):\n",
    "    iter_range = range(1,6)\n",
    "    average_accuracy = 0.0\n",
    "    \n",
    "    accuracy_list = []\n",
    "    # for name, model in models:\n",
    "    for (name, model), (alg, params) in zip(models.items(), algs.items()):\n",
    "        clf = GridSearchCV(model, params, cv=10, scoring='roc_auc')\n",
    "        clf.fit(X, y)\n",
    "        \n",
    "        # print( best accuracy and associated params\n",
    "        print(clf.best_score_)\n",
    "        print(clf.best_params_)\n",
    "            \n",
    "        # append mean of best score\n",
    "        accuracy_list.append(cross_val_score(clf, X, y, cv=10, scoring='roc_auc').mean())\n",
    "        \n",
    "    se = pd.Series(accuracy_list)\n",
    "    df[dataset_name] = se.values"
   ]
  },
  {
   "cell_type": "code",
   "execution_count": null,
   "metadata": {
    "collapsed": true
   },
   "outputs": [],
   "source": []
  }
 ],
 "metadata": {
  "anaconda-cloud": {},
  "kernelspec": {
   "display_name": "Python [conda root]",
   "language": "python",
   "name": "conda-root-py"
  },
  "language_info": {
   "codemirror_mode": {
    "name": "ipython",
    "version": 3
   },
   "file_extension": ".py",
   "mimetype": "text/x-python",
   "name": "python",
   "nbconvert_exporter": "python",
   "pygments_lexer": "ipython3",
   "version": "3.5.2"
  }
 },
 "nbformat": 4,
 "nbformat_minor": 1
}
