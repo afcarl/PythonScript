{
 "cells": [
  {
   "cell_type": "code",
   "execution_count": 1,
   "metadata": {
    "collapsed": true
   },
   "outputs": [],
   "source": [
    "# This file performs the parsing of 5 datasets here and runs 9 algorithms on the sample.\n",
    "# The program will only use the obese/lean samples (omits overweight) and specifically works on Wu, Turnbaugh, HMP,\n",
    "# Amish, and Yasunenko studies\n",
    "\n",
    "# To use this function, call the function that loops through classifiers and creates table in other ntbk\n",
    "#modify to have parameter settings at the end\n",
    "\n",
    "#In order to run this file, you must also download Parsing_Dataset and CLassifiers_Accuracies_Script (from git repo),\n",
    "and nmimporter (can find online from github)"
   ]
  },
  {
   "cell_type": "code",
   "execution_count": 2,
   "metadata": {
    "collapsed": false
   },
   "outputs": [
    {
     "name": "stdout",
     "output_type": "stream",
     "text": [
      "importing Jupyter notebook from Parsing_Dataset.ipynb\n",
      "importing Jupyter notebook from Classifiers_Accuracies_Script.ipynb\n"
     ]
    },
    {
     "name": "stderr",
     "output_type": "stream",
     "text": [
      "/home/barbarahe/anaconda3/lib/python3.5/site-packages/sklearn/cross_validation.py:44: DeprecationWarning: This module was deprecated in version 0.18 in favor of the model_selection module into which all the refactored classes and functions are moved. Also note that the interface of the new CV iterators are different from that of this module. This module will be removed in 0.20.\n",
      "  \"This module will be removed in 0.20.\", DeprecationWarning)\n"
     ]
    }
   ],
   "source": [
    "#import statements\n",
    "import biom\n",
    "import sklearn\n",
    "import pandas as pd\n",
    "import nbimporter # MUST DOWNLOAD THIS FROM ONLINE GIT (just google it and you will find it)\n",
    "from imp import reload\n",
    "import Parsing_Dataset as parse #MAKE SURE YOU DOWNLOAD THIS FROM GIT REPO\n",
    "import Classifiers_Accuracies_Script as script #MAKE SURE YOU DOWNLOAD THIS GIT REPO"
   ]
  },
  {
   "cell_type": "code",
   "execution_count": 3,
   "metadata": {
    "collapsed": false
   },
   "outputs": [
    {
     "name": "stdout",
     "output_type": "stream",
     "text": [
      "importing Jupyter notebook from Parsing_Dataset.ipynb\n",
      "importing Jupyter notebook from Classifiers_Accuracies_Script.ipynb\n"
     ]
    },
    {
     "data": {
      "text/plain": [
       "<module 'Classifiers_Accuracies_Script' from 'Classifiers_Accuracies_Script.ipynb'>"
      ]
     },
     "execution_count": 3,
     "metadata": {},
     "output_type": "execute_result"
    }
   ],
   "source": [
    "# reload scripts and their definitions\n",
    "reload(parse)\n",
    "reload(script)"
   ]
  },
  {
   "cell_type": "code",
   "execution_count": 4,
   "metadata": {
    "collapsed": true
   },
   "outputs": [],
   "source": [
    "#FILE NAMES (this is the part where everyone would need to modify indiviudally)\n",
    "\n",
    "#Turnbaugh\n",
    "turnbaughMeta = \"/home/barbarahe/Downloads/merged_bmi_mapping_final__original_study_Turnbaugh_mz_dz_twins__.txt\"\n",
    "turnbaughBiom = \"/home/barbarahe/Downloads/filtered_otu_table__original_study_Turnbaugh_mz_dz_twins__.biom\"\n",
    "\n",
    "#Wu dataset\n",
    "wuMeta = \"/home/barbarahe/Downloads/merged_bmi_mapping_final__original_study_COMBO_Wu__.txt\"\n",
    "wuBiom = \"/home/barbarahe/Downloads/filtered_otu_table__original_study_COMBO_Wu__.biom\"\n",
    "\n",
    "#Amish dataset\n",
    "amishMeta = \"/home/barbarahe/merged_bmi_mapping_final__original_study_amish_Fraser__.txt\"\n",
    "amishBiom = \"/home/barbarahe/filtered_otu_table__original_study_amish_Fraser__.biom\"\n",
    "\n",
    "#Yatsunenko dataset\n",
    "yatsunenkoMeta = \"/home/barbarahe/Downloads/merged_bmi_mapping_final__original_study_Yatsunenko_GG__.txt\"\n",
    "yatsunenkoBiom = \"/home/barbarahe/Downloads/filtered_otu_table__original_study_Yatsunenko_GG__.biom\"\n",
    "\n",
    "#HMP dataset\n",
    "HMPMeta = \"/home/barbarahe/Downloads/merged_bmi_mapping_final__original_study_HMP__.txt\"\n",
    "HMPBiom = \"/home/barbarahe/Downloads/filtered_otu_table__original_study_HMP__.biom\""
   ]
  },
  {
   "cell_type": "code",
   "execution_count": 28,
   "metadata": {
    "collapsed": false
   },
   "outputs": [
    {
     "name": "stderr",
     "output_type": "stream",
     "text": [
      "/home/barbarahe/anaconda3/lib/python3.5/site-packages/pandas/core/indexing.py:477: SettingWithCopyWarning: \n",
      "A value is trying to be set on a copy of a slice from a DataFrame.\n",
      "Try using .loc[row_indexer,col_indexer] = value instead\n",
      "\n",
      "See the caveats in the documentation: http://pandas.pydata.org/pandas-docs/stable/indexing.html#indexing-view-versus-copy\n",
      "  self.obj[item] = s\n"
     ]
    },
    {
     "name": "stdout",
     "output_type": "stream",
     "text": [
      "KNN\n",
      "Decision Tree\n",
      "Naive Bayes\n",
      "SVM\n",
      "Gaussian Process\n",
      "Random Forest\n",
      "Neural Net\n",
      "AdaBoost\n",
      "Extra Trees Classifier\n"
     ]
    },
    {
     "data": {
      "text/html": [
       "<div>\n",
       "<table border=\"1\" class=\"dataframe\">\n",
       "  <thead>\n",
       "    <tr style=\"text-align: right;\">\n",
       "      <th></th>\n",
       "      <th>classifier name</th>\n",
       "      <th>Turnbaugh</th>\n",
       "    </tr>\n",
       "  </thead>\n",
       "  <tbody>\n",
       "    <tr>\n",
       "      <th>0</th>\n",
       "      <td>KNN</td>\n",
       "      <td>0.625227</td>\n",
       "    </tr>\n",
       "    <tr>\n",
       "      <th>1</th>\n",
       "      <td>Decision Tree</td>\n",
       "      <td>0.556561</td>\n",
       "    </tr>\n",
       "    <tr>\n",
       "      <th>2</th>\n",
       "      <td>Naive Bayes</td>\n",
       "      <td>0.567121</td>\n",
       "    </tr>\n",
       "    <tr>\n",
       "      <th>3</th>\n",
       "      <td>SVM</td>\n",
       "      <td>0.563030</td>\n",
       "    </tr>\n",
       "    <tr>\n",
       "      <th>4</th>\n",
       "      <td>Gaussian Process</td>\n",
       "      <td>0.500000</td>\n",
       "    </tr>\n",
       "    <tr>\n",
       "      <th>5</th>\n",
       "      <td>Random Forest</td>\n",
       "      <td>0.636545</td>\n",
       "    </tr>\n",
       "    <tr>\n",
       "      <th>6</th>\n",
       "      <td>Neural Net</td>\n",
       "      <td>0.677303</td>\n",
       "    </tr>\n",
       "    <tr>\n",
       "      <th>7</th>\n",
       "      <td>AdaBoost</td>\n",
       "      <td>0.627273</td>\n",
       "    </tr>\n",
       "    <tr>\n",
       "      <th>8</th>\n",
       "      <td>Extra Trees Classifier</td>\n",
       "      <td>0.670409</td>\n",
       "    </tr>\n",
       "  </tbody>\n",
       "</table>\n",
       "</div>"
      ],
      "text/plain": [
       "          classifier name  Turnbaugh\n",
       "0                     KNN   0.625227\n",
       "1           Decision Tree   0.556561\n",
       "2             Naive Bayes   0.567121\n",
       "3                     SVM   0.563030\n",
       "4        Gaussian Process   0.500000\n",
       "5           Random Forest   0.636545\n",
       "6              Neural Net   0.677303\n",
       "7                AdaBoost   0.627273\n",
       "8  Extra Trees Classifier   0.670409"
      ]
     },
     "execution_count": 28,
     "metadata": {},
     "output_type": "execute_result"
    }
   ],
   "source": [
    "#run on Turnbaugh studies\n",
    "X, y = parse.parse_dataset_X(turnbaughMeta, turnbaughBiom, False)\n",
    "dataframe = script.run_dataset('Turnbaugh', X, y)\n",
    "dataframe\n",
    "#end of Taunbaugh"
   ]
  },
  {
   "cell_type": "code",
   "execution_count": 29,
   "metadata": {
    "collapsed": false
   },
   "outputs": [
    {
     "name": "stderr",
     "output_type": "stream",
     "text": [
      "/home/barbarahe/anaconda3/lib/python3.5/site-packages/pandas/core/indexing.py:477: SettingWithCopyWarning: \n",
      "A value is trying to be set on a copy of a slice from a DataFrame.\n",
      "Try using .loc[row_indexer,col_indexer] = value instead\n",
      "\n",
      "See the caveats in the documentation: http://pandas.pydata.org/pandas-docs/stable/indexing.html#indexing-view-versus-copy\n",
      "  self.obj[item] = s\n"
     ]
    },
    {
     "name": "stdout",
     "output_type": "stream",
     "text": [
      "KNN\n",
      "Decision Tree\n",
      "Naive Bayes\n",
      "SVM\n",
      "Gaussian Process\n",
      "Random Forest\n",
      "Neural Net\n",
      "AdaBoost\n",
      "Extra Trees Classifier\n"
     ]
    },
    {
     "data": {
      "text/html": [
       "<div>\n",
       "<table border=\"1\" class=\"dataframe\">\n",
       "  <thead>\n",
       "    <tr style=\"text-align: right;\">\n",
       "      <th></th>\n",
       "      <th>classifier name</th>\n",
       "      <th>Wu</th>\n",
       "    </tr>\n",
       "  </thead>\n",
       "  <tbody>\n",
       "    <tr>\n",
       "      <th>0</th>\n",
       "      <td>KNN</td>\n",
       "      <td>0.541667</td>\n",
       "    </tr>\n",
       "    <tr>\n",
       "      <th>1</th>\n",
       "      <td>Decision Tree</td>\n",
       "      <td>0.689667</td>\n",
       "    </tr>\n",
       "    <tr>\n",
       "      <th>2</th>\n",
       "      <td>Naive Bayes</td>\n",
       "      <td>0.475000</td>\n",
       "    </tr>\n",
       "    <tr>\n",
       "      <th>3</th>\n",
       "      <td>SVM</td>\n",
       "      <td>0.491667</td>\n",
       "    </tr>\n",
       "    <tr>\n",
       "      <th>4</th>\n",
       "      <td>Gaussian Process</td>\n",
       "      <td>0.500000</td>\n",
       "    </tr>\n",
       "    <tr>\n",
       "      <th>5</th>\n",
       "      <td>Random Forest</td>\n",
       "      <td>0.578000</td>\n",
       "    </tr>\n",
       "    <tr>\n",
       "      <th>6</th>\n",
       "      <td>Neural Net</td>\n",
       "      <td>0.657000</td>\n",
       "    </tr>\n",
       "    <tr>\n",
       "      <th>7</th>\n",
       "      <td>AdaBoost</td>\n",
       "      <td>0.733333</td>\n",
       "    </tr>\n",
       "    <tr>\n",
       "      <th>8</th>\n",
       "      <td>Extra Trees Classifier</td>\n",
       "      <td>0.481000</td>\n",
       "    </tr>\n",
       "  </tbody>\n",
       "</table>\n",
       "</div>"
      ],
      "text/plain": [
       "          classifier name        Wu\n",
       "0                     KNN  0.541667\n",
       "1           Decision Tree  0.689667\n",
       "2             Naive Bayes  0.475000\n",
       "3                     SVM  0.491667\n",
       "4        Gaussian Process  0.500000\n",
       "5           Random Forest  0.578000\n",
       "6              Neural Net  0.657000\n",
       "7                AdaBoost  0.733333\n",
       "8  Extra Trees Classifier  0.481000"
      ]
     },
     "execution_count": 29,
     "metadata": {},
     "output_type": "execute_result"
    }
   ],
   "source": [
    "#run on Wu studies\n",
    "X, y = parse.parse_dataset_X(wuMeta, wuBiom, False)\n",
    "dataframe = script.run_dataset('Wu', X, y)\n",
    "dataframe\n",
    "#end of Wu"
   ]
  },
  {
   "cell_type": "code",
   "execution_count": 61,
   "metadata": {
    "collapsed": false
   },
   "outputs": [
    {
     "name": "stderr",
     "output_type": "stream",
     "text": [
      "/home/barbarahe/anaconda3/lib/python3.5/site-packages/pandas/core/indexing.py:477: SettingWithCopyWarning: \n",
      "A value is trying to be set on a copy of a slice from a DataFrame.\n",
      "Try using .loc[row_indexer,col_indexer] = value instead\n",
      "\n",
      "See the caveats in the documentation: http://pandas.pydata.org/pandas-docs/stable/indexing.html#indexing-view-versus-copy\n",
      "  self.obj[item] = s\n"
     ]
    },
    {
     "name": "stdout",
     "output_type": "stream",
     "text": [
      "KNN\n",
      "Decision Tree\n",
      "Naive Bayes\n",
      "SVM\n",
      "Gaussian Process\n",
      "Random Forest\n",
      "Neural Net\n",
      "AdaBoost\n",
      "Extra Trees Classifier\n"
     ]
    },
    {
     "data": {
      "text/html": [
       "<div>\n",
       "<table border=\"1\" class=\"dataframe\">\n",
       "  <thead>\n",
       "    <tr style=\"text-align: right;\">\n",
       "      <th></th>\n",
       "      <th>classifier name</th>\n",
       "      <th>Amish</th>\n",
       "    </tr>\n",
       "  </thead>\n",
       "  <tbody>\n",
       "    <tr>\n",
       "      <th>0</th>\n",
       "      <td>KNN</td>\n",
       "      <td>0.457526</td>\n",
       "    </tr>\n",
       "    <tr>\n",
       "      <th>1</th>\n",
       "      <td>Decision Tree</td>\n",
       "      <td>0.555429</td>\n",
       "    </tr>\n",
       "    <tr>\n",
       "      <th>2</th>\n",
       "      <td>Naive Bayes</td>\n",
       "      <td>0.498776</td>\n",
       "    </tr>\n",
       "    <tr>\n",
       "      <th>3</th>\n",
       "      <td>SVM</td>\n",
       "      <td>0.429498</td>\n",
       "    </tr>\n",
       "    <tr>\n",
       "      <th>4</th>\n",
       "      <td>Gaussian Process</td>\n",
       "      <td>0.497976</td>\n",
       "    </tr>\n",
       "    <tr>\n",
       "      <th>5</th>\n",
       "      <td>Random Forest</td>\n",
       "      <td>0.578568</td>\n",
       "    </tr>\n",
       "    <tr>\n",
       "      <th>6</th>\n",
       "      <td>Neural Net</td>\n",
       "      <td>0.508595</td>\n",
       "    </tr>\n",
       "    <tr>\n",
       "      <th>7</th>\n",
       "      <td>AdaBoost</td>\n",
       "      <td>0.631310</td>\n",
       "    </tr>\n",
       "    <tr>\n",
       "      <th>8</th>\n",
       "      <td>Extra Trees Classifier</td>\n",
       "      <td>0.533862</td>\n",
       "    </tr>\n",
       "  </tbody>\n",
       "</table>\n",
       "</div>"
      ],
      "text/plain": [
       "          classifier name     Amish\n",
       "0                     KNN  0.457526\n",
       "1           Decision Tree  0.555429\n",
       "2             Naive Bayes  0.498776\n",
       "3                     SVM  0.429498\n",
       "4        Gaussian Process  0.497976\n",
       "5           Random Forest  0.578568\n",
       "6              Neural Net  0.508595\n",
       "7                AdaBoost  0.631310\n",
       "8  Extra Trees Classifier  0.533862"
      ]
     },
     "execution_count": 61,
     "metadata": {},
     "output_type": "execute_result"
    }
   ],
   "source": [
    "#run on Amish studies\n",
    "X, y = parse.parse_dataset_X(amishMeta, amishBiom, True)\n",
    "dataframe = script.run_dataset('Amish', X, y)\n",
    "dataframe\n",
    "#end of Amish"
   ]
  },
  {
   "cell_type": "code",
   "execution_count": 5,
   "metadata": {
    "collapsed": false
   },
   "outputs": [
    {
     "name": "stderr",
     "output_type": "stream",
     "text": [
      "/home/barbarahe/anaconda3/lib/python3.5/site-packages/pandas/core/indexing.py:477: SettingWithCopyWarning: \n",
      "A value is trying to be set on a copy of a slice from a DataFrame.\n",
      "Try using .loc[row_indexer,col_indexer] = value instead\n",
      "\n",
      "See the caveats in the documentation: http://pandas.pydata.org/pandas-docs/stable/indexing.html#indexing-view-versus-copy\n",
      "  self.obj[item] = s\n"
     ]
    },
    {
     "name": "stdout",
     "output_type": "stream",
     "text": [
      "KNN\n",
      "Decision Tree\n",
      "Naive Bayes\n",
      "SVM\n",
      "Gaussian Process\n",
      "Random Forest\n",
      "Neural Net\n",
      "AdaBoost\n",
      "Extra Trees Classifier\n"
     ]
    },
    {
     "data": {
      "text/html": [
       "<div>\n",
       "<table border=\"1\" class=\"dataframe\">\n",
       "  <thead>\n",
       "    <tr style=\"text-align: right;\">\n",
       "      <th></th>\n",
       "      <th>classifier name</th>\n",
       "      <th>Yatsunenko</th>\n",
       "    </tr>\n",
       "  </thead>\n",
       "  <tbody>\n",
       "    <tr>\n",
       "      <th>0</th>\n",
       "      <td>KNN</td>\n",
       "      <td>0.572157</td>\n",
       "    </tr>\n",
       "    <tr>\n",
       "      <th>1</th>\n",
       "      <td>Decision Tree</td>\n",
       "      <td>0.514412</td>\n",
       "    </tr>\n",
       "    <tr>\n",
       "      <th>2</th>\n",
       "      <td>Naive Bayes</td>\n",
       "      <td>0.552320</td>\n",
       "    </tr>\n",
       "    <tr>\n",
       "      <th>3</th>\n",
       "      <td>SVM</td>\n",
       "      <td>0.500000</td>\n",
       "    </tr>\n",
       "    <tr>\n",
       "      <th>4</th>\n",
       "      <td>Gaussian Process</td>\n",
       "      <td>0.500000</td>\n",
       "    </tr>\n",
       "    <tr>\n",
       "      <th>5</th>\n",
       "      <td>Random Forest</td>\n",
       "      <td>0.561412</td>\n",
       "    </tr>\n",
       "    <tr>\n",
       "      <th>6</th>\n",
       "      <td>Neural Net</td>\n",
       "      <td>0.534314</td>\n",
       "    </tr>\n",
       "    <tr>\n",
       "      <th>7</th>\n",
       "      <td>AdaBoost</td>\n",
       "      <td>0.617778</td>\n",
       "    </tr>\n",
       "    <tr>\n",
       "      <th>8</th>\n",
       "      <td>Extra Trees Classifier</td>\n",
       "      <td>0.533850</td>\n",
       "    </tr>\n",
       "  </tbody>\n",
       "</table>\n",
       "</div>"
      ],
      "text/plain": [
       "          classifier name  Yatsunenko\n",
       "0                     KNN    0.572157\n",
       "1           Decision Tree    0.514412\n",
       "2             Naive Bayes    0.552320\n",
       "3                     SVM    0.500000\n",
       "4        Gaussian Process    0.500000\n",
       "5           Random Forest    0.561412\n",
       "6              Neural Net    0.534314\n",
       "7                AdaBoost    0.617778\n",
       "8  Extra Trees Classifier    0.533850"
      ]
     },
     "execution_count": 5,
     "metadata": {},
     "output_type": "execute_result"
    }
   ],
   "source": [
    "#run on Yatsunenko studies\n",
    "X, y = parse.parse_dataset_X(yatsunenkoMeta, yatsunenkoBiom, False)\n",
    "dataframe = script.run_dataset('Yatsunenko', X, y)\n",
    "dataframe\n",
    "#end of Yatsunenko"
   ]
  },
  {
   "cell_type": "code",
   "execution_count": 6,
   "metadata": {
    "collapsed": false
   },
   "outputs": [
    {
     "name": "stderr",
     "output_type": "stream",
     "text": [
      "/home/barbarahe/anaconda3/lib/python3.5/site-packages/pandas/core/indexing.py:477: SettingWithCopyWarning: \n",
      "A value is trying to be set on a copy of a slice from a DataFrame.\n",
      "Try using .loc[row_indexer,col_indexer] = value instead\n",
      "\n",
      "See the caveats in the documentation: http://pandas.pydata.org/pandas-docs/stable/indexing.html#indexing-view-versus-copy\n",
      "  self.obj[item] = s\n"
     ]
    },
    {
     "name": "stdout",
     "output_type": "stream",
     "text": [
      "KNN\n",
      "Decision Tree\n",
      "Naive Bayes\n",
      "SVM\n",
      "Gaussian Process\n",
      "Random Forest\n",
      "Neural Net\n",
      "AdaBoost\n",
      "Extra Trees Classifier\n"
     ]
    },
    {
     "data": {
      "text/html": [
       "<div>\n",
       "<table border=\"1\" class=\"dataframe\">\n",
       "  <thead>\n",
       "    <tr style=\"text-align: right;\">\n",
       "      <th></th>\n",
       "      <th>classifier name</th>\n",
       "      <th>HMP</th>\n",
       "    </tr>\n",
       "  </thead>\n",
       "  <tbody>\n",
       "    <tr>\n",
       "      <th>0</th>\n",
       "      <td>KNN</td>\n",
       "      <td>0.581061</td>\n",
       "    </tr>\n",
       "    <tr>\n",
       "      <th>1</th>\n",
       "      <td>Decision Tree</td>\n",
       "      <td>0.550379</td>\n",
       "    </tr>\n",
       "    <tr>\n",
       "      <th>2</th>\n",
       "      <td>Naive Bayes</td>\n",
       "      <td>0.503409</td>\n",
       "    </tr>\n",
       "    <tr>\n",
       "      <th>3</th>\n",
       "      <td>SVM</td>\n",
       "      <td>0.504672</td>\n",
       "    </tr>\n",
       "    <tr>\n",
       "      <th>4</th>\n",
       "      <td>Gaussian Process</td>\n",
       "      <td>0.479167</td>\n",
       "    </tr>\n",
       "    <tr>\n",
       "      <th>5</th>\n",
       "      <td>Random Forest</td>\n",
       "      <td>0.505455</td>\n",
       "    </tr>\n",
       "    <tr>\n",
       "      <th>6</th>\n",
       "      <td>Neural Net</td>\n",
       "      <td>0.572500</td>\n",
       "    </tr>\n",
       "    <tr>\n",
       "      <th>7</th>\n",
       "      <td>AdaBoost</td>\n",
       "      <td>0.395682</td>\n",
       "    </tr>\n",
       "    <tr>\n",
       "      <th>8</th>\n",
       "      <td>Extra Trees Classifier</td>\n",
       "      <td>0.457967</td>\n",
       "    </tr>\n",
       "  </tbody>\n",
       "</table>\n",
       "</div>"
      ],
      "text/plain": [
       "          classifier name       HMP\n",
       "0                     KNN  0.581061\n",
       "1           Decision Tree  0.550379\n",
       "2             Naive Bayes  0.503409\n",
       "3                     SVM  0.504672\n",
       "4        Gaussian Process  0.479167\n",
       "5           Random Forest  0.505455\n",
       "6              Neural Net  0.572500\n",
       "7                AdaBoost  0.395682\n",
       "8  Extra Trees Classifier  0.457967"
      ]
     },
     "execution_count": 6,
     "metadata": {},
     "output_type": "execute_result"
    }
   ],
   "source": [
    "#run on HMP studies\n",
    "X, y = parse.parse_dataset_X(HMPMeta, HMPBiom, False)\n",
    "dataframe = script.run_dataset('HMP', X, y)\n",
    "dataframe\n",
    "#end of HMP"
   ]
  }
 ],
 "metadata": {
  "anaconda-cloud": {},
  "kernelspec": {
   "display_name": "Python [conda root]",
   "language": "python",
   "name": "conda-root-py"
  },
  "language_info": {
   "codemirror_mode": {
    "name": "ipython",
    "version": 3
   },
   "file_extension": ".py",
   "mimetype": "text/x-python",
   "name": "python",
   "nbconvert_exporter": "python",
   "pygments_lexer": "ipython3",
   "version": "3.5.2"
  }
 },
 "nbformat": 4,
 "nbformat_minor": 1
}
