{
 "cells": [
  {
   "cell_type": "code",
   "execution_count": 24,
   "metadata": {
    "collapsed": true
   },
   "outputs": [],
   "source": [
    "#do parsing of 5 datasets here\n",
    "#call the function that loops through classifiers and creates table in other ntbk\n",
    "#modify to have parameter settings at the end\n",
    "\n",
    "#In order to run this file, must also download Parsing_Dataset and CLassifiers_Accuracies_Script (from git repo)"
   ]
  },
  {
   "cell_type": "code",
   "execution_count": 25,
   "metadata": {
    "collapsed": false
   },
   "outputs": [],
   "source": [
    "#import statements\n",
    "import biom\n",
    "import sklearn\n",
    "import pandas as pd\n",
    "import nbimporter # MUST DOWNLOAD THIS FROM ONLINE GIT (just google it and you will find it)\n",
    "from imp import reload\n",
    "import Parsing_Dataset as parse\n",
    "import Classifiers_Accuracies_Script as script"
   ]
  },
  {
   "cell_type": "code",
   "execution_count": 26,
   "metadata": {
    "collapsed": false
   },
   "outputs": [
    {
     "name": "stdout",
     "output_type": "stream",
     "text": [
      "importing Jupyter notebook from Parsing_Dataset.ipynb\n",
      "importing Jupyter notebook from Classifiers_Accuracies_Script.ipynb\n"
     ]
    },
    {
     "data": {
      "text/plain": [
       "<module 'Classifiers_Accuracies_Script' from 'Classifiers_Accuracies_Script.ipynb'>"
      ]
     },
     "execution_count": 26,
     "metadata": {},
     "output_type": "execute_result"
    }
   ],
   "source": [
    "# reload scripts and their definitions\n",
    "reload(parse)\n",
    "reload(script)"
   ]
  },
  {
   "cell_type": "code",
   "execution_count": null,
   "metadata": {
    "collapsed": true
   },
   "outputs": [],
   "source": [
    "#FILE NAMES (this is the part where everyone would need to modify indiviudally)\n",
    "\n",
    "#Turnbaugh\n",
    "turnbaughMeta = \"/home/barbarahe/Downloads/merged_bmi_mapping_final__original_study_Turnbaugh_mz_dz_twins__.txt\"\n",
    "turnbaughBiom = \"/home/barbarahe/Downloads/filtered_otu_table__original_study_Turnbaugh_mz_dz_twins__.biom\"\n",
    "\n",
    "#Wu dataset\n",
    "wuMeta = \"/home/barbarahe/Downloads/merged_bmi_mapping_final__original_study_COMBO_Wu__.txt\"\n",
    "wuBiom = \"/home/barbarahe/Downloads/filtered_otu_table__original_study_COMBO_Wu__.biom\"\n",
    "\n",
    "#Amish dataset\n",
    "amishMeta = \"/home/barbarahe/merged_bmi_mapping_final__original_study_amish_Fraser__.txt\"\n",
    "amishBiom = \"/home/barbarahe/filtered_otu_table__original_study_amish_Fraser__.biom\""
   ]
  },
  {
   "cell_type": "code",
   "execution_count": null,
   "metadata": {
    "collapsed": false
   },
   "outputs": [
    {
     "name": "stderr",
     "output_type": "stream",
     "text": [
      "/home/barbarahe/anaconda3/lib/python3.5/site-packages/pandas/core/indexing.py:477: SettingWithCopyWarning: \n",
      "A value is trying to be set on a copy of a slice from a DataFrame.\n",
      "Try using .loc[row_indexer,col_indexer] = value instead\n",
      "\n",
      "See the caveats in the documentation: http://pandas.pydata.org/pandas-docs/stable/indexing.html#indexing-view-versus-copy\n",
      "  self.obj[item] = s\n"
     ]
    },
    {
     "name": "stdout",
     "output_type": "stream",
     "text": [
      "KNN\n"
     ]
    }
   ],
   "source": [
    "#run on Turnbaugh studies\n",
    "X, y = parse.parse_dataset_X(turnbaughMeta, turnbaughBiom, False)\n",
    "dataframe = script.run_dataset('Turnbaugh', X, y)\n",
    "dataframe\n",
    "#end of Taunbaugh"
   ]
  },
  {
   "cell_type": "code",
   "execution_count": null,
   "metadata": {
    "collapsed": true
   },
   "outputs": [],
   "source": [
    "#run on Wu studies\n",
    "X, y = parse.parse_dataset_X(wuMeta, wuBiom, False)\n",
    "dataframe = script.run_dataset('Wu', X, y)\n",
    "dataframe\n",
    "#end of Wu"
   ]
  },
  {
   "cell_type": "code",
   "execution_count": null,
   "metadata": {
    "collapsed": true
   },
   "outputs": [],
   "source": [
    "#run on Amish studies\n",
    "X, y = parse.parse_dataset_X(amishMeta, amishBiom, True)\n",
    "dataframe = script.run_dataset('Amish', X, y)\n",
    "dataframe\n",
    "#end of Amish"
   ]
  }
 ],
 "metadata": {
  "anaconda-cloud": {},
  "kernelspec": {
   "display_name": "Python [conda root]",
   "language": "python",
   "name": "conda-root-py"
  },
  "language_info": {
   "codemirror_mode": {
    "name": "ipython",
    "version": 3
   },
   "file_extension": ".py",
   "mimetype": "text/x-python",
   "name": "python",
   "nbconvert_exporter": "python",
   "pygments_lexer": "ipython3",
   "version": "3.5.2"
  }
 },
 "nbformat": 4,
 "nbformat_minor": 1
}
