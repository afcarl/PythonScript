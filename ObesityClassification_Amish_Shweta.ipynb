{
 "cells": [
  {
   "cell_type": "code",
   "execution_count": 1,
   "metadata": {
    "collapsed": true
   },
   "outputs": [],
   "source": [
    "#Random Forest algorithm\n",
    "#replicate findings from Walters et al 2014"
   ]
  },
  {
   "cell_type": "code",
   "execution_count": 2,
   "metadata": {
    "collapsed": true
   },
   "outputs": [],
   "source": [
    "import io, os, sys, types\n",
    "from IPython import get_ipython\n",
    "from nbformat import read\n",
    "from IPython.core.interactiveshell import InteractiveShell\n",
    "\n",
    "import biom\n",
    "import sklearn\n",
    "import pandas as pd"
   ]
  },
  {
   "cell_type": "code",
   "execution_count": 3,
   "metadata": {
    "collapsed": true
   },
   "outputs": [],
   "source": [
    "#Amish dataset\n",
    "text_file = \"/home/blooh/ersp/merged_bmi_mapping_final__original_study_amish_Fraser__.txt\"\n",
    "biom_file = \"/home/blooh/ersp/filtered_otu_table__original_study_amish_Fraser__.biom\""
   ]
  },
  {
   "cell_type": "code",
   "execution_count": 4,
   "metadata": {
    "collapsed": false
   },
   "outputs": [],
   "source": [
    "m = pd.read_csv(text_file, sep=\"\\t\", index_col=0)"
   ]
  },
  {
   "cell_type": "code",
   "execution_count": 5,
   "metadata": {
    "collapsed": false
   },
   "outputs": [
    {
     "data": {
      "text/plain": [
       "Index([u'BarcodeSequence', u'LinkerPrimerSequence', u'BMI',\n",
       "       u'bmi_group_binned', u'bmi_group_coded', u'original_study',\n",
       "       u'combined_study_bmi_group', u'PCR_PRIMERS', u'TARGET_SUBFRAGMENT',\n",
       "       u'AGE', u'ELEVATION', u'LONGITUDE', u'COUNTRY', u'SEQUENCING_METH',\n",
       "       u'SAMPLE_CENTER', u'Description_duplicate', u'ReversePrimer',\n",
       "       u'COLLECTION_DATE', u'SEX', u'FAMILY_RELATIONSHIP_GG', u'STUDY_CENTER',\n",
       "       u'EXPERIMENT_CENTER', u'bmi_group_amish', u'RUN_CENTER', u'LATITUDE',\n",
       "       u'Description'],\n",
       "      dtype='object')"
      ]
     },
     "execution_count": 5,
     "metadata": {},
     "output_type": "execute_result"
    }
   ],
   "source": [
    "m.columns"
   ]
  },
  {
   "cell_type": "code",
   "execution_count": 6,
   "metadata": {
    "collapsed": false
   },
   "outputs": [
    {
     "data": {
      "text/plain": [
       "Int64Index([  1,   6,  16,  18,  32,  35,  53,  54,  60,  64,\n",
       "            ...\n",
       "            471, 473, 475, 476, 481, 482, 488, 595, 598, 599],\n",
       "           dtype='int64', name=u'#SampleID', length=325)"
      ]
     },
     "execution_count": 6,
     "metadata": {},
     "output_type": "execute_result"
    }
   ],
   "source": [
    "m.index\n"
   ]
  },
  {
   "cell_type": "code",
   "execution_count": 7,
   "metadata": {
    "collapsed": false
   },
   "outputs": [],
   "source": [
    "b= biom.load_table(biom_file)\n"
   ]
  },
  {
   "cell_type": "code",
   "execution_count": 8,
   "metadata": {
    "collapsed": false
   },
   "outputs": [
    {
     "name": "stdout",
     "output_type": "stream",
     "text": [
      "1\n"
     ]
    },
    {
     "name": "stderr",
     "output_type": "stream",
     "text": [
      "/home/blooh/.local/lib/python2.7/site-packages/pandas/core/indexing.py:477: SettingWithCopyWarning: \n",
      "A value is trying to be set on a copy of a slice from a DataFrame.\n",
      "Try using .loc[row_indexer,col_indexer] = value instead\n",
      "\n",
      "See the caveats in the documentation: http://pandas.pydata.org/pandas-docs/stable/indexing.html#indexing-view-versus-copy\n",
      "  self.obj[item] = s\n"
     ]
    }
   ],
   "source": [
    "#select only samples that fit LEAN OR OBESE\n",
    "i = m[m.bmi_group_coded != \"Overweight\"].index\n",
    "print(i[0])\n",
    "i_2 = m[m.bmi_group_coded != \"Overweight\"]\n",
    "\n",
    "i_2.loc[i_2.bmi_group_binned == 3, 'bmi_group_binned'] = 0\n",
    "#print(i_2)"
   ]
  },
  {
   "cell_type": "code",
   "execution_count": 9,
   "metadata": {
    "collapsed": false
   },
   "outputs": [],
   "source": [
    "writer = pd.ExcelWriter('biom_original_1.xlsx', engine='xlsxwriter')\n",
    "\n"
   ]
  },
  {
   "cell_type": "code",
   "execution_count": 10,
   "metadata": {
    "collapsed": false
   },
   "outputs": [
    {
     "name": "stdout",
     "output_type": "stream",
     "text": [
      "     304309  193008  190299  191393  193061  186596  174924  296166  177792  \\\n",
      "274       1       0       0       0       0       0       0       0      45   \n",
      "35        0       1       0       0       0       0       2       0       0   \n",
      "360       0       1       0       0       0       0       0       0       0   \n",
      "347       0       1       2       0       0       0       0       0       0   \n",
      "349       0       2       1       0       0       0       0       0       0   \n",
      "329       0       0       2       0       0       0       0       0      10   \n",
      "336       0       0       3       0       0       0       1       0       0   \n",
      "132       0       0       2       0       0       0       0       0      29   \n",
      "171       0       0       1       0       0       0       0       0       0   \n",
      "148       0       0       1       0       0       0       0       0       1   \n",
      "443       0       0       1       0       0       1       0       0       2   \n",
      "435       0       0       1       0       0       0       0       0       3   \n",
      "239       0       0      29       0       0       1       0       0      40   \n",
      "22        0       0      13       0       0       0       0       5       0   \n",
      "221       0       0       1       0       0       0       0       0       0   \n",
      "309       0       0      18       0       0       0       0       0       7   \n",
      "251       0       0       1       0       0       0       1       0       1   \n",
      "31        0       0       4       0       0       0       0       0       1   \n",
      "450       0       0       2       0       0       0       1       1       6   \n",
      "279       0       0       5       0       0       0       0       0       0   \n",
      "273       0       0       2       0       0       0       0       0       0   \n",
      "318       0       0       1       0       0       0       0       0     124   \n",
      "370       0       0       1       0       0       0       0       0       0   \n",
      "344       0       0       4       0       0       0       0       0       0   \n",
      "317       0       0       1       0       0       0       0       0       0   \n",
      "264       0       0       1       3       0       0       0       0       0   \n",
      "193       0       0       1       0       0       0       0       1       0   \n",
      "46        0       0       3      23       0       0       0       0       0   \n",
      "237       0       0       5       0       0       0       0       0       0   \n",
      "57        0       0       5       0       0       0       0       0       0   \n",
      "..      ...     ...     ...     ...     ...     ...     ...     ...     ...   \n",
      "594       0       0       0       0       0       0       0       0       0   \n",
      "121       0       0       0       0       0       0       0       0       0   \n",
      "64        0       0       0       0       0       0       0       0       0   \n",
      "346       0       0       0       0       0       0       0       0       0   \n",
      "398       0       0       0       0       0       0       0       0       0   \n",
      "90        0       0       0       0       0       0       0       0       0   \n",
      "111       0       0       0       0       0       0       0       0       0   \n",
      "482       0       0       0       0       0       0       0       0       0   \n",
      "96        0       0       0       0       0       0       0       0       0   \n",
      "7         0       0       0       0       0       0       0       0       0   \n",
      "316       0       0       0       0       0       0       0       0       0   \n",
      "469       0       0       0       0       0       0       0       0       0   \n",
      "275       0       0       0       0       0       0       0       0       0   \n",
      "282       0       0       0       0       0       0       0       0       0   \n",
      "406       0       0       0       0       0       0       0       0       0   \n",
      "124       0       0       0       0       0       0       0       0       0   \n",
      "80        0       0       0       0       0       0       0       0       0   \n",
      "205       0       0       0       0       0       0       0       0       0   \n",
      "89        0       0       0       0       0       0       0       0       0   \n",
      "477       0       0       0       0       0       0       0       0       0   \n",
      "180       0       0       0       0       0       0       0       0       0   \n",
      "409       0       0       0       0       0       0       0       0       0   \n",
      "312       0       0       0       0       0       0       0       0       0   \n",
      "268       0       0       0       0       0       0       0       0       0   \n",
      "160       0       0       0       0       0       0       0       0       0   \n",
      "396       0       0       0       0       0       0       0       0       0   \n",
      "202       0       0       0       0       0       0       0       0       0   \n",
      "18        0       0       0       0       0       0       0       0       0   \n",
      "348       0       0       0       0       0       0       0       0       0   \n",
      "91        0       0       0       0       0       0       0       0       0   \n",
      "\n",
      "     337735  ...    230389  521586  207610  239867  310499  131845  4306049  \\\n",
      "274       0  ...         0       0       0       0       0       0        0   \n",
      "35        0  ...         0       0       0       0       0       0        0   \n",
      "360       0  ...         0       0       0       0       0       0        0   \n",
      "347       0  ...         0       0       0       0       0       0        0   \n",
      "349       5  ...         0       0       0       0       0       0        0   \n",
      "329       0  ...         0       0       0       0       0       0        0   \n",
      "336       0  ...         0       0       0       0       0       0        0   \n",
      "132       5  ...         0       0       0       0       0       0        0   \n",
      "171       0  ...         0       0       0       0       0       0        0   \n",
      "148       0  ...         0       0       0       0       0       0        0   \n",
      "443       0  ...         0       0       0       0       0       0        0   \n",
      "435       0  ...         0       0       0       0       0       0        0   \n",
      "239       0  ...         0       0       0       0       0       0        0   \n",
      "22        0  ...         0       0       0       0       0       0        0   \n",
      "221       0  ...         0       0       0       0       0       0        0   \n",
      "309       0  ...         0       0       0       0       0       0        0   \n",
      "251       0  ...         0       0       0       0       0       0        0   \n",
      "31        0  ...         0       0       0       0       0       0        0   \n",
      "450       0  ...         0       0       0       0       0       0        0   \n",
      "279       0  ...         0       0       0       0       0       0        0   \n",
      "273       1  ...         0       0       0       0       0       0        0   \n",
      "318       0  ...         0       0       0       0       0       0        0   \n",
      "370       0  ...         0       0       0       0       0       0        0   \n",
      "344       0  ...         0       0       0       0       0       0        0   \n",
      "317       0  ...         0       0       0       0       0       0        0   \n",
      "264       0  ...         0       0       0       0       0       0        0   \n",
      "193       2  ...         0       0       0       0       0       0        0   \n",
      "46        0  ...         0       0       0       0       0       0        0   \n",
      "237       0  ...         0       0       0       0       0       0        0   \n",
      "57        0  ...         0       0       0       0       0       0        0   \n",
      "..      ...  ...       ...     ...     ...     ...     ...     ...      ...   \n",
      "594       0  ...         0       0       0       0       0       0        0   \n",
      "121       0  ...         0       0       0       0       0       0        0   \n",
      "64        0  ...         0       0       0       0       0       0        0   \n",
      "346       0  ...         0       0       0       0       0       0        0   \n",
      "398       0  ...         0       0       0       0       0       0        0   \n",
      "90        0  ...         0       0       0       0       0       0        0   \n",
      "111       0  ...         0       0       0       0       0       0        0   \n",
      "482       0  ...         0       0       0       0       0       0        0   \n",
      "96        0  ...         0       0       0       0       0       0        0   \n",
      "7         0  ...         0       0       0       0       0       0        0   \n",
      "316       0  ...         0       0       0       0       0       0        0   \n",
      "469       0  ...         0       0       0       0       0       0        0   \n",
      "275       0  ...         0       0       0       0       0       0        0   \n",
      "282       0  ...         0       0       0       0       0       0        0   \n",
      "406       0  ...         0       0       0       0       0       0        0   \n",
      "124       0  ...         0       0       0       0       0       0        0   \n",
      "80        0  ...         0       0       0       0       0       0        0   \n",
      "205       0  ...         0       0       0       0       0       0        0   \n",
      "89        0  ...         0       0       0       0       0       0        0   \n",
      "477       0  ...         0       0       0       0       0       0        0   \n",
      "180       0  ...         0       0       0       0       0       0        0   \n",
      "409       0  ...         0       0       0       0       0       0        0   \n",
      "312       0  ...         0       0       0       0       0       0        0   \n",
      "268       0  ...         0       0       0       0       0       0        0   \n",
      "160       0  ...         0       0       0       0       0       0        0   \n",
      "396       0  ...         0       0       0       0       0       0        0   \n",
      "202       0  ...         0       0       0       0       0       0        0   \n",
      "18        0  ...         0       0       0       0       0       0        0   \n",
      "348       0  ...         0       0       0       0       0       0        0   \n",
      "91        0  ...         0       0       0       0       0       0        0   \n",
      "\n",
      "     303554  625671  38344  \n",
      "274       0       0      0  \n",
      "35        0       0      0  \n",
      "360       0       0      0  \n",
      "347       0       0      0  \n",
      "349       0       0      0  \n",
      "329       0       0      0  \n",
      "336       0       0      0  \n",
      "132       0       0      0  \n",
      "171       0       0      0  \n",
      "148       0       0      0  \n",
      "443       0       0      0  \n",
      "435       0       0      0  \n",
      "239       0       0      0  \n",
      "22        0       0      0  \n",
      "221       0       0      0  \n",
      "309       0       0      0  \n",
      "251       0       0      0  \n",
      "31        0       0      0  \n",
      "450       0       0      0  \n",
      "279       0       0      0  \n",
      "273       0       0      0  \n",
      "318       0       0      0  \n",
      "370       0       0      0  \n",
      "344       0       0      0  \n",
      "317       0       0      0  \n",
      "264       0       0      0  \n",
      "193       0       0      0  \n",
      "46        0       0      0  \n",
      "237       0       0      0  \n",
      "57        0       0      0  \n",
      "..      ...     ...    ...  \n",
      "594       0       0      0  \n",
      "121       0       0      0  \n",
      "64        0       0      0  \n",
      "346       0       0      0  \n",
      "398       0       0      0  \n",
      "90        0       0      0  \n",
      "111       0       0      0  \n",
      "482       0       0      0  \n",
      "96        0       0      0  \n",
      "7         0       0      0  \n",
      "316       0       0      0  \n",
      "469       0       0      0  \n",
      "275       0       0      0  \n",
      "282       0       0      0  \n",
      "406       0       0      0  \n",
      "124       0       0      0  \n",
      "80        0       0      0  \n",
      "205       0       0      0  \n",
      "89        0       0      0  \n",
      "477       0       0      0  \n",
      "180       0       0      0  \n",
      "409       0       0      0  \n",
      "312       0       0      0  \n",
      "268       0       0      0  \n",
      "160       0       0      0  \n",
      "396       0       0      0  \n",
      "202       0       0      0  \n",
      "18        0       0      0  \n",
      "348       0       0      0  \n",
      "91        0       0      0  \n",
      "\n",
      "[325 rows x 27400 columns]\n"
     ]
    }
   ],
   "source": [
    "p = pd.DataFrame(b.matrix_data.T.todense().astype(int), index=b.ids(axis=\"sample\"), columns=b.ids(axis=\"observation\"))\n",
    "print(p)"
   ]
  },
  {
   "cell_type": "code",
   "execution_count": 11,
   "metadata": {
    "collapsed": false
   },
   "outputs": [],
   "source": [
    "# Convert the dataframe to an XlsxWriter Excel object.\n",
    "p.to_excel(writer, sheet_name='Sheet1')\n",
    "\n",
    "# Close the Pandas Excel writer and output the Excel file.\n",
    "writer.save()"
   ]
  },
  {
   "cell_type": "code",
   "execution_count": 12,
   "metadata": {
    "collapsed": false
   },
   "outputs": [
    {
     "ename": "IOError",
     "evalue": "File /Users/shwetakinger/biom_original_1.csv does not exist",
     "output_type": "error",
     "traceback": [
      "\u001b[0;31m---------------------------------------------------------------------------\u001b[0m",
      "\u001b[0;31mIOError\u001b[0m                                   Traceback (most recent call last)",
      "\u001b[0;32m<ipython-input-12-1265188cde6f>\u001b[0m in \u001b[0;36m<module>\u001b[0;34m()\u001b[0m\n\u001b[1;32m      1\u001b[0m \u001b[0;31m# load sorted file\u001b[0m\u001b[0;34m\u001b[0m\u001b[0;34m\u001b[0m\u001b[0m\n\u001b[0;32m----> 2\u001b[0;31m \u001b[0msorted_m\u001b[0m \u001b[0;34m=\u001b[0m \u001b[0mpd\u001b[0m\u001b[0;34m.\u001b[0m\u001b[0mread_csv\u001b[0m\u001b[0;34m(\u001b[0m\u001b[0;34m\"/Users/shwetakinger/biom_original_1.csv\"\u001b[0m\u001b[0;34m,\u001b[0m \u001b[0mindex_col\u001b[0m\u001b[0;34m=\u001b[0m\u001b[0;36m0\u001b[0m\u001b[0;34m)\u001b[0m\u001b[0;34m\u001b[0m\u001b[0m\n\u001b[0m\u001b[1;32m      3\u001b[0m \u001b[0;32mprint\u001b[0m\u001b[0;34m(\u001b[0m\u001b[0msorted_m\u001b[0m\u001b[0;34m)\u001b[0m\u001b[0;34m\u001b[0m\u001b[0m\n",
      "\u001b[0;32m/home/blooh/.local/lib/python2.7/site-packages/pandas/io/parsers.pyc\u001b[0m in \u001b[0;36mparser_f\u001b[0;34m(filepath_or_buffer, sep, delimiter, header, names, index_col, usecols, squeeze, prefix, mangle_dupe_cols, dtype, engine, converters, true_values, false_values, skipinitialspace, skiprows, nrows, na_values, keep_default_na, na_filter, verbose, skip_blank_lines, parse_dates, infer_datetime_format, keep_date_col, date_parser, dayfirst, iterator, chunksize, compression, thousands, decimal, lineterminator, quotechar, quoting, escapechar, comment, encoding, dialect, tupleize_cols, error_bad_lines, warn_bad_lines, skipfooter, skip_footer, doublequote, delim_whitespace, as_recarray, compact_ints, use_unsigned, low_memory, buffer_lines, memory_map, float_precision)\u001b[0m\n\u001b[1;32m    644\u001b[0m                     skip_blank_lines=skip_blank_lines)\n\u001b[1;32m    645\u001b[0m \u001b[0;34m\u001b[0m\u001b[0m\n\u001b[0;32m--> 646\u001b[0;31m         \u001b[0;32mreturn\u001b[0m \u001b[0m_read\u001b[0m\u001b[0;34m(\u001b[0m\u001b[0mfilepath_or_buffer\u001b[0m\u001b[0;34m,\u001b[0m \u001b[0mkwds\u001b[0m\u001b[0;34m)\u001b[0m\u001b[0;34m\u001b[0m\u001b[0m\n\u001b[0m\u001b[1;32m    647\u001b[0m \u001b[0;34m\u001b[0m\u001b[0m\n\u001b[1;32m    648\u001b[0m     \u001b[0mparser_f\u001b[0m\u001b[0;34m.\u001b[0m\u001b[0m__name__\u001b[0m \u001b[0;34m=\u001b[0m \u001b[0mname\u001b[0m\u001b[0;34m\u001b[0m\u001b[0m\n",
      "\u001b[0;32m/home/blooh/.local/lib/python2.7/site-packages/pandas/io/parsers.pyc\u001b[0m in \u001b[0;36m_read\u001b[0;34m(filepath_or_buffer, kwds)\u001b[0m\n\u001b[1;32m    387\u001b[0m \u001b[0;34m\u001b[0m\u001b[0m\n\u001b[1;32m    388\u001b[0m     \u001b[0;31m# Create the parser.\u001b[0m\u001b[0;34m\u001b[0m\u001b[0;34m\u001b[0m\u001b[0m\n\u001b[0;32m--> 389\u001b[0;31m     \u001b[0mparser\u001b[0m \u001b[0;34m=\u001b[0m \u001b[0mTextFileReader\u001b[0m\u001b[0;34m(\u001b[0m\u001b[0mfilepath_or_buffer\u001b[0m\u001b[0;34m,\u001b[0m \u001b[0;34m**\u001b[0m\u001b[0mkwds\u001b[0m\u001b[0;34m)\u001b[0m\u001b[0;34m\u001b[0m\u001b[0m\n\u001b[0m\u001b[1;32m    390\u001b[0m \u001b[0;34m\u001b[0m\u001b[0m\n\u001b[1;32m    391\u001b[0m     \u001b[0;32mif\u001b[0m \u001b[0;34m(\u001b[0m\u001b[0mnrows\u001b[0m \u001b[0;32mis\u001b[0m \u001b[0;32mnot\u001b[0m \u001b[0mNone\u001b[0m\u001b[0;34m)\u001b[0m \u001b[0;32mand\u001b[0m \u001b[0;34m(\u001b[0m\u001b[0mchunksize\u001b[0m \u001b[0;32mis\u001b[0m \u001b[0;32mnot\u001b[0m \u001b[0mNone\u001b[0m\u001b[0;34m)\u001b[0m\u001b[0;34m:\u001b[0m\u001b[0;34m\u001b[0m\u001b[0m\n",
      "\u001b[0;32m/home/blooh/.local/lib/python2.7/site-packages/pandas/io/parsers.pyc\u001b[0m in \u001b[0;36m__init__\u001b[0;34m(self, f, engine, **kwds)\u001b[0m\n\u001b[1;32m    728\u001b[0m             \u001b[0mself\u001b[0m\u001b[0;34m.\u001b[0m\u001b[0moptions\u001b[0m\u001b[0;34m[\u001b[0m\u001b[0;34m'has_index_names'\u001b[0m\u001b[0;34m]\u001b[0m \u001b[0;34m=\u001b[0m \u001b[0mkwds\u001b[0m\u001b[0;34m[\u001b[0m\u001b[0;34m'has_index_names'\u001b[0m\u001b[0;34m]\u001b[0m\u001b[0;34m\u001b[0m\u001b[0m\n\u001b[1;32m    729\u001b[0m \u001b[0;34m\u001b[0m\u001b[0m\n\u001b[0;32m--> 730\u001b[0;31m         \u001b[0mself\u001b[0m\u001b[0;34m.\u001b[0m\u001b[0m_make_engine\u001b[0m\u001b[0;34m(\u001b[0m\u001b[0mself\u001b[0m\u001b[0;34m.\u001b[0m\u001b[0mengine\u001b[0m\u001b[0;34m)\u001b[0m\u001b[0;34m\u001b[0m\u001b[0m\n\u001b[0m\u001b[1;32m    731\u001b[0m \u001b[0;34m\u001b[0m\u001b[0m\n\u001b[1;32m    732\u001b[0m     \u001b[0;32mdef\u001b[0m \u001b[0mclose\u001b[0m\u001b[0;34m(\u001b[0m\u001b[0mself\u001b[0m\u001b[0;34m)\u001b[0m\u001b[0;34m:\u001b[0m\u001b[0;34m\u001b[0m\u001b[0m\n",
      "\u001b[0;32m/home/blooh/.local/lib/python2.7/site-packages/pandas/io/parsers.pyc\u001b[0m in \u001b[0;36m_make_engine\u001b[0;34m(self, engine)\u001b[0m\n\u001b[1;32m    921\u001b[0m     \u001b[0;32mdef\u001b[0m \u001b[0m_make_engine\u001b[0m\u001b[0;34m(\u001b[0m\u001b[0mself\u001b[0m\u001b[0;34m,\u001b[0m \u001b[0mengine\u001b[0m\u001b[0;34m=\u001b[0m\u001b[0;34m'c'\u001b[0m\u001b[0;34m)\u001b[0m\u001b[0;34m:\u001b[0m\u001b[0;34m\u001b[0m\u001b[0m\n\u001b[1;32m    922\u001b[0m         \u001b[0;32mif\u001b[0m \u001b[0mengine\u001b[0m \u001b[0;34m==\u001b[0m \u001b[0;34m'c'\u001b[0m\u001b[0;34m:\u001b[0m\u001b[0;34m\u001b[0m\u001b[0m\n\u001b[0;32m--> 923\u001b[0;31m             \u001b[0mself\u001b[0m\u001b[0;34m.\u001b[0m\u001b[0m_engine\u001b[0m \u001b[0;34m=\u001b[0m \u001b[0mCParserWrapper\u001b[0m\u001b[0;34m(\u001b[0m\u001b[0mself\u001b[0m\u001b[0;34m.\u001b[0m\u001b[0mf\u001b[0m\u001b[0;34m,\u001b[0m \u001b[0;34m**\u001b[0m\u001b[0mself\u001b[0m\u001b[0;34m.\u001b[0m\u001b[0moptions\u001b[0m\u001b[0;34m)\u001b[0m\u001b[0;34m\u001b[0m\u001b[0m\n\u001b[0m\u001b[1;32m    924\u001b[0m         \u001b[0;32melse\u001b[0m\u001b[0;34m:\u001b[0m\u001b[0;34m\u001b[0m\u001b[0m\n\u001b[1;32m    925\u001b[0m             \u001b[0;32mif\u001b[0m \u001b[0mengine\u001b[0m \u001b[0;34m==\u001b[0m \u001b[0;34m'python'\u001b[0m\u001b[0;34m:\u001b[0m\u001b[0;34m\u001b[0m\u001b[0m\n",
      "\u001b[0;32m/home/blooh/.local/lib/python2.7/site-packages/pandas/io/parsers.pyc\u001b[0m in \u001b[0;36m__init__\u001b[0;34m(self, src, **kwds)\u001b[0m\n\u001b[1;32m   1388\u001b[0m         \u001b[0mkwds\u001b[0m\u001b[0;34m[\u001b[0m\u001b[0;34m'allow_leading_cols'\u001b[0m\u001b[0;34m]\u001b[0m \u001b[0;34m=\u001b[0m \u001b[0mself\u001b[0m\u001b[0;34m.\u001b[0m\u001b[0mindex_col\u001b[0m \u001b[0;32mis\u001b[0m \u001b[0;32mnot\u001b[0m \u001b[0mFalse\u001b[0m\u001b[0;34m\u001b[0m\u001b[0m\n\u001b[1;32m   1389\u001b[0m \u001b[0;34m\u001b[0m\u001b[0m\n\u001b[0;32m-> 1390\u001b[0;31m         \u001b[0mself\u001b[0m\u001b[0;34m.\u001b[0m\u001b[0m_reader\u001b[0m \u001b[0;34m=\u001b[0m \u001b[0m_parser\u001b[0m\u001b[0;34m.\u001b[0m\u001b[0mTextReader\u001b[0m\u001b[0;34m(\u001b[0m\u001b[0msrc\u001b[0m\u001b[0;34m,\u001b[0m \u001b[0;34m**\u001b[0m\u001b[0mkwds\u001b[0m\u001b[0;34m)\u001b[0m\u001b[0;34m\u001b[0m\u001b[0m\n\u001b[0m\u001b[1;32m   1391\u001b[0m \u001b[0;34m\u001b[0m\u001b[0m\n\u001b[1;32m   1392\u001b[0m         \u001b[0;31m# XXX\u001b[0m\u001b[0;34m\u001b[0m\u001b[0;34m\u001b[0m\u001b[0m\n",
      "\u001b[0;32mpandas/parser.pyx\u001b[0m in \u001b[0;36mpandas.parser.TextReader.__cinit__ (pandas/parser.c:4184)\u001b[0;34m()\u001b[0m\n",
      "\u001b[0;32mpandas/parser.pyx\u001b[0m in \u001b[0;36mpandas.parser.TextReader._setup_parser_source (pandas/parser.c:8449)\u001b[0;34m()\u001b[0m\n",
      "\u001b[0;31mIOError\u001b[0m: File /Users/shwetakinger/biom_original_1.csv does not exist"
     ]
    }
   ],
   "source": [
    "# load sorted file\n",
    "sorted_m = pd.read_csv(\"/Users/shwetakinger/biom_original_1.csv\", index_col=0)\n",
    "print(sorted_m)"
   ]
  },
  {
   "cell_type": "code",
   "execution_count": null,
   "metadata": {
    "collapsed": false
   },
   "outputs": [],
   "source": [
    "#sorted_m.index.get_loc(6)\n",
    "#sorted_m.iloc[[4]]\n",
    "\n",
    "data = pd.DataFrame([])\n",
    "for n in range(0, 222):\n",
    "    #print(n)\n",
    "    num = sorted_m.index.get_loc(i[n])\n",
    "    data = data.append(sorted_m.iloc[[num]])\n",
    "    \n",
    "print(data)\n"
   ]
  },
  {
   "cell_type": "code",
   "execution_count": null,
   "metadata": {
    "collapsed": false
   },
   "outputs": [],
   "source": [
    "from sklearn import model_selection\n",
    "from sklearn.ensemble import RandomForestClassifier\n"
   ]
  },
  {
   "cell_type": "code",
   "execution_count": null,
   "metadata": {
    "collapsed": false
   },
   "outputs": [],
   "source": [
    "from sklearn.cross_validation import cross_val_score\n",
    "from sklearn.metrics import confusion_matrix\n",
    "from sklearn.model_selection import cross_val_predict\n",
    "iter_range = range(1, 6)\n",
    "# empty list to store scores\n",
    "rForest_scores = []\n",
    "average_accuracy = 0.0;\n",
    "\n",
    "for i in iter_range:\n",
    "    classifier = RandomForestClassifier(n_estimators=1000)\n",
    "    #cross-validation score\n",
    "    #scores = cross_val_score(classifier, c.fillna(0).as_matrix(), i_2.bmi_group_coded, cv=10, scoring='accuracy')\n",
    "    predicted = cross_val_predict(classifier, data, i_2.bmi_group_binned, cv=10)\n",
    "    #cross-validation AUC score\n",
    "    #scores = cross_val_score(classifier, c.fillna(0).as_matrix(), i_2.bmi_group_binned, cv=10, scoring='roc_auc')\n",
    "    #rForest_scores.append(scores.mean())\n",
    "    #average_accuracy+=scores.mean()\n",
    "    print(confusion_matrix(i_2.bmi_group_binned, predicted))\n",
    "\n",
    "#print(rForest_scores)\n",
    "#print(average_accuracy/(5.0))"
   ]
  },
  {
   "cell_type": "code",
   "execution_count": null,
   "metadata": {
    "collapsed": false
   },
   "outputs": [],
   "source": [
    "from sklearn.cross_validation import cross_val_score\n",
    "iter_range = range(1, 6)\n",
    "# empty list to store scores\n",
    "rForest_scores = []\n",
    "average_accuracy = 0.0;\n",
    "\n",
    "for i in iter_range:\n",
    "    classifier = RandomForestClassifier(n_estimators=1000)\n",
    "    #cross-validation score\n",
    "    #scores = cross_val_score(classifier, c.fillna(0).as_matrix(), i_2.bmi_group_coded, cv=10, scoring='accuracy')\n",
    "    #cross-validation AUC score\n",
    "    scores = cross_val_score(classifier, data, i_2.bmi_group_binned, cv=10, scoring='roc_auc')\n",
    "    rForest_scores.append(scores.mean())\n",
    "    average_accuracy+=scores.mean()\n",
    "\n",
    "print(rForest_scores)\n",
    "print(average_accuracy/(5.0))"
   ]
  },
  {
   "cell_type": "code",
   "execution_count": null,
   "metadata": {
    "collapsed": true
   },
   "outputs": [],
   "source": []
  }
 ],
 "metadata": {
  "anaconda-cloud": {},
  "kernelspec": {
   "display_name": "Python 2",
   "language": "python",
   "name": "python2"
  },
  "language_info": {
   "codemirror_mode": {
    "name": "ipython",
    "version": 2
   },
   "file_extension": ".py",
   "mimetype": "text/x-python",
   "name": "python",
   "nbconvert_exporter": "python",
   "pygments_lexer": "ipython2",
   "version": "2.7.12"
  }
 },
 "nbformat": 4,
 "nbformat_minor": 1
}
