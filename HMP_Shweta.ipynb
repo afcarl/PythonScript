{
 "cells": [
  {
   "cell_type": "code",
   "execution_count": 1,
   "metadata": {
    "collapsed": true
   },
   "outputs": [],
   "source": [
    "#Random Forest algorithm\n",
    "#replicate findings from Walters et al 2014"
   ]
  },
  {
   "cell_type": "code",
   "execution_count": 9,
   "metadata": {
    "collapsed": true
   },
   "outputs": [],
   "source": [
    "#import io, os, sys, types\n",
    "#from IPython import get_ipython\n",
    "#from nbformat import read\n",
    "#from IPython.core.interactiveshell import InteractiveShell\n",
    "\n",
    "import biom\n",
    "import sklearn\n",
    "import pandas as pd\n",
    "import numpy as np"
   ]
  },
  {
   "cell_type": "code",
   "execution_count": 10,
   "metadata": {
    "collapsed": true
   },
   "outputs": [],
   "source": [
    "#HMP dataset\n",
    "text_file = \"/Users/shwetakinger/Desktop/ERSP_data/merged_bmi_mapping_final__original_study_HMP__.txt\"\n",
    "biom_file = \"/Users/shwetakinger/Desktop/newtables/HMP.biom\"\n"
   ]
  },
  {
   "cell_type": "code",
   "execution_count": 11,
   "metadata": {
    "collapsed": false
   },
   "outputs": [],
   "source": [
    "m = pd.read_csv(text_file, sep=\"\\t\")"
   ]
  },
  {
   "cell_type": "code",
   "execution_count": 12,
   "metadata": {
    "collapsed": false
   },
   "outputs": [
    {
     "data": {
      "text/plain": [
       "Index(['#SampleID', 'BarcodeSequence', 'LinkerPrimerSequence', 'BMI',\n",
       "       'bmi_group_binned', 'bmi_group_coded', 'original_study',\n",
       "       'combined_study_bmi_group', 'PCR_PRIMERS', 'TARGET_SUBFRAGMENT', 'AGE',\n",
       "       'ELEVATION', 'LONGITUDE', 'COUNTRY', 'SEQUENCING_METH', 'SAMPLE_CENTER',\n",
       "       'Description_duplicate', 'ReversePrimer', 'COLLECTION_DATE', 'SEX',\n",
       "       'FAMILY_RELATIONSHIP_GG', 'STUDY_CENTER', 'EXPERIMENT_CENTER',\n",
       "       'bmi_group_amish', 'RUN_CENTER', 'LATITUDE', 'Description'],\n",
       "      dtype='object')"
      ]
     },
     "execution_count": 12,
     "metadata": {},
     "output_type": "execute_result"
    }
   ],
   "source": [
    "m.columns"
   ]
  },
  {
   "cell_type": "code",
   "execution_count": 13,
   "metadata": {
    "collapsed": false
   },
   "outputs": [
    {
     "data": {
      "text/plain": [
       "RangeIndex(start=0, stop=208, step=1)"
      ]
     },
     "execution_count": 13,
     "metadata": {},
     "output_type": "execute_result"
    }
   ],
   "source": [
    "m.index"
   ]
  },
  {
   "cell_type": "code",
   "execution_count": null,
   "metadata": {
    "collapsed": true
   },
   "outputs": [],
   "source": [
    "#load biom table\n",
    "b= biom.load_table(biom_file)"
   ]
  },
  {
   "cell_type": "code",
   "execution_count": 15,
   "metadata": {
    "collapsed": false
   },
   "outputs": [],
   "source": [
    "m['help'] = m['#SampleID'].apply(str)\n",
    "m.set_index('help', inplace=True)"
   ]
  },
  {
   "cell_type": "code",
   "execution_count": 18,
   "metadata": {
    "collapsed": false
   },
   "outputs": [
    {
     "name": "stderr",
     "output_type": "stream",
     "text": [
      "/Users/shwetakinger/anaconda/lib/python3.5/site-packages/pandas/core/indexing.py:465: SettingWithCopyWarning: \n",
      "A value is trying to be set on a copy of a slice from a DataFrame.\n",
      "Try using .loc[row_indexer,col_indexer] = value instead\n",
      "\n",
      "See the caveats in the documentation: http://pandas.pydata.org/pandas-docs/stable/indexing.html#indexing-view-versus-copy\n",
      "  self.obj[item] = s\n"
     ]
    }
   ],
   "source": [
    "#select only samples that fit LEAN OR OBESE\n",
    "i = m[m.bmi_group_coded != \"Overweight\"].index\n",
    "#print(i)\n",
    "i_2 = m[m.bmi_group_coded != \"Overweight\"]\n",
    "#print(i_2)\n",
    "#i_2.loc[i_2.bmi_group_binned == 1, 'bmi_group_binned'] = 0\n",
    "i_2.loc[i_2.bmi_group_binned == 3, 'bmi_group_binned'] = 0\n",
    "#i_2[i_2.bmi_group_binned == 1]\n"
   ]
  },
  {
   "cell_type": "code",
   "execution_count": 19,
   "metadata": {
    "collapsed": false
   },
   "outputs": [],
   "source": [
    "#get biom file\n",
    "p = pd.DataFrame(b.matrix_data.T.todense().astype(int), index=b.ids(axis=\"sample\"), columns=b.ids(axis=\"observation\"))\n",
    "#print(p)"
   ]
  },
  {
   "cell_type": "code",
   "execution_count": null,
   "metadata": {
    "collapsed": false
   },
   "outputs": [],
   "source": [
    "c = p.loc[i, :]\n",
    "#print(c)\n",
    "indices = pd.isnull(c).any(1).nonzero()[0]\n",
    "print(indices)\n",
    "#drop columns with NaN\n",
    "c[pd.isnull(c).any(axis=1)]\n",
    "c = c.dropna(how='any')  \n",
    "#print(c)\n",
    "#c.sum(axis=1)"
   ]
  },
  {
   "cell_type": "code",
   "execution_count": 22,
   "metadata": {
    "collapsed": false
   },
   "outputs": [],
   "source": [
    "#eliminate samples that have been removed from metadata\n",
    "#print(i_2.bmi_group_binned.shape)\n",
    "i_2 = i_2.drop(i_2.index[indices])\n",
    "#i_2[i_2.bmi_group_binned == 0]\n",
    "#print(i_2.shape)\n",
    "#print(i_2.bmi_group_binned)"
   ]
  },
  {
   "cell_type": "code",
   "execution_count": null,
   "metadata": {
    "collapsed": false
   },
   "outputs": [],
   "source": [
    "#print(i_2.shape)\n",
    "i_2[i_2.bmi_group_binned == 1]"
   ]
  },
  {
   "cell_type": "code",
   "execution_count": 24,
   "metadata": {
    "collapsed": false
   },
   "outputs": [
    {
     "name": "stderr",
     "output_type": "stream",
     "text": [
      "/Users/shwetakinger/anaconda/lib/python3.5/site-packages/sklearn/cross_validation.py:44: DeprecationWarning: This module was deprecated in version 0.18 in favor of the model_selection module into which all the refactored classes and functions are moved. Also note that the interface of the new CV iterators are different from that of this module. This module will be removed in 0.20.\n",
      "  \"This module will be removed in 0.20.\", DeprecationWarning)\n",
      "/Users/shwetakinger/anaconda/lib/python3.5/site-packages/sklearn/grid_search.py:43: DeprecationWarning: This module was deprecated in version 0.18 in favor of the model_selection module into which all the refactored classes and functions are moved. This module will be removed in 0.20.\n",
      "  DeprecationWarning)\n"
     ]
    }
   ],
   "source": [
    "from sklearn import model_selection\n",
    "from sklearn.neighbors import KNeighborsClassifier\n",
    "from sklearn.ensemble import RandomForestClassifier,AdaBoostClassifier, ExtraTreesClassifier\n",
    "from sklearn.ensemble import GradientBoostingClassifier\n",
    "from sklearn.cross_validation import train_test_split, cross_val_score\n",
    "from sklearn.grid_search import GridSearchCV\n",
    "from sklearn import metrics\n",
    "from sklearn.metrics import accuracy_score, roc_auc_score, roc_curve"
   ]
  },
  {
   "cell_type": "code",
   "execution_count": 25,
   "metadata": {
    "collapsed": false
   },
   "outputs": [
    {
     "name": "stdout",
     "output_type": "stream",
     "text": [
      "0.5924021234240213\n",
      "{'kernel': 'linear', 'C': 1}\n",
      "SVC(C=1, cache_size=200, class_weight=None, coef0=0.0,\n",
      "  decision_function_shape=None, degree=3, gamma='auto', kernel='linear',\n",
      "  max_iter=-1, probability=False, random_state=1, shrinking=True,\n",
      "  tol=0.001, verbose=False)\n",
      "[mean: 0.59240, std: 0.17119, params: {'kernel': 'linear', 'C': 1}]\n",
      "0.171193683641\n"
     ]
    }
   ],
   "source": [
    "from sklearn.svm import SVC\n",
    "from operator import itemgetter\n",
    "import numpy as np\n",
    "#run Grid search with SVC algorithm\n",
    "params = [\n",
    "    {'C': [1], 'kernel': ['linear']},\n",
    "    \n",
    "]\n",
    "clf = GridSearchCV(SVC(random_state=1), param_grid=params, cv=10, scoring='roc_auc')\n",
    "clf.fit(c.fillna(0).as_matrix(), i_2.bmi_group_binned)\n",
    "print(clf.best_score_)\n",
    "print(clf.best_params_)\n",
    "print(clf.best_estimator_)\n",
    "print(clf.grid_scores_)\n",
    "top_score = sorted(clf.grid_scores_, key=itemgetter(1), reverse=True)[:1]\n",
    "for score in top_score:\n",
    "    print(np.std(score.cv_validation_scores)) "
   ]
  },
  {
   "cell_type": "code",
   "execution_count": 26,
   "metadata": {
    "collapsed": false
   },
   "outputs": [
    {
     "name": "stdout",
     "output_type": "stream",
     "text": [
      "0.5947246184472461\n",
      "{'max_depth': 4, 'max_features': 'sqrt', 'criterion': 'gini', 'min_samples_leaf': 5, 'min_samples_split': 2}\n",
      "DecisionTreeClassifier(class_weight=None, criterion='gini', max_depth=4,\n",
      "            max_features='sqrt', max_leaf_nodes=None,\n",
      "            min_impurity_split=1e-07, min_samples_leaf=5,\n",
      "            min_samples_split=2, min_weight_fraction_leaf=0.0,\n",
      "            presort=False, random_state=1, splitter='best')\n",
      "[ 0.  0.  0. ...,  0.  0.  0.]\n"
     ]
    }
   ],
   "source": [
    "from sklearn.tree import DecisionTreeClassifier\n",
    "params = {\n",
    "    'criterion': ['gini', 'entropy'],\n",
    "    'min_samples_leaf':[3,4,5,6],\n",
    "    'max_features': ['sqrt'],\n",
    "    'max_depth':[3,4,5],\n",
    "    'min_samples_split': [2,3,4,5],\n",
    "}\n",
    "clf = GridSearchCV(DecisionTreeClassifier(random_state=1), params, cv=10, scoring='roc_auc')\n",
    "clf.fit(c.fillna(0).as_matrix(), i_2.bmi_group_binned)\n",
    "print(clf.best_score_)\n",
    "print(clf.best_params_)\n",
    "print(clf.best_estimator_)\n",
    "clf = clf.best_estimator_\n",
    "#clf = DecisionTreeClassifier(max_depth=4)\n",
    "#clf.fit(c.fillna(0).as_matrix(), i_2.bmi_group_binned)\n",
    "importances = clf.feature_importances_\n",
    "print(importances)\n",
    "\n"
   ]
  },
  {
   "cell_type": "code",
   "execution_count": 27,
   "metadata": {
    "collapsed": false
   },
   "outputs": [
    {
     "name": "stdout",
     "output_type": "stream",
     "text": [
      "RandomF\n",
      "[ 0.          0.          0.00024372 ...,  0.          0.00017368  0.        ]\n"
     ]
    }
   ],
   "source": [
    "clf = RandomForestClassifier(n_estimators=1000)\n",
    "clf.fit(c.fillna(0).as_matrix(), i_2.bmi_group_binned)\n",
    "importances = clf.feature_importances_\n",
    "print('RandomF')\n",
    "print(importances)\n"
   ]
  },
  {
   "cell_type": "code",
   "execution_count": null,
   "metadata": {
    "collapsed": false,
    "scrolled": false
   },
   "outputs": [
    {
     "data": {
      "text/plain": [
       "RandomForestClassifier(bootstrap=True, class_weight=None, criterion='gini',\n",
       "            max_depth=None, max_features='auto', max_leaf_nodes=None,\n",
       "            min_impurity_split=1e-07, min_samples_leaf=1,\n",
       "            min_samples_split=2, min_weight_fraction_leaf=0.0,\n",
       "            n_estimators=1000, n_jobs=1, oob_score=False,\n",
       "            random_state=None, verbose=0, warm_start=False)"
      ]
     },
     "execution_count": 28,
     "metadata": {},
     "output_type": "execute_result"
    }
   ],
   "source": [
    "clf"
   ]
  },
  {
   "cell_type": "code",
   "execution_count": null,
   "metadata": {
    "collapsed": false
   },
   "outputs": [],
   "source": [
    "paramsRandomForest = {\n",
    "    'n_estimators':[20,50,100],\n",
    "    'max_depth': [None, 2,3,4,5],\n",
    "    'max_features': ['sqrt', 'log2'],\n",
    "    'min_samples_split': [2,3,5],\n",
    "    'min_samples_leaf':[2,4,5,]\n",
    "    \n",
    "}\n",
    "clf = GridSearchCV(RandomForestClassifier(random_state=1, n_jobs=2), paramsRandomForest, cv=10, scoring='roc_auc')\n",
    "clf.fit(c.fillna(0).as_matrix(), i_2.bmi_group_binned)\n",
    "print(clf.best_score_)\n",
    "print(clf.best_params_)"
   ]
  },
  {
   "cell_type": "code",
   "execution_count": null,
   "metadata": {
    "collapsed": false
   },
   "outputs": [],
   "source": [
    "from sklearn.ensemble import RandomForestClassifier\n",
    "clf = RandomForestClassifier(n_estimators=1000, random_state=1)\n",
    "cross_val_score(clf, c.fillna(0).as_matrix(), i_2.bmi_group_binned, cv=10, scoring='roc_auc').mean()"
   ]
  },
  {
   "cell_type": "code",
   "execution_count": null,
   "metadata": {
    "collapsed": false
   },
   "outputs": [],
   "source": [
    "from sklearn.cross_validation import cross_val_score\n",
    "iter_range = range(1, 6)\n",
    "# empty list to store scores\n",
    "rForest_scores = []\n",
    "average_accuracy = 0.0;\n",
    "\n",
    "for i in iter_range:\n",
    "    classifier = RandomForestClassifier(max_features='sqrt', n_estimators=1000)\n",
    "    #cross-validation AUC score\n",
    "    scores = cross_val_score(classifier, c.fillna(0).as_matrix(), i_2.bmi_group_binned, cv=10, scoring='roc_auc')\n",
    "    rForest_scores.append(scores.mean())\n",
    "    average_accuracy+=scores.mean()\n",
    "\n",
    "print(rForest_scores)\n",
    "print(average_accuracy/(5.0))"
   ]
  },
  {
   "cell_type": "code",
   "execution_count": null,
   "metadata": {
    "collapsed": true
   },
   "outputs": [],
   "source": []
  }
 ],
 "metadata": {
  "anaconda-cloud": {},
  "kernelspec": {
   "display_name": "Python [conda root]",
   "language": "python",
   "name": "conda-root-py"
  },
  "language_info": {
   "codemirror_mode": {
    "name": "ipython",
    "version": 3
   },
   "file_extension": ".py",
   "mimetype": "text/x-python",
   "name": "python",
   "nbconvert_exporter": "python",
   "pygments_lexer": "ipython3",
   "version": "3.5.2"
  }
 },
 "nbformat": 4,
 "nbformat_minor": 1
}
