{
 "cells": [
  {
   "cell_type": "code",
   "execution_count": 7,
   "metadata": {
    "collapsed": true
   },
   "outputs": [],
   "source": [
    "#Random Forest algorithm\n",
    "#replicate findings from Walters et al 2014"
   ]
  },
  {
   "cell_type": "code",
   "execution_count": 2,
   "metadata": {
    "collapsed": true
   },
   "outputs": [],
   "source": [
    "#import io, os, sys, types\n",
    "#from IPython import get_ipython\n",
    "#from nbformat import read\n",
    "#from IPython.core.interactiveshell import InteractiveShell\n",
    "\n",
    "import biom\n",
    "import sklearn\n",
    "import pandas as pd"
   ]
  },
  {
   "cell_type": "code",
   "execution_count": 3,
   "metadata": {
    "collapsed": true
   },
   "outputs": [],
   "source": [
    "#HMP dataset\n",
    "text_file = \"/Users/shwetakinger/Desktop/ERSP_data/merged_bmi_mapping_final__original_study_HMP__.txt\"\n",
    "biom_file = \"/Users/shwetakinger/Downloads/per_study_otu_tables/filtered_otu_table__original_study_HMP__.biom\""
   ]
  },
  {
   "cell_type": "code",
   "execution_count": 4,
   "metadata": {
    "collapsed": false
   },
   "outputs": [],
   "source": [
    "m = pd.read_csv(text_file, sep=\"\\t\", index_col=0)"
   ]
  },
  {
   "cell_type": "code",
   "execution_count": 5,
   "metadata": {
    "collapsed": false
   },
   "outputs": [
    {
     "data": {
      "text/plain": [
       "Index(['BarcodeSequence', 'LinkerPrimerSequence', 'BMI', 'bmi_group_binned',\n",
       "       'bmi_group_coded', 'original_study', 'combined_study_bmi_group',\n",
       "       'PCR_PRIMERS', 'TARGET_SUBFRAGMENT', 'AGE', 'ELEVATION', 'LONGITUDE',\n",
       "       'COUNTRY', 'SEQUENCING_METH', 'SAMPLE_CENTER', 'Description_duplicate',\n",
       "       'ReversePrimer', 'COLLECTION_DATE', 'SEX', 'FAMILY_RELATIONSHIP_GG',\n",
       "       'STUDY_CENTER', 'EXPERIMENT_CENTER', 'bmi_group_amish', 'RUN_CENTER',\n",
       "       'LATITUDE', 'Description'],\n",
       "      dtype='object')"
      ]
     },
     "execution_count": 5,
     "metadata": {},
     "output_type": "execute_result"
    }
   ],
   "source": [
    "m.columns"
   ]
  },
  {
   "cell_type": "code",
   "execution_count": 6,
   "metadata": {
    "collapsed": false
   },
   "outputs": [
    {
     "data": {
      "text/plain": [
       "Index(['SRS011271.396367', 'SRS011410.396107', 'SRS011415.394388',\n",
       "       'SRS011529.396185', 'SRS011586.393765', 'SRS011621.394454',\n",
       "       'SRS012191.395151', 'SRS013177.401537', 'SRS013386.400409',\n",
       "       'SRS013543.394407',\n",
       "       ...\n",
       "       'SRS049157.403739', 'SRS049959.401022', 'SRS056620.394943',\n",
       "       'SRS057447.396161', 'SRS063068.403097', 'SRS063524.397569',\n",
       "       'SRS063827.396534', 'SRS065263.395822', 'SRS065466.395776',\n",
       "       'SRS065725.395071'],\n",
       "      dtype='object', name='#SampleID', length=208)"
      ]
     },
     "execution_count": 6,
     "metadata": {},
     "output_type": "execute_result"
    }
   ],
   "source": [
    "m.index"
   ]
  },
  {
   "cell_type": "code",
   "execution_count": 7,
   "metadata": {
    "collapsed": true
   },
   "outputs": [],
   "source": [
    "b= biom.load_table(biom_file)"
   ]
  },
  {
   "cell_type": "code",
   "execution_count": null,
   "metadata": {
    "collapsed": false
   },
   "outputs": [],
   "source": [
    "#select only samples that fit LEAN OR OBESE\n",
    "i = m[m.bmi_group_coded != \"Overweight\"].index\n",
    "#print(i)\n",
    "i_2 = m[m.bmi_group_coded != \"Overweight\"]\n",
    "print(i_2)\n",
    "i_2.loc[i_2.bmi_group_binned == 3, 'bmi_group_binned'] = 0\n",
    "print(i_2.bmi_group_binned)"
   ]
  },
  {
   "cell_type": "code",
   "execution_count": 18,
   "metadata": {
    "collapsed": false
   },
   "outputs": [],
   "source": [
    "writer = pd.ExcelWriter('biom_original_HMP.xlsx', engine='xlsxwriter')"
   ]
  },
  {
   "cell_type": "code",
   "execution_count": 8,
   "metadata": {
    "collapsed": false
   },
   "outputs": [],
   "source": [
    "#get biom file\n",
    "p = pd.DataFrame(b.matrix_data.T.todense().astype(int), index=b.ids(axis=\"sample\"), columns=b.ids(axis=\"observation\"))\n",
    "#print(p)"
   ]
  },
  {
   "cell_type": "code",
   "execution_count": 20,
   "metadata": {
    "collapsed": false
   },
   "outputs": [],
   "source": [
    "# Convert the dataframe to an XlsxWriter Excel object.\n",
    "p.to_excel(writer, sheet_name='Sheet1')\n",
    "\n",
    "# Close the Pandas Excel writer and output the Excel file.\n",
    "writer.save()"
   ]
  },
  {
   "cell_type": "code",
   "execution_count": 10,
   "metadata": {
    "collapsed": false
   },
   "outputs": [],
   "source": [
    "# load sorted file\n",
    "sorted_m = pd.read_csv(\"/Users/shwetakinger/Desktop/biom_final_HMP.csv\", index_col=0)\n",
    "#print(sorted_m)"
   ]
  },
  {
   "cell_type": "code",
   "execution_count": 18,
   "metadata": {
    "collapsed": false
   },
   "outputs": [
    {
     "name": "stdout",
     "output_type": "stream",
     "text": [
      "                  304309  193008  190299  191393  193061  186596  174924  \\\n",
      "SRS011271.396367       0       0       0       0       0       0       0   \n",
      "SRS011410.396107       0       0       0       0       0       0       2   \n",
      "SRS011415.394388       0       0       0       0       0       0       0   \n",
      "SRS011529.396185       0       0       0       0       0       0       0   \n",
      "SRS011586.393765       0       0       0       0       0       0       0   \n",
      "SRS011621.394454       0       0       0       0       0       0       0   \n",
      "SRS012191.395151       0       0       0       0       0       0       1   \n",
      "SRS013177.401537       0       0       0       0       0       0       0   \n",
      "SRS013386.400409       0       0       0       0       0       0       0   \n",
      "SRS013543.394407       0       0       0       0       0       0       1   \n",
      "SRS013687.400715       0       0       0       0       0       0       0   \n",
      "SRS013801.398248       0       0       0       0       0       0       0   \n",
      "SRS014345.393344       0       0       0       0       0       0       0   \n",
      "SRS014572.396411       0       0       0       0       0       0       0   \n",
      "SRS014885.394865       0       0       0       0       0       0       0   \n",
      "SRS014923.394014       0       0       0       0       0       0       1   \n",
      "SRS015247.394888       0       0       0       0       0       0       2   \n",
      "SRS015389.394987       0       0       0       0       0       0       0   \n",
      "SRS015599.394288       0       0       0       0       0       0       0   \n",
      "SRS015724.395613       0       0       0       0       0       0       1   \n",
      "SRS015782.394538       0       0       0       0       0       0       0   \n",
      "SRS015911.396089       0       0       0       0       0       0       0   \n",
      "SRS015960.395111       0       0       0       0       0       0       3   \n",
      "SRS016095.395879       0       0       0       0       0       0       0   \n",
      "SRS016267.395183       0       0       0       0       0       0       0   \n",
      "SRS016335.395358       0       0       0       0       0       0       0   \n",
      "SRS016400.399670       0       0       0       0       0       0       0   \n",
      "SRS016437.400001       0       0       0       0       0       0       0   \n",
      "SRS016517.399341       0       0       0       0       0       0       0   \n",
      "SRS016585.401158       0       0       0       0       0       0       0   \n",
      "...                  ...     ...     ...     ...     ...     ...     ...   \n",
      "SRS063324.395902       0       0       0       0       0       0       0   \n",
      "SRS063961.394371       0       0       0       0       0       0       0   \n",
      "SRS064335.399926       0       1       0       0       0       0       1   \n",
      "SRS065665.393851       0       0       0       0       0       0       0   \n",
      "SRS011300.395721       0       0       0       0       0       0       0   \n",
      "SRS011653.394993       0       0       0       0       0       0       0   \n",
      "SRS013216.399928       0       0       0       0       0       0       0   \n",
      "SRS013638.400087       0       1       0       0       0       0       2   \n",
      "SRS013762.393921       0       0       0       0       0       0       0   \n",
      "SRS014235.403378       0       1       0       0       0       0       5   \n",
      "SRS014442.393402       0       0       0       0       0       0       4   \n",
      "SRS014659.394185       0       0       0       0       0       0       1   \n",
      "SRS015281.395595       0       0       0       0       0       0       0   \n",
      "SRS018068.403124       0       0       0       0       0       0       1   \n",
      "SRS018190.398595       0       2       0       0       0       1       0   \n",
      "SRS019990.403191       0       0       0       0       0       0       0   \n",
      "SRS020119.395896       0       0       0       0       0       0       0   \n",
      "SRS020350.402692       0       2       0       0       0       0       3   \n",
      "SRS021427.395499       0       0       0       0       0       0       0   \n",
      "SRS021853.394711       0       0       0       0       0       0       0   \n",
      "SRS022159.398414       0       0       0       0       0       0       0   \n",
      "SRS022987.395478       0       0       0       0       0       0       0   \n",
      "SRS023365.401666       0       0       0       0       0       0       0   \n",
      "SRS023791.400658       0       0       0       0       0       0       0   \n",
      "SRS042415.395695       0       0       0       0       0       0       0   \n",
      "SRS043299.393925       0       0       0       0       0       0       0   \n",
      "SRS046382.395403       0       0       0       0       0       0       0   \n",
      "SRS062610.399063       0       2       0       0       0       0       1   \n",
      "SRS063921.394565       0       0       0       0       0       0       0   \n",
      "SRS064321.396314       0       0       0       0       0       0       0   \n",
      "\n",
      "                  296166  177792  337735   ...     4338342  515531  4338348  \\\n",
      "SRS011271.396367       0       0       0   ...           0       0        0   \n",
      "SRS011410.396107       0       0       0   ...           0       0        0   \n",
      "SRS011415.394388       0       0       0   ...           0       0        0   \n",
      "SRS011529.396185       0       0       0   ...           0       0        0   \n",
      "SRS011586.393765       0       0       0   ...           0       0        0   \n",
      "SRS011621.394454       0       0       0   ...           0       0        0   \n",
      "SRS012191.395151       0       0       0   ...           0       0        0   \n",
      "SRS013177.401537       0       0       0   ...           0       0        0   \n",
      "SRS013386.400409       0       0       0   ...           0       0        0   \n",
      "SRS013543.394407       0       0       0   ...           0       0        0   \n",
      "SRS013687.400715       0       0       0   ...           0       0        0   \n",
      "SRS013801.398248       0       0       0   ...           0       0        0   \n",
      "SRS014345.393344       0       0       0   ...           0       0        0   \n",
      "SRS014572.396411       0       0       0   ...           0       0        0   \n",
      "SRS014885.394865       0       0       0   ...           0       0        0   \n",
      "SRS014923.394014       0       0       0   ...           0       0        0   \n",
      "SRS015247.394888       0       0       0   ...           0       0        0   \n",
      "SRS015389.394987       0       0       0   ...           0       0        0   \n",
      "SRS015599.394288       0       0       0   ...           0       0        0   \n",
      "SRS015724.395613       0       0       0   ...           0       0        0   \n",
      "SRS015782.394538       0       0       0   ...           0       0        0   \n",
      "SRS015911.396089       0       0       0   ...           0       0        0   \n",
      "SRS015960.395111       0       0       0   ...           0       0        0   \n",
      "SRS016095.395879       0       0       0   ...           0       0        0   \n",
      "SRS016267.395183       0       0       0   ...           0       0        0   \n",
      "SRS016335.395358       0       0       0   ...           0       0        0   \n",
      "SRS016400.399670       0       0       0   ...           0       0        0   \n",
      "SRS016437.400001       0       0       0   ...           0       0        0   \n",
      "SRS016517.399341       0       0       0   ...           0       0        0   \n",
      "SRS016585.401158       0       0       0   ...           0       0        0   \n",
      "...                  ...     ...     ...   ...         ...     ...      ...   \n",
      "SRS063324.395902       0       0       0   ...           0       0        0   \n",
      "SRS063961.394371       0       0       0   ...           0       0        0   \n",
      "SRS064335.399926       0       0       0   ...           0       0        0   \n",
      "SRS065665.393851       0       0       0   ...           0       0        0   \n",
      "SRS011300.395721       0       0       0   ...           0       0        0   \n",
      "SRS011653.394993       0       0       0   ...           0       0        0   \n",
      "SRS013216.399928       0       0       0   ...           0       0        0   \n",
      "SRS013638.400087       0       0       0   ...           0       0        0   \n",
      "SRS013762.393921       0       0       0   ...           0       0        0   \n",
      "SRS014235.403378       0       0       0   ...           0       0        0   \n",
      "SRS014442.393402       0       0       0   ...           0       0        0   \n",
      "SRS014659.394185       0       0       0   ...           0       0        0   \n",
      "SRS015281.395595       0       0       0   ...           0       0        0   \n",
      "SRS018068.403124       0       1       0   ...           0       0        0   \n",
      "SRS018190.398595       0       0       0   ...           0       0        0   \n",
      "SRS019990.403191       0       0       0   ...           0       0        0   \n",
      "SRS020119.395896       0       0       0   ...           0       0        0   \n",
      "SRS020350.402692       0       0       0   ...           0       0        0   \n",
      "SRS021427.395499       0       0       0   ...           0       0        0   \n",
      "SRS021853.394711       0       0       0   ...           0       0        0   \n",
      "SRS022159.398414       0       0       0   ...           0       0        0   \n",
      "SRS022987.395478       0       0       0   ...           0       0        0   \n",
      "SRS023365.401666       0       0       0   ...           0       0        0   \n",
      "SRS023791.400658       0       0       0   ...           0       0        0   \n",
      "SRS042415.395695       0       0       0   ...           0       0        0   \n",
      "SRS043299.393925       0       0       0   ...           0       0        0   \n",
      "SRS046382.395403       0       0       0   ...           0       0        0   \n",
      "SRS062610.399063       0       0       0   ...           0       0        0   \n",
      "SRS063921.394565       0       0       0   ...           0       0        0   \n",
      "SRS064321.396314       0       0       0   ...           0       0        0   \n",
      "\n",
      "                  84386  411710  517972  329399  172236  324511  4388772  \n",
      "SRS011271.396367      0       0       0       0       0       0        0  \n",
      "SRS011410.396107      0       0       0       0       0       0        0  \n",
      "SRS011415.394388      0       0       0       0       0       0        0  \n",
      "SRS011529.396185      0       0       0       0       0       0        0  \n",
      "SRS011586.393765      0       0       0       0       0       0        0  \n",
      "SRS011621.394454      0       0       0       0       0       0        0  \n",
      "SRS012191.395151      0       0       0       0       0       0        0  \n",
      "SRS013177.401537      0       0       0       0       0       0        0  \n",
      "SRS013386.400409      0       0       0       0       0       0        0  \n",
      "SRS013543.394407      0       0       0       0       0       0        0  \n",
      "SRS013687.400715      0       0       0       0       0       0        0  \n",
      "SRS013801.398248      0       0       0       0       0       0        0  \n",
      "SRS014345.393344      0       0       0       0       0       0        0  \n",
      "SRS014572.396411      0       0       0       0       0       0        0  \n",
      "SRS014885.394865      0       0       0       0       0       0        0  \n",
      "SRS014923.394014      0       0       0       0       0       0        0  \n",
      "SRS015247.394888      0       0       0       0       0       0        0  \n",
      "SRS015389.394987      0       0       0       0       0       0        0  \n",
      "SRS015599.394288      0       0       0       0       0       0        0  \n",
      "SRS015724.395613      0       0       0       0       0       0        0  \n",
      "SRS015782.394538      0       0       0       0       0       0        0  \n",
      "SRS015911.396089      0       0       0       0       0       0        0  \n",
      "SRS015960.395111      0       0       0       0       0       0        0  \n",
      "SRS016095.395879      0       0       0       0       0       0        0  \n",
      "SRS016267.395183      0       0       0       0       0       0        0  \n",
      "SRS016335.395358      0       0       0       0       0       0        0  \n",
      "SRS016400.399670      0       0       0       0       0       0        0  \n",
      "SRS016437.400001      0       0       0       0       0       0        0  \n",
      "SRS016517.399341      0       0       0       0       0       0        0  \n",
      "SRS016585.401158      0       0       0       0       0       0        0  \n",
      "...                 ...     ...     ...     ...     ...     ...      ...  \n",
      "SRS063324.395902      0       0       0       0       0       0        0  \n",
      "SRS063961.394371      0       0       0       0       0       0        0  \n",
      "SRS064335.399926      0       0       0       0       0       0        0  \n",
      "SRS065665.393851      0       0       0       0       0       0        0  \n",
      "SRS011300.395721      0       0       0       0       0       0        0  \n",
      "SRS011653.394993      0       0       0       0       0       0        0  \n",
      "SRS013216.399928      0       0       0       0       0       0        0  \n",
      "SRS013638.400087      0       0       0       0       0       0        0  \n",
      "SRS013762.393921      0       0       0       0       0       0        0  \n",
      "SRS014235.403378      0       0       0       0       0       0        0  \n",
      "SRS014442.393402      0       0       0       0       0       0        0  \n",
      "SRS014659.394185      0       0       0       0       0       0        0  \n",
      "SRS015281.395595      0       0       0       0       0       0        0  \n",
      "SRS018068.403124      0       0       0       0       0       0        0  \n",
      "SRS018190.398595      0       0       0       0       0       0        0  \n",
      "SRS019990.403191      0       0       0       0       0       0        0  \n",
      "SRS020119.395896      0       0       0       0       0       0        0  \n",
      "SRS020350.402692      0       0       0       0       0       0        0  \n",
      "SRS021427.395499      0       0       0       0       0       0        0  \n",
      "SRS021853.394711      0       0       0       0       0       0        0  \n",
      "SRS022159.398414      0       0       0       0       0       0        0  \n",
      "SRS022987.395478      0       0       0       0       0       0        0  \n",
      "SRS023365.401666      0       0       0       0       0       0        0  \n",
      "SRS023791.400658      0       0       0       0       0       0        0  \n",
      "SRS042415.395695      0       0       0       0       0       0        0  \n",
      "SRS043299.393925      0       0       0       0       0       0        0  \n",
      "SRS046382.395403      0       0       0       0       0       0        0  \n",
      "SRS062610.399063      0       0       0       0       0       0        0  \n",
      "SRS063921.394565      0       0       0       0       0       0        0  \n",
      "SRS064321.396314      0       0       0       0       0       0        0  \n",
      "\n",
      "[143 rows x 16383 columns]\n"
     ]
    }
   ],
   "source": [
    "data = pd.DataFrame([])\n",
    "for n in range(0, 143):\n",
    "    #print(n)\n",
    "    num = sorted_m.index.get_loc(i[n])\n",
    "    data = data.append(sorted_m.iloc[[num]])\n",
    "print(data)"
   ]
  },
  {
   "cell_type": "code",
   "execution_count": 19,
   "metadata": {
    "collapsed": true
   },
   "outputs": [],
   "source": [
    "from sklearn import model_selection\n",
    "from sklearn.ensemble import RandomForestClassifier\n"
   ]
  },
  {
   "cell_type": "code",
   "execution_count": null,
   "metadata": {
    "collapsed": false
   },
   "outputs": [],
   "source": [
    "from sklearn.cross_validation import cross_val_score\n",
    "iter_range = range(1, 6)\n",
    "# empty list to store scores\n",
    "rForest_scores = []\n",
    "average_accuracy = 0.0;\n",
    "\n",
    "for i in iter_range:\n",
    "    classifier = RandomForestClassifier(n_estimators=2000)\n",
    "    #cross-validation AUC score\n",
    "    scores = cross_val_score(classifier, data, i_2.bmi_group_binned, cv=10, scoring='roc_auc')\n",
    "    rForest_scores.append(scores.mean())\n",
    "    average_accuracy+=scores.mean()\n",
    "\n",
    "print(rForest_scores)\n",
    "print(average_accuracy/(5.0))"
   ]
  },
  {
   "cell_type": "code",
   "execution_count": null,
   "metadata": {
    "collapsed": true
   },
   "outputs": [],
   "source": []
  }
 ],
 "metadata": {
  "anaconda-cloud": {},
  "kernelspec": {
   "display_name": "Python [conda root]",
   "language": "python",
   "name": "conda-root-py"
  },
  "language_info": {
   "codemirror_mode": {
    "name": "ipython",
    "version": 3
   },
   "file_extension": ".py",
   "mimetype": "text/x-python",
   "name": "python",
   "nbconvert_exporter": "python",
   "pygments_lexer": "ipython3",
   "version": "3.5.2"
  }
 },
 "nbformat": 4,
 "nbformat_minor": 1
}
