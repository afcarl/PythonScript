{
 "cells": [
  {
   "cell_type": "code",
   "execution_count": 8,
   "metadata": {
    "collapsed": true
   },
   "outputs": [],
   "source": [
    "# This file contains a definition called parse_dataset_X that parses the files for only the lean/obese samples.\n",
    "\n",
    "# Method params: the metadata file name and the biom file name\n",
    "\n",
    "# Return value: tuple (X, y) in which X is the 2D feature matrix and y is response vector\n",
    "# the returned values corresponds to only lean/obese samples"
   ]
  },
  {
   "cell_type": "code",
   "execution_count": 9,
   "metadata": {
    "collapsed": true
   },
   "outputs": [],
   "source": [
    "# Import statements\n",
    "import biom\n",
    "import sklearn\n",
    "import pandas as pd"
   ]
  },
  {
   "cell_type": "code",
   "execution_count": 11,
   "metadata": {
    "collapsed": true
   },
   "outputs": [],
   "source": [
    "# Function definition\n",
    "#Note: Commented lines print out tables and lists\n",
    "\n",
    "def parse_dataset_X(text_file_name, biom_file_name, isAmish):\n",
    "    \n",
    "    #read metadata file and load biom file\n",
    "    m = pd.read_csv(text_file_name, sep=\"\\t\", index_col=0)\n",
    "    b= biom.load_table(biom_file_name)\n",
    "    \n",
    "    # if file is amish, must convert sampleID from integer to string\n",
    "    if (isAmish):\n",
    "        m = pd.read_csv(text_file_name, sep=\"\\t\")\n",
    "        m['help'] = m['#SampleID'].apply(str)\n",
    "        m.set_index('help', inplace=True)\n",
    "    \n",
    "    #parse for only lean and obese samples (omit overweight)\n",
    "    i = m[m.bmi_group_coded != \"Overweight\"].index\n",
    "    i_2 = m[m.bmi_group_coded != \"Overweight\"]\n",
    "\n",
    "    i_2.loc[i_2.bmi_group_binned == 3, 'bmi_group_binned'] = 0\n",
    "#   i_2\n",
    "\n",
    "    # create dataframe\n",
    "    p = pd.DataFrame(b.matrix_data.T.todense().astype(int), index=b.ids(axis=\"sample\"), columns=b.ids(axis=\"observation\"))\n",
    "    c = p.loc[i, :]\n",
    "#   print(c)\n",
    "    \n",
    "    # return a tuple containing X and y\n",
    "    return (c.fillna(0).as_matrix(), i_2.bmi_group_binned)"
   ]
  },
  {
   "cell_type": "code",
   "execution_count": null,
   "metadata": {
    "collapsed": true
   },
   "outputs": [],
   "source": []
  }
 ],
 "metadata": {
  "anaconda-cloud": {},
  "kernelspec": {
   "display_name": "Python [conda root]",
   "language": "python",
   "name": "conda-root-py"
  },
  "language_info": {
   "codemirror_mode": {
    "name": "ipython",
    "version": 3
   },
   "file_extension": ".py",
   "mimetype": "text/x-python",
   "name": "python",
   "nbconvert_exporter": "python",
   "pygments_lexer": "ipython3",
   "version": "3.5.2"
  }
 },
 "nbformat": 4,
 "nbformat_minor": 1
}
