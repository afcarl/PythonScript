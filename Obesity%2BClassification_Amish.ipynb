{
 "cells": [
  {
   "cell_type": "code",
   "execution_count": 1,
   "metadata": {
    "collapsed": true
   },
   "outputs": [],
   "source": [
    "#Random Forest algorithm\n",
    "#replicate findings from Walters et al 2014"
   ]
  },
  {
   "cell_type": "code",
   "execution_count": 4,
   "metadata": {
    "collapsed": true
   },
   "outputs": [],
   "source": [
    "import io, os, sys, types\n",
    "from IPython import get_ipython\n",
    "from nbformat import read\n",
    "from IPython.core.interactiveshell import InteractiveShell\n",
    "\n",
    "import biom\n",
    "import sklearn\n",
    "import pandas as pd"
   ]
  },
  {
   "cell_type": "code",
   "execution_count": 5,
   "metadata": {
    "collapsed": true
   },
   "outputs": [],
   "source": [
    "#Amish dataset\n",
    "text_file = \"/home/barbarahe/merged_bmi_mapping_final__original_study_amish_Fraser__.txt\"\n",
    "biom_file = \"/home/barbarahe/filtered_otu_table__original_study_amish_Fraser__.biom\""
   ]
  },
  {
   "cell_type": "code",
   "execution_count": 6,
   "metadata": {
    "collapsed": false
   },
   "outputs": [],
   "source": [
    "m = pd.read_csv(text_file, sep=\"\\t\", index_col=0)"
   ]
  },
  {
   "cell_type": "code",
   "execution_count": 7,
   "metadata": {
    "collapsed": false
   },
   "outputs": [
    {
     "data": {
      "text/plain": [
       "Index(['BarcodeSequence', 'LinkerPrimerSequence', 'BMI', 'bmi_group_binned',\n",
       "       'bmi_group_coded', 'original_study', 'combined_study_bmi_group',\n",
       "       'PCR_PRIMERS', 'TARGET_SUBFRAGMENT', 'AGE', 'ELEVATION', 'LONGITUDE',\n",
       "       'COUNTRY', 'SEQUENCING_METH', 'SAMPLE_CENTER', 'Description_duplicate',\n",
       "       'ReversePrimer', 'COLLECTION_DATE', 'SEX', 'FAMILY_RELATIONSHIP_GG',\n",
       "       'STUDY_CENTER', 'EXPERIMENT_CENTER', 'bmi_group_amish', 'RUN_CENTER',\n",
       "       'LATITUDE', 'Description'],\n",
       "      dtype='object')"
      ]
     },
     "execution_count": 7,
     "metadata": {},
     "output_type": "execute_result"
    }
   ],
   "source": [
    "m.columns"
   ]
  },
  {
   "cell_type": "code",
   "execution_count": 8,
   "metadata": {
    "collapsed": false
   },
   "outputs": [
    {
     "data": {
      "text/plain": [
       "Int64Index([  1,   6,  16,  18,  32,  35,  53,  54,  60,  64,\n",
       "            ...\n",
       "            471, 473, 475, 476, 481, 482, 488, 595, 598, 599],\n",
       "           dtype='int64', name='#SampleID', length=325)"
      ]
     },
     "execution_count": 8,
     "metadata": {},
     "output_type": "execute_result"
    }
   ],
   "source": [
    "m.index"
   ]
  },
  {
   "cell_type": "code",
   "execution_count": 9,
   "metadata": {
    "collapsed": false
   },
   "outputs": [],
   "source": [
    "b= biom.load_table(biom_file)\n"
   ]
  },
  {
   "cell_type": "code",
   "execution_count": 10,
   "metadata": {
    "collapsed": false
   },
   "outputs": [
    {
     "name": "stderr",
     "output_type": "stream",
     "text": [
      "/home/barbarahe/anaconda3/lib/python3.5/site-packages/pandas/core/indexing.py:477: SettingWithCopyWarning: \n",
      "A value is trying to be set on a copy of a slice from a DataFrame.\n",
      "Try using .loc[row_indexer,col_indexer] = value instead\n",
      "\n",
      "See the caveats in the documentation: http://pandas.pydata.org/pandas-docs/stable/indexing.html#indexing-view-versus-copy\n",
      "  self.obj[item] = s\n"
     ]
    }
   ],
   "source": [
    "#select only samples that fit LEAN OR OBESE\n",
    "i = m[m.bmi_group_coded != \"Overweight\"].index\n",
    "i_2 = m[m.bmi_group_coded != \"Overweight\"]\n",
    "\n",
    "i_2.loc[i_2.bmi_group_binned == 3, 'bmi_group_binned'] = 0\n",
    "#i_2\n",
    "#i_copy = i_2\n",
    "#print(i_copy)"
   ]
  },
  {
   "cell_type": "code",
   "execution_count": 11,
   "metadata": {
    "collapsed": false
   },
   "outputs": [
    {
     "name": "stdout",
     "output_type": "stream",
     "text": [
      "#SampleID\n",
      "1          Normal\n",
      "6          Normal\n",
      "16         Normal\n",
      "18         Normal\n",
      "32         Normal\n",
      "35         Normal\n",
      "53         Normal\n",
      "54         Normal\n",
      "60         Normal\n",
      "64         Normal\n",
      "81         Normal\n",
      "97         Normal\n",
      "101        Normal\n",
      "107        Normal\n",
      "112        Normal\n",
      "115        Normal\n",
      "124        Normal\n",
      "132        Normal\n",
      "136        Normal\n",
      "138        Normal\n",
      "140        Normal\n",
      "150        Normal\n",
      "159        Normal\n",
      "165        Normal\n",
      "177        Normal\n",
      "180        Normal\n",
      "185        Normal\n",
      "205        Normal\n",
      "214        Normal\n",
      "216        Normal\n",
      "          ...    \n",
      "385    Overweight\n",
      "398    Overweight\n",
      "401    Overweight\n",
      "406    Overweight\n",
      "408    Overweight\n",
      "415    Overweight\n",
      "416    Overweight\n",
      "420    Overweight\n",
      "423    Overweight\n",
      "428    Overweight\n",
      "429    Overweight\n",
      "437    Overweight\n",
      "444    Overweight\n",
      "445    Overweight\n",
      "452    Overweight\n",
      "459    Overweight\n",
      "460    Overweight\n",
      "464    Overweight\n",
      "467    Overweight\n",
      "470    Overweight\n",
      "471    Overweight\n",
      "473    Overweight\n",
      "475    Overweight\n",
      "476    Overweight\n",
      "481    Overweight\n",
      "482    Overweight\n",
      "488    Overweight\n",
      "595    Overweight\n",
      "598    Overweight\n",
      "599    Overweight\n",
      "Name: bmi_group_coded, dtype: object\n",
      "325\n"
     ]
    }
   ],
   "source": [
    "# prints 4th column\n",
    "y = m.iloc[:, 4]\n",
    "print(y)\n",
    "print(y.size)\n",
    "#i_copy[i_copy.bmi_group_binned == 3]\n",
    "#i_copy.loc['bmi_group_binned'] = 0\n",
    "#print(i_copy)"
   ]
  },
  {
   "cell_type": "code",
   "execution_count": 12,
   "metadata": {
    "collapsed": false
   },
   "outputs": [
    {
     "name": "stdout",
     "output_type": "stream",
     "text": [
      "     304309  193008  190299  191393  193061  186596  174924  296166  177792  \\\n",
      "274       1       0       0       0       0       0       0       0      45   \n",
      "35        0       1       0       0       0       0       2       0       0   \n",
      "360       0       1       0       0       0       0       0       0       0   \n",
      "347       0       1       2       0       0       0       0       0       0   \n",
      "349       0       2       1       0       0       0       0       0       0   \n",
      "329       0       0       2       0       0       0       0       0      10   \n",
      "336       0       0       3       0       0       0       1       0       0   \n",
      "132       0       0       2       0       0       0       0       0      29   \n",
      "171       0       0       1       0       0       0       0       0       0   \n",
      "148       0       0       1       0       0       0       0       0       1   \n",
      "443       0       0       1       0       0       1       0       0       2   \n",
      "435       0       0       1       0       0       0       0       0       3   \n",
      "239       0       0      29       0       0       1       0       0      40   \n",
      "22        0       0      13       0       0       0       0       5       0   \n",
      "221       0       0       1       0       0       0       0       0       0   \n",
      "309       0       0      18       0       0       0       0       0       7   \n",
      "251       0       0       1       0       0       0       1       0       1   \n",
      "31        0       0       4       0       0       0       0       0       1   \n",
      "450       0       0       2       0       0       0       1       1       6   \n",
      "279       0       0       5       0       0       0       0       0       0   \n",
      "273       0       0       2       0       0       0       0       0       0   \n",
      "318       0       0       1       0       0       0       0       0     124   \n",
      "370       0       0       1       0       0       0       0       0       0   \n",
      "344       0       0       4       0       0       0       0       0       0   \n",
      "317       0       0       1       0       0       0       0       0       0   \n",
      "264       0       0       1       3       0       0       0       0       0   \n",
      "193       0       0       1       0       0       0       0       1       0   \n",
      "46        0       0       3      23       0       0       0       0       0   \n",
      "237       0       0       5       0       0       0       0       0       0   \n",
      "57        0       0       5       0       0       0       0       0       0   \n",
      "..      ...     ...     ...     ...     ...     ...     ...     ...     ...   \n",
      "594       0       0       0       0       0       0       0       0       0   \n",
      "121       0       0       0       0       0       0       0       0       0   \n",
      "64        0       0       0       0       0       0       0       0       0   \n",
      "346       0       0       0       0       0       0       0       0       0   \n",
      "398       0       0       0       0       0       0       0       0       0   \n",
      "90        0       0       0       0       0       0       0       0       0   \n",
      "111       0       0       0       0       0       0       0       0       0   \n",
      "482       0       0       0       0       0       0       0       0       0   \n",
      "96        0       0       0       0       0       0       0       0       0   \n",
      "7         0       0       0       0       0       0       0       0       0   \n",
      "316       0       0       0       0       0       0       0       0       0   \n",
      "469       0       0       0       0       0       0       0       0       0   \n",
      "275       0       0       0       0       0       0       0       0       0   \n",
      "282       0       0       0       0       0       0       0       0       0   \n",
      "406       0       0       0       0       0       0       0       0       0   \n",
      "124       0       0       0       0       0       0       0       0       0   \n",
      "80        0       0       0       0       0       0       0       0       0   \n",
      "205       0       0       0       0       0       0       0       0       0   \n",
      "89        0       0       0       0       0       0       0       0       0   \n",
      "477       0       0       0       0       0       0       0       0       0   \n",
      "180       0       0       0       0       0       0       0       0       0   \n",
      "409       0       0       0       0       0       0       0       0       0   \n",
      "312       0       0       0       0       0       0       0       0       0   \n",
      "268       0       0       0       0       0       0       0       0       0   \n",
      "160       0       0       0       0       0       0       0       0       0   \n",
      "396       0       0       0       0       0       0       0       0       0   \n",
      "202       0       0       0       0       0       0       0       0       0   \n",
      "18        0       0       0       0       0       0       0       0       0   \n",
      "348       0       0       0       0       0       0       0       0       0   \n",
      "91        0       0       0       0       0       0       0       0       0   \n",
      "\n",
      "     337735  ...    230389  521586  207610  239867  310499  131845  4306049  \\\n",
      "274       0  ...         0       0       0       0       0       0        0   \n",
      "35        0  ...         0       0       0       0       0       0        0   \n",
      "360       0  ...         0       0       0       0       0       0        0   \n",
      "347       0  ...         0       0       0       0       0       0        0   \n",
      "349       5  ...         0       0       0       0       0       0        0   \n",
      "329       0  ...         0       0       0       0       0       0        0   \n",
      "336       0  ...         0       0       0       0       0       0        0   \n",
      "132       5  ...         0       0       0       0       0       0        0   \n",
      "171       0  ...         0       0       0       0       0       0        0   \n",
      "148       0  ...         0       0       0       0       0       0        0   \n",
      "443       0  ...         0       0       0       0       0       0        0   \n",
      "435       0  ...         0       0       0       0       0       0        0   \n",
      "239       0  ...         0       0       0       0       0       0        0   \n",
      "22        0  ...         0       0       0       0       0       0        0   \n",
      "221       0  ...         0       0       0       0       0       0        0   \n",
      "309       0  ...         0       0       0       0       0       0        0   \n",
      "251       0  ...         0       0       0       0       0       0        0   \n",
      "31        0  ...         0       0       0       0       0       0        0   \n",
      "450       0  ...         0       0       0       0       0       0        0   \n",
      "279       0  ...         0       0       0       0       0       0        0   \n",
      "273       1  ...         0       0       0       0       0       0        0   \n",
      "318       0  ...         0       0       0       0       0       0        0   \n",
      "370       0  ...         0       0       0       0       0       0        0   \n",
      "344       0  ...         0       0       0       0       0       0        0   \n",
      "317       0  ...         0       0       0       0       0       0        0   \n",
      "264       0  ...         0       0       0       0       0       0        0   \n",
      "193       2  ...         0       0       0       0       0       0        0   \n",
      "46        0  ...         0       0       0       0       0       0        0   \n",
      "237       0  ...         0       0       0       0       0       0        0   \n",
      "57        0  ...         0       0       0       0       0       0        0   \n",
      "..      ...  ...       ...     ...     ...     ...     ...     ...      ...   \n",
      "594       0  ...         0       0       0       0       0       0        0   \n",
      "121       0  ...         0       0       0       0       0       0        0   \n",
      "64        0  ...         0       0       0       0       0       0        0   \n",
      "346       0  ...         0       0       0       0       0       0        0   \n",
      "398       0  ...         0       0       0       0       0       0        0   \n",
      "90        0  ...         0       0       0       0       0       0        0   \n",
      "111       0  ...         0       0       0       0       0       0        0   \n",
      "482       0  ...         0       0       0       0       0       0        0   \n",
      "96        0  ...         0       0       0       0       0       0        0   \n",
      "7         0  ...         0       0       0       0       0       0        0   \n",
      "316       0  ...         0       0       0       0       0       0        0   \n",
      "469       0  ...         0       0       0       0       0       0        0   \n",
      "275       0  ...         0       0       0       0       0       0        0   \n",
      "282       0  ...         0       0       0       0       0       0        0   \n",
      "406       0  ...         0       0       0       0       0       0        0   \n",
      "124       0  ...         0       0       0       0       0       0        0   \n",
      "80        0  ...         0       0       0       0       0       0        0   \n",
      "205       0  ...         0       0       0       0       0       0        0   \n",
      "89        0  ...         0       0       0       0       0       0        0   \n",
      "477       0  ...         0       0       0       0       0       0        0   \n",
      "180       0  ...         0       0       0       0       0       0        0   \n",
      "409       0  ...         0       0       0       0       0       0        0   \n",
      "312       0  ...         0       0       0       0       0       0        0   \n",
      "268       0  ...         0       0       0       0       0       0        0   \n",
      "160       0  ...         0       0       0       0       0       0        0   \n",
      "396       0  ...         0       0       0       0       0       0        0   \n",
      "202       0  ...         0       0       0       0       0       0        0   \n",
      "18        0  ...         0       0       0       0       0       0        0   \n",
      "348       0  ...         0       0       0       0       0       0        0   \n",
      "91        0  ...         0       0       0       0       0       0        0   \n",
      "\n",
      "     303554  625671  38344  \n",
      "274       0       0      0  \n",
      "35        0       0      0  \n",
      "360       0       0      0  \n",
      "347       0       0      0  \n",
      "349       0       0      0  \n",
      "329       0       0      0  \n",
      "336       0       0      0  \n",
      "132       0       0      0  \n",
      "171       0       0      0  \n",
      "148       0       0      0  \n",
      "443       0       0      0  \n",
      "435       0       0      0  \n",
      "239       0       0      0  \n",
      "22        0       0      0  \n",
      "221       0       0      0  \n",
      "309       0       0      0  \n",
      "251       0       0      0  \n",
      "31        0       0      0  \n",
      "450       0       0      0  \n",
      "279       0       0      0  \n",
      "273       0       0      0  \n",
      "318       0       0      0  \n",
      "370       0       0      0  \n",
      "344       0       0      0  \n",
      "317       0       0      0  \n",
      "264       0       0      0  \n",
      "193       0       0      0  \n",
      "46        0       0      0  \n",
      "237       0       0      0  \n",
      "57        0       0      0  \n",
      "..      ...     ...    ...  \n",
      "594       0       0      0  \n",
      "121       0       0      0  \n",
      "64        0       0      0  \n",
      "346       0       0      0  \n",
      "398       0       0      0  \n",
      "90        0       0      0  \n",
      "111       0       0      0  \n",
      "482       0       0      0  \n",
      "96        0       0      0  \n",
      "7         0       0      0  \n",
      "316       0       0      0  \n",
      "469       0       0      0  \n",
      "275       0       0      0  \n",
      "282       0       0      0  \n",
      "406       0       0      0  \n",
      "124       0       0      0  \n",
      "80        0       0      0  \n",
      "205       0       0      0  \n",
      "89        0       0      0  \n",
      "477       0       0      0  \n",
      "180       0       0      0  \n",
      "409       0       0      0  \n",
      "312       0       0      0  \n",
      "268       0       0      0  \n",
      "160       0       0      0  \n",
      "396       0       0      0  \n",
      "202       0       0      0  \n",
      "18        0       0      0  \n",
      "348       0       0      0  \n",
      "91        0       0      0  \n",
      "\n",
      "[325 rows x 27400 columns]\n"
     ]
    }
   ],
   "source": [
    "p = pd.DataFrame(b.matrix_data.T.todense().astype(int), index=b.ids(axis=\"sample\"), columns=b.ids(axis=\"observation\"))\n",
    "print(p)"
   ]
  },
  {
   "cell_type": "code",
   "execution_count": 14,
   "metadata": {
    "collapsed": false
   },
   "outputs": [
    {
     "ename": "KeyError",
     "evalue": "\"None of [Int64Index([  1,   6,  16,  18,  32,  35,  53,  54,  60,  64,\\n            ...\\n            449, 450, 456, 466, 469, 474, 477, 483, 484, 597],\\n           dtype='int64', name='#SampleID', length=222)] are in the [index]\"",
     "output_type": "error",
     "traceback": [
      "\u001b[0;31m---------------------------------------------------------------------------\u001b[0m",
      "\u001b[0;31mKeyError\u001b[0m                                  Traceback (most recent call last)",
      "\u001b[0;32m<ipython-input-14-777fbb45125c>\u001b[0m in \u001b[0;36m<module>\u001b[0;34m()\u001b[0m\n\u001b[0;32m----> 1\u001b[0;31m \u001b[0mc\u001b[0m \u001b[0;34m=\u001b[0m \u001b[0mp\u001b[0m\u001b[0;34m.\u001b[0m\u001b[0mloc\u001b[0m\u001b[0;34m[\u001b[0m\u001b[0mi\u001b[0m\u001b[0;34m,\u001b[0m \u001b[0;34m:\u001b[0m\u001b[0;34m]\u001b[0m\u001b[0;34m\u001b[0m\u001b[0m\n\u001b[0m\u001b[1;32m      2\u001b[0m \u001b[0mprint\u001b[0m\u001b[0;34m(\u001b[0m\u001b[0mc\u001b[0m\u001b[0;34m)\u001b[0m\u001b[0;34m\u001b[0m\u001b[0m\n",
      "\u001b[0;32m/home/barbarahe/anaconda3/lib/python3.5/site-packages/pandas/core/indexing.py\u001b[0m in \u001b[0;36m__getitem__\u001b[0;34m(self, key)\u001b[0m\n\u001b[1;32m   1308\u001b[0m \u001b[0;34m\u001b[0m\u001b[0m\n\u001b[1;32m   1309\u001b[0m         \u001b[0;32mif\u001b[0m \u001b[0mtype\u001b[0m\u001b[0;34m(\u001b[0m\u001b[0mkey\u001b[0m\u001b[0;34m)\u001b[0m \u001b[0;32mis\u001b[0m \u001b[0mtuple\u001b[0m\u001b[0;34m:\u001b[0m\u001b[0;34m\u001b[0m\u001b[0m\n\u001b[0;32m-> 1310\u001b[0;31m             \u001b[0;32mreturn\u001b[0m \u001b[0mself\u001b[0m\u001b[0;34m.\u001b[0m\u001b[0m_getitem_tuple\u001b[0m\u001b[0;34m(\u001b[0m\u001b[0mkey\u001b[0m\u001b[0;34m)\u001b[0m\u001b[0;34m\u001b[0m\u001b[0m\n\u001b[0m\u001b[1;32m   1311\u001b[0m         \u001b[0;32melse\u001b[0m\u001b[0;34m:\u001b[0m\u001b[0;34m\u001b[0m\u001b[0m\n\u001b[1;32m   1312\u001b[0m             \u001b[0;32mreturn\u001b[0m \u001b[0mself\u001b[0m\u001b[0;34m.\u001b[0m\u001b[0m_getitem_axis\u001b[0m\u001b[0;34m(\u001b[0m\u001b[0mkey\u001b[0m\u001b[0;34m,\u001b[0m \u001b[0maxis\u001b[0m\u001b[0;34m=\u001b[0m\u001b[0;36m0\u001b[0m\u001b[0;34m)\u001b[0m\u001b[0;34m\u001b[0m\u001b[0m\n",
      "\u001b[0;32m/home/barbarahe/anaconda3/lib/python3.5/site-packages/pandas/core/indexing.py\u001b[0m in \u001b[0;36m_getitem_tuple\u001b[0;34m(self, tup)\u001b[0m\n\u001b[1;32m    799\u001b[0m \u001b[0;34m\u001b[0m\u001b[0m\n\u001b[1;32m    800\u001b[0m         \u001b[0;31m# no multi-index, so validate all of the indexers\u001b[0m\u001b[0;34m\u001b[0m\u001b[0;34m\u001b[0m\u001b[0m\n\u001b[0;32m--> 801\u001b[0;31m         \u001b[0mself\u001b[0m\u001b[0;34m.\u001b[0m\u001b[0m_has_valid_tuple\u001b[0m\u001b[0;34m(\u001b[0m\u001b[0mtup\u001b[0m\u001b[0;34m)\u001b[0m\u001b[0;34m\u001b[0m\u001b[0m\n\u001b[0m\u001b[1;32m    802\u001b[0m \u001b[0;34m\u001b[0m\u001b[0m\n\u001b[1;32m    803\u001b[0m         \u001b[0;31m# ugly hack for GH #836\u001b[0m\u001b[0;34m\u001b[0m\u001b[0;34m\u001b[0m\u001b[0m\n",
      "\u001b[0;32m/home/barbarahe/anaconda3/lib/python3.5/site-packages/pandas/core/indexing.py\u001b[0m in \u001b[0;36m_has_valid_tuple\u001b[0;34m(self, key)\u001b[0m\n\u001b[1;32m    149\u001b[0m             \u001b[0;32mif\u001b[0m \u001b[0mi\u001b[0m \u001b[0;34m>=\u001b[0m \u001b[0mself\u001b[0m\u001b[0;34m.\u001b[0m\u001b[0mobj\u001b[0m\u001b[0;34m.\u001b[0m\u001b[0mndim\u001b[0m\u001b[0;34m:\u001b[0m\u001b[0;34m\u001b[0m\u001b[0m\n\u001b[1;32m    150\u001b[0m                 \u001b[0;32mraise\u001b[0m \u001b[0mIndexingError\u001b[0m\u001b[0;34m(\u001b[0m\u001b[0;34m'Too many indexers'\u001b[0m\u001b[0;34m)\u001b[0m\u001b[0;34m\u001b[0m\u001b[0m\n\u001b[0;32m--> 151\u001b[0;31m             \u001b[0;32mif\u001b[0m \u001b[0;32mnot\u001b[0m \u001b[0mself\u001b[0m\u001b[0;34m.\u001b[0m\u001b[0m_has_valid_type\u001b[0m\u001b[0;34m(\u001b[0m\u001b[0mk\u001b[0m\u001b[0;34m,\u001b[0m \u001b[0mi\u001b[0m\u001b[0;34m)\u001b[0m\u001b[0;34m:\u001b[0m\u001b[0;34m\u001b[0m\u001b[0m\n\u001b[0m\u001b[1;32m    152\u001b[0m                 raise ValueError(\"Location based indexing can only have [%s] \"\n\u001b[1;32m    153\u001b[0m                                  \"types\" % self._valid_types)\n",
      "\u001b[0;32m/home/barbarahe/anaconda3/lib/python3.5/site-packages/pandas/core/indexing.py\u001b[0m in \u001b[0;36m_has_valid_type\u001b[0;34m(self, key, axis)\u001b[0m\n\u001b[1;32m   1393\u001b[0m \u001b[0;34m\u001b[0m\u001b[0m\n\u001b[1;32m   1394\u001b[0m                 raise KeyError(\"None of [%s] are in the [%s]\" %\n\u001b[0;32m-> 1395\u001b[0;31m                                (key, self.obj._get_axis_name(axis)))\n\u001b[0m\u001b[1;32m   1396\u001b[0m \u001b[0;34m\u001b[0m\u001b[0m\n\u001b[1;32m   1397\u001b[0m             \u001b[0;32mreturn\u001b[0m \u001b[0;32mTrue\u001b[0m\u001b[0;34m\u001b[0m\u001b[0m\n",
      "\u001b[0;31mKeyError\u001b[0m: \"None of [Int64Index([  1,   6,  16,  18,  32,  35,  53,  54,  60,  64,\\n            ...\\n            449, 450, 456, 466, 469, 474, 477, 483, 484, 597],\\n           dtype='int64', name='#SampleID', length=222)] are in the [index]\""
     ]
    }
   ],
   "source": [
    "c = p.loc[i, :]\n",
    "print(c)"
   ]
  },
  {
   "cell_type": "code",
   "execution_count": 15,
   "metadata": {
    "collapsed": false
   },
   "outputs": [],
   "source": [
    "from sklearn import model_selection\n",
    "from sklearn.ensemble import RandomForestClassifier\n",
    "#10 fold cross-validation, 5 times repeated\n",
    "#for i in range(5):\n",
    "   # kfold = model_selection.KFold(n_splits=10, random_state=7)\n",
    "    #model = RandomForestClassifier(n_estimators=1000)\n",
    "    #results = model_selection.cross_val_score(model, p.fillna(0).as_matrix(), y, cv=kfold)\n",
    "    #print(results.mean())\n"
   ]
  },
  {
   "cell_type": "code",
   "execution_count": null,
   "metadata": {
    "collapsed": false
   },
   "outputs": [],
   "source": [
    "from sklearn.cross_validation import cross_val_score\n",
    "from sklearn.metrics import confusion_matrix\n",
    "from sklearn.model_selection import cross_val_predict\n",
    "iter_range = range(1, 6)\n",
    "# empty list to store scores\n",
    "rForest_scores = []\n",
    "average_accuracy = 0.0;\n",
    "\n",
    "for i in iter_range:\n",
    "    classifier = RandomForestClassifier(n_estimators=1000)\n",
    "    #cross-validation score\n",
    "    #scores = cross_val_score(classifier, c.fillna(0).as_matrix(), i_2.bmi_group_coded, cv=10, scoring='accuracy')\n",
    "    predicted = cross_val_predict(classifier, c.fillna(0).as_matrix(), i_2.bmi_group_binned, cv=10)\n",
    "    #cross-validation AUC score\n",
    "    #scores = cross_val_score(classifier, c.fillna(0).as_matrix(), i_2.bmi_group_binned, cv=10, scoring='roc_auc')\n",
    "    #rForest_scores.append(scores.mean())\n",
    "    #average_accuracy+=scores.mean()\n",
    "    print(confusion_matrix(i_2.bmi_group_binned, predicted))\n",
    "\n",
    "#print(rForest_scores)\n",
    "#print(average_accuracy/(5.0))"
   ]
  },
  {
   "cell_type": "code",
   "execution_count": null,
   "metadata": {
    "collapsed": false
   },
   "outputs": [],
   "source": [
    "from sklearn.cross_validation import cross_val_score\n",
    "iter_range = range(1, 6)\n",
    "# empty list to store scores\n",
    "rForest_scores = []\n",
    "average_accuracy = 0.0;\n",
    "\n",
    "for i in iter_range:\n",
    "    classifier = RandomForestClassifier(n_estimators=1000)\n",
    "    #cross-validation score\n",
    "    #scores = cross_val_score(classifier, c.fillna(0).as_matrix(), i_2.bmi_group_coded, cv=10, scoring='accuracy')\n",
    "    #cross-validation AUC score\n",
    "    scores = cross_val_score(classifier, c.fillna(0).as_matrix(), i_2.bmi_group_binned, cv=10, scoring='roc_auc')\n",
    "    rForest_scores.append(scores.mean())\n",
    "    average_accuracy+=scores.mean()\n",
    "\n",
    "print(rForest_scores)\n",
    "print(average_accuracy/(5.0))"
   ]
  },
  {
   "cell_type": "code",
   "execution_count": null,
   "metadata": {
    "collapsed": true
   },
   "outputs": [],
   "source": []
  }
 ],
 "metadata": {
  "anaconda-cloud": {},
  "kernelspec": {
   "display_name": "Python [conda root]",
   "language": "python",
   "name": "conda-root-py"
  }
 },
 "nbformat": 4,
 "nbformat_minor": 1
}
