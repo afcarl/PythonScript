{
 "cells": [
  {
   "cell_type": "code",
   "execution_count": 2,
   "metadata": {
    "collapsed": false
   },
   "outputs": [
    {
     "name": "stderr",
     "output_type": "stream",
     "text": [
      "/Users/shwetakinger/anaconda/lib/python3.5/site-packages/sklearn/cross_validation.py:44: DeprecationWarning: This module was deprecated in version 0.18 in favor of the model_selection module into which all the refactored classes and functions are moved. Also note that the interface of the new CV iterators are different from that of this module. This module will be removed in 0.20.\n",
      "  \"This module will be removed in 0.20.\", DeprecationWarning)\n"
     ]
    }
   ],
   "source": [
    "import numpy as np\n",
    "import pandas as pd\n",
    "from sklearn.model_selection import train_test_split\n",
    "from sklearn.cross_validation import cross_val_score\n",
    "from sklearn.neural_network import MLPClassifier\n",
    "from sklearn.neighbors import KNeighborsClassifier\n",
    "from sklearn.svm import SVC\n",
    "from sklearn.gaussian_process import GaussianProcessClassifier\n",
    "from sklearn.gaussian_process.kernels import RBF\n",
    "from sklearn.tree import DecisionTreeClassifier\n",
    "from sklearn.ensemble import RandomForestClassifier, AdaBoostClassifier, ExtraTreesClassifier\n",
    "from sklearn.naive_bayes import GaussianNB\n",
    "\n",
    "#1st array is KNN (neighbors, algorithm)\n"
   ]
  },
  {
   "cell_type": "code",
   "execution_count": 5,
   "metadata": {
    "collapsed": false
   },
   "outputs": [],
   "source": [
    "#Array of arrays \n",
    "arr = [\n",
    "         [2, 'auto'],\n",
    "         [ ],\n",
    "        [ ],\n",
    "        [1.0, ['linear', 'poly', 'rbf', 'sigmoid', 'precomputed']],\n",
    "        #max_iter_predict\n",
    "        [],\n",
    "        #n_estimators, max_depth\n",
    "        [1000, 10, 'sqrt'],\n",
    "        #hidden layer sizes (increment by 10), n_estimators, learning rate (increment by 1 each iter)\n",
    "        [150 , 200],\n",
    "        [[RandomForestClassifier(), DecisionTreeClassifier()], 1000,3.0],\n",
    "        [1000, 10, 'sqrt']\n",
    "]"
   ]
  },
  {
   "cell_type": "code",
   "execution_count": 4,
   "metadata": {
    "collapsed": false
   },
   "outputs": [],
   "source": [
    "#define as a function \n",
    "models = []\n",
    "models.append(('KNN', KNeighborsClassifier(n_neighbors=arr[0][0] , algorithm= arr[0][1])))\n",
    "models.append(('Decision Tree', DecisionTreeClassifier()))\n",
    "models.append(('Naive Bayes', GaussianNB()))\n",
    "models.append(('SVM', SVC(C=arr[3][0], kernel=arr[3][1][0])))\n",
    "models.append(('Gaussian Process', GaussianProcessClassifier()))\n",
    "models.append(('Random Forest', RandomForestClassifier(n_estimators=arr[5][0], max_depth=arr[5][1], max_features=arr[5][2])))\n",
    "models.append(('Neural Net', MLPClassifier(hidden_layer_sizes=arr[6][0], max_iter=arr[6][1])))\n",
    "models.append(('AdaBoost', AdaBoostClassifier(base_estimator=arr[7][0][0],n_estimators=arr[7][1], learning_rate=arr[7][2])))\n",
    "models.append(('Extra Trees Classifier', ExtraTreesClassifier(n_estimators=arr[8][0], max_depth=arr[8][1], max_features=arr[8][2])))\n",
    "\n"
   ]
  },
  {
   "cell_type": "code",
   "execution_count": null,
   "metadata": {
    "collapsed": false
   },
   "outputs": [],
   "source": [
    "def run_dataset(dataset_name, X, y):\n",
    "    iter_range = range(1,6)\n",
    "    average_accuracy = 0.0\n",
    "    df = pd.DataFrame()\n",
    "    df['classifier name'] = ['KNN', 'Decision Tree', 'Naive Bayes', 'SVM', 'Gaussian Process', 'Random Forest', 'Neural Net', 'AdaBoost', 'Extra Trees Classifier']\n",
    "    accuracy_list = []\n",
    "    for name, model in models:\n",
    "        print(name)\n",
    "        for i in iter_range:\n",
    "            classifier = model\n",
    "            print (model)\n",
    "            scores = cross_val_score(classifier, X, y, cv=10, scoring='roc_auc')\n",
    "            average_accuracy+=scores.mean()\n",
    "        accuracy_list.append((average_accuracy/(5.0)))\n",
    "        average_accuracy = 0.0\n",
    "        \n",
    "    se = pd.Series(accuracy_list)\n",
    "    df[dataset_name] = se.values\n",
    "    return df\n",
    "    \n"
   ]
  },
  {
   "cell_type": "code",
   "execution_count": null,
   "metadata": {
    "collapsed": true
   },
   "outputs": [],
   "source": []
  }
 ],
 "metadata": {
  "anaconda-cloud": {},
  "kernelspec": {
   "display_name": "Python [conda root]",
   "language": "python",
   "name": "conda-root-py"
  },
  "language_info": {
   "codemirror_mode": {
    "name": "ipython",
    "version": 3
   },
   "file_extension": ".py",
   "mimetype": "text/x-python",
   "name": "python",
   "nbconvert_exporter": "python",
   "pygments_lexer": "ipython3",
   "version": "3.5.2"
  }
 },
 "nbformat": 4,
 "nbformat_minor": 1
}
