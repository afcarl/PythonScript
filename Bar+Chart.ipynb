{
 "cells": [
  {
   "cell_type": "code",
   "execution_count": 541,
   "metadata": {
    "collapsed": false
   },
   "outputs": [
    {
     "data": {
      "text/plain": [
       "<matplotlib.figure.Figure at 0x7fd41f9a2780>"
      ]
     },
     "execution_count": 541,
     "metadata": {},
     "output_type": "execute_result"
    }
   ],
   "source": [
    "#!/usr/bin/python\n",
    "\n",
    "\"\"\"\n",
    "========\n",
    "Barchart\n",
    "========\n",
    "\n",
    "A bar plot with errorbars and height labels on individual bars\n",
    "\"\"\"\"\"\n",
    "\n",
    "import numpy as np\n",
    "import matplotlib.pyplot as plt\n",
    "\n",
    "from matplotlib.ticker import FuncFormatter\n",
    "formatter = FuncFormatter(lambda y, pos: \"%d%%\" % (y))\n",
    "ax.yaxis.set_major_formatter(formatter)\n",
    "plt.figure(figsize=(1.5,1)) # sets size of figure"
   ]
  },
  {
   "cell_type": "code",
   "execution_count": 542,
   "metadata": {
    "collapsed": false
   },
   "outputs": [],
   "source": [
    "# dictionary not used yet\n",
    "values = {\n",
    "    'amish': (),\n",
    "    'HMP': {},\n",
    "    'turnbaugh': {},\n",
    "    'new_study': {},\n",
    "}\n",
    "\n",
    "N = 9 # number of classifiers\n",
    "\n",
    "# Amish Accuracies\n",
    "amishA = [0.470502021563, 0.580275718778, 0.457659478886, 0.530750224618, 0.5, \n",
    "          0.700398697215, 0.532827942498, 0.637415768194, 0.67268081761]\n",
    "\n",
    "# multiply accuracies by 100 to get accuracies\n",
    "for index, item in enumerate(amishA):\n",
    "    amishA[index] *= 100\n",
    "\n",
    "# HMP Accuracies\n",
    "HMPA = [0.517695200177, 0.679468038045, 0.547445255474, 0.592402123424, 0.5, \n",
    "                               0.639239106392, 0.628400796284, 0.661634594116, 0.606890068569]\n",
    "\n",
    "# Turnbaught Accuracies\n",
    "turnbaughA = [0.689094301221, 0.657598371777, 0.549327227499, 0.703132066938, 0.5, \n",
    "                                     0.778459972863, 0.750045228403, 0.770612844867, 0.774061510629]\n",
    "\n",
    "# new study accuracies\n",
    "new_studyA = [0.854166666667, 0.85119047619, 0.72619047619, 0.880952380952, 0.5, \n",
    "                                    0.964285714286, 0.827380952381, 0.91369047619, 0.970238095238]"
   ]
  },
  {
   "cell_type": "code",
   "execution_count": 543,
   "metadata": {
    "collapsed": false,
    "scrolled": true
   },
   "outputs": [
    {
     "data": {
      "text/plain": [
       "(0, 100)"
      ]
     },
     "execution_count": 543,
     "metadata": {},
     "output_type": "execute_result"
    }
   ],
   "source": [
    "amishStd = [0.1373923, 0.198704, 0.1, 0.1711936, 0.0, 0.2135, 0.15766, 0.166027, 0.1696152]\n",
    "\n",
    "#multiply each value by 100 to get percentages\n",
    "for index, item in enumerate(amishStd):\n",
    "    amishStd[index] *= 100\n",
    "\n",
    "#dummy values for now\n",
    "#values['HMP']['std_dev'] = (2, 3, 4, 1, 2, 3, 8, 9, 2)\n",
    "#values['turnbaugh']['std_dev'] = (2, 3, 4, 1, 2, 3, 8, 9, 2)\n",
    "#values['new_study']['std_dev'] = (2, 3, 4, 1, 2, 3, 8, 9, 2)\n",
    "\n",
    "ind = np.arange(N)  # the x locations for the groups\n",
    "width = 0.5       # the width of the bars\n",
    "\n",
    "# plot bars\n",
    "fig, ax = plt.subplots()\n",
    "rects1 = ax.bar(ind, amishA, width, color='r', yerr=amishStd)\n",
    "\n",
    "# grey lines in plot\n",
    "ax.axhline(y=20, c=\"grey\",linewidth=0.5,zorder=0)\n",
    "ax.axhline(y=40, c=\"grey\",linewidth=0.5,zorder=0)\n",
    "ax.axhline(y=60, c=\"grey\",linewidth=0.5,zorder=0)\n",
    "ax.axhline(y=80, c=\"grey\",linewidth=0.5,zorder=0)\n",
    "\n",
    "# range for y values\n",
    "plt.ylim([0,100])"
   ]
  },
  {
   "cell_type": "code",
   "execution_count": 544,
   "metadata": {
    "collapsed": false
   },
   "outputs": [
    {
     "data": {
      "text/plain": [
       "[<matplotlib.text.Text at 0x7fd41facbd68>,\n",
       " <matplotlib.text.Text at 0x7fd41fae0d30>,\n",
       " <matplotlib.text.Text at 0x7fd41f973160>,\n",
       " <matplotlib.text.Text at 0x7fd41fac69b0>,\n",
       " <matplotlib.text.Text at 0x7fd41fad3358>,\n",
       " <matplotlib.text.Text at 0x7fd41fad3cf8>,\n",
       " <matplotlib.text.Text at 0x7fd41fb2fb70>,\n",
       " <matplotlib.text.Text at 0x7fd41f9ec828>,\n",
       " <matplotlib.text.Text at 0x7fd41fb9e390>]"
      ]
     },
     "execution_count": 544,
     "metadata": {},
     "output_type": "execute_result"
    }
   ],
   "source": [
    "labels = ('KNN', 'Decision Tree', 'Naive Bayes', 'SVM', 'Gaussian Process', 'Random Forest', 'Neural Net',\n",
    "                   'Adaboost', 'Extra Trees')\n",
    "\n",
    "# add some text for labels, title and axes ticks\n",
    "ax.set_ylabel('Classification Accuracies')\n",
    "ax.set_title('Classification Accuracies for Amish Study')\n",
    "\n",
    "# ticks for name of classifier\n",
    "plt.xticks(range(9), labels, rotation=35, ha='center')\n",
    "ax.set_xticklabels(labels, ha='right')"
   ]
  },
  {
   "cell_type": "code",
   "execution_count": 545,
   "metadata": {
    "collapsed": false
   },
   "outputs": [],
   "source": [
    "def autolabel(rects):\n",
    "    \"\"\"\n",
    "    Attach a text label above each bar displaying its height\n",
    "    \"\"\"\n",
    "    for rect in rects:\n",
    "        height = rect.get_height()\n",
    "        ax.text(rect.get_x() + rect.get_width()/2., 1.05*height,\n",
    "                '%d' % int(height),\n",
    "                ha='center', va='bottom')"
   ]
  },
  {
   "cell_type": "code",
   "execution_count": 546,
   "metadata": {
    "collapsed": false
   },
   "outputs": [],
   "source": [
    "# commenting out the labels\n",
    "#autolabel(rects1)"
   ]
  },
  {
   "cell_type": "code",
   "execution_count": 547,
   "metadata": {
    "collapsed": false
   },
   "outputs": [
    {
     "data": {
      "text/plain": [
       "<matplotlib.figure.Figure at 0x7fd41f9a2780>"
      ]
     },
     "metadata": {},
     "output_type": "display_data"
    },
    {
     "data": {
      "image/png": "[encoded data removed]",
      "text/plain": [
       "<matplotlib.figure.Figure at 0x7fd41f9f9390>"
      ]
     },
     "metadata": {},
     "output_type": "display_data"
    }
   ],
   "source": [
    "plt.show()"
   ]
  },
  {
   "cell_type": "code",
   "execution_count": null,
   "metadata": {
    "collapsed": true
   },
   "outputs": [],
   "source": []
  }
 ],
 "metadata": {
  "anaconda-cloud": {},
  "kernelspec": {
   "display_name": "Python [conda root]",
   "language": "python",
   "name": "conda-root-py"
  },
  "language_info": {
   "codemirror_mode": {
    "name": "ipython",
    "version": 3
   },
   "file_extension": ".py",
   "mimetype": "text/x-python",
   "name": "python",
   "nbconvert_exporter": "python",
   "pygments_lexer": "ipython3",
   "version": "3.5.2"
  }
 },
 "nbformat": 4,
 "nbformat_minor": 1
}
