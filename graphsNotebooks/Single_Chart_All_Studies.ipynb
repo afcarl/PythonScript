{
 "cells": [
  {
   "cell_type": "code",
   "execution_count": 24,
   "metadata": {
    "collapsed": false
   },
   "outputs": [
    {
     "data": {
      "text/plain": [
       "<matplotlib.figure.Figure at 0x7f367054eef0>"
      ]
     },
     "execution_count": 24,
     "metadata": {},
     "output_type": "execute_result"
    }
   ],
   "source": [
    "#!/usr/bin/python\n",
    "\n",
    "\"\"\"\n",
    "========\n",
    "Barchart\n",
    "========\n",
    "\n",
    "A bar plot with errorbars and height labels on individual bars\n",
    "\"\"\"\"\"\n",
    "\n",
    "import numpy as np\n",
    "import matplotlib.pyplot as plt\n",
    "\n",
    "from matplotlib.ticker import FuncFormatter\n",
    "formatter = FuncFormatter(lambda y, pos: \"%d%%\" % (y))\n",
    "#ax.yaxis.set_major_formatter(formatter)\n",
    "plt.figure(figsize=(1.5,1)) # sets size of figure"
   ]
  },
  {
   "cell_type": "code",
   "execution_count": 25,
   "metadata": {
    "collapsed": true
   },
   "outputs": [],
   "source": [
    "# dictionary to store each study's accuracies and standard deviation values\n",
    "\n",
    "algorithms = {\n",
    "    'knn': {},\n",
    "    'dec_tree': {},\n",
    "    'naive_bayes': {},\n",
    "    'svm': {},\n",
    "    'gaussian': {},\n",
    "    'ran_forest': {},\n",
    "    'neural_net': {},\n",
    "    'adaboost': {},\n",
    "    'extra_trees': {},\n",
    "}\n",
    "\n",
    "# full names for each algorithm\n",
    "algorithms['knn']['name'] = \"KNN\"\n",
    "algorithms['dec_tree']['name'] = \"Decision Tree\"\n",
    "algorithms['naive_bayes']['name'] = \"Naive Bayes\"\n",
    "algorithms['svm']['name'] = \"SVM\"\n",
    "algorithms['gaussian']['name'] = \"Gaussian Process\"\n",
    "algorithms['ran_forest']['name'] = \"Random Forest\"\n",
    "algorithms['neural_net']['name'] = \"Neural Net\"\n",
    "algorithms['adaboost']['name'] = \"AdaBoost\"\n",
    "algorithms['extra_trees']['name'] = \"Extra Trees Classifier\"\n",
    "\n",
    "# stores studies that were not ran with 9 classifiers\n",
    "other = {\n",
    "    'wu': {},\n",
    "    'yat': {},\n",
    "}\n",
    "other['wu']['title'] = 'Wu'\n",
    "other['yat']['title'] = 'Yatsunenko'"
   ]
  },
  {
   "cell_type": "code",
   "execution_count": 26,
   "metadata": {
    "collapsed": false
   },
   "outputs": [],
   "source": [
    "# Classifciation ccuracies for each study (in decimal format)\n",
    "# full names for each algorithm\n",
    "\n",
    "# in order of amish, HMP, turnbaugh, new_study\n",
    "algorithms['knn']['accuracies'] = [0.470502021563, 0.517695200177, 0.689094301221, 0.854166666667]\n",
    "algorithms['dec_tree']['accuracies'] = [0.580275718778, 0.679468038045, 0.657598371777, 0.85119047619]\n",
    "algorithms['naive_bayes']['accuracies'] = [0.457659478886, 0.547445255474, 0.549327227499,0.72619047619] \n",
    "algorithms['svm']['accuracies'] = [0.530750224618, 0.592402123424, 0.703132066938, 0.880952380952]\n",
    "algorithms['gaussian']['accuracies'] = [0.5, 0.5, 0.5, 0.5]\n",
    "algorithms['ran_forest']['accuracies'] = [0.700398697215, 0.639239106392, 0.778459972863,  0.964285714286] \n",
    "algorithms['neural_net']['accuracies'] = [0.532827942498, 0.628400796284, 0.750045228403,  0.827380952381] \n",
    "algorithms['adaboost']['accuracies'] = [0.637415768194, 0.661634594116, 0.770612844867, 0.91369047619]\n",
    "algorithms['extra_trees']['accuracies'] = [0.67268081761, 0.606890068569, 0.774061510629, 0.970238095238]\n",
    "\n",
    "\n",
    "# Wu study accuracies\n",
    "other['wu']['accuracies'] = [0.592995169082, 0.652657004831, 0.49154589372, 0.728985507246, 0.5, \n",
    "                              0.966183574879, 0.711111111111, 0.619082125604]\n",
    "# Yatsunenko study accuracies\n",
    "other['yat']['accuracies'] = [0.584343825249, 0.638425925926, 0.485989278752, 0.530306157551, 0.5]"
   ]
  },
  {
   "cell_type": "code",
   "execution_count": 27,
   "metadata": {
    "collapsed": true
   },
   "outputs": [],
   "source": [
    "# Standard deviation values for each study (in decimal format)\n",
    "\n",
    "# in order of amish, HMP, turnbaugh, new_study\n",
    "algorithms['knn']['std_dev'] = [0.08512, 0.1373923, 0.202611069314, 0.137219]\n",
    "algorithms['dec_tree']['std_dev'] = [0.136595, 0.198704, 0.115264000084, 0.1383601] \n",
    "algorithms['naive_bayes']['std_dev'] = [0.087962, 0.1, 0.0877397345522, 0.14617]\n",
    "algorithms['svm']['std_dev'] = [0.10546, 0.1711936, 0.202617456781, 0.20495]\n",
    "algorithms['gaussian']['std_dev'] = [0.0, 0.0, 0.0, 0.0]\n",
    "algorithms['ran_forest']['std_dev'] = [0.11296, 0.2135, 0.157518127573, 0.0509175]\n",
    "algorithms['neural_net']['std_dev'] = [0.142749, 0.15766, 0.155300886903, 0.1327533] \n",
    "algorithms['adaboost']['std_dev'] = [0.1725878, 0.166027, 0.182318062827,  0.09429]\n",
    "algorithms['extra_trees']['std_dev'] = [0.12152, 0.1696152, 0.169972989806,  0.0786165]\n",
    "\n",
    "# Wu study standard deviation values\n",
    "other['wu']['std_dev'] = [0.28734894159, 0.193476958146, 0.025, 0.18405916923, 0.0, \n",
    "                           0.0666666666667, 0.258112809101, 0.314735338552]\n",
    "\n",
    "# Yatsunenko study standard deviation values\n",
    "other['yat']['std_dev'] = [0.121632955255, 0.138845548793, 0.0223951604119, 0.146730148321]"
   ]
  },
  {
   "cell_type": "code",
   "execution_count": 28,
   "metadata": {
    "collapsed": false
   },
   "outputs": [
    {
     "data": {
      "text/plain": [
       "\"\\n# Randomly Generated Accuracies (Most frequent)\\n\\n# Amish study random accuracies\\nvalues['amish']['ran_acc'] = 0.665217\\n\\n# HMP study random accuracies\\nvalues['HMP']['ran_acc'] = 0.81879\\n\\n# Turnbaugh study random accuracies\\nvalues['turnbaugh']['ran_acc'] = 0.76205\\n\\n# New study random accuracies\\nvalues['new_study']['ran_acc'] = 0.5\\n\\n# Wu study random accuracies\\nother['wu']['std_dev'] = 0\\n\\n# Yatsunenko study random accuracies\\nother['yat']['std_dev'] = 0\\n\""
      ]
     },
     "execution_count": 28,
     "metadata": {},
     "output_type": "execute_result"
    }
   ],
   "source": [
    "'''\n",
    "# Randomly Generated Accuracies (Most frequent)\n",
    "\n",
    "# Amish study random accuracies\n",
    "values['amish']['ran_acc'] = 0.665217\n",
    "\n",
    "# HMP study random accuracies\n",
    "values['HMP']['ran_acc'] = 0.81879\n",
    "\n",
    "# Turnbaugh study random accuracies\n",
    "values['turnbaugh']['ran_acc'] = 0.76205\n",
    "\n",
    "# New study random accuracies\n",
    "values['new_study']['ran_acc'] = 0.5\n",
    "\n",
    "# Wu study random accuracies\n",
    "other['wu']['std_dev'] = 0\n",
    "\n",
    "# Yatsunenko study random accuracies\n",
    "other['yat']['std_dev'] = 0\n",
    "'''"
   ]
  },
  {
   "cell_type": "code",
   "execution_count": 29,
   "metadata": {
    "collapsed": false,
    "scrolled": true
   },
   "outputs": [],
   "source": [
    "# Iterates through all the studies for both accuracies and std_dev lists\n",
    "# in order to obtain percentage values (multiply by 100)\n",
    "\n",
    "# iterate through each study in dictionary\n",
    "for alg in algorithms:\n",
    "    # multiply accuracies in study by 100\n",
    "    for index, item in enumerate(algorithms[alg]['accuracies']):\n",
    "        algorithms[alg]['accuracies'][index] *= 100\n",
    "\n",
    "    #multiply each std_dev value in study by 100\n",
    "    for index, item in enumerate(algorithms[alg]['std_dev']):\n",
    "        algorithms[alg]['std_dev'][index] *= 100\n",
    "        \n",
    "    \n",
    "    #values[study_name]['ran_acc'] *= 100"
   ]
  },
  {
   "cell_type": "code",
   "execution_count": 30,
   "metadata": {
    "collapsed": false
   },
   "outputs": [],
   "source": [
    "# Plots a figure given a study_name (string) and its corresponding list of accuracies and list of std deviations\n",
    "# assumes that 9 classifiers are used\n",
    "\n",
    "def plotFigure():\n",
    "    N = 9 # number of classifiers\n",
    "    \n",
    "    ind = np.arange(N)  # the x locations for the groups\n",
    "    width = 0.35      # the width of the bars\n",
    "\n",
    "    # plot bars\n",
    "    fig, ax = plt.subplots()\n",
    "    \n",
    "    rects1 = ax.bar(ind, algorithms['knn']['accuracies'], width, color='#6db7c4', yerr=algorithms['knn']['std_dev'])\n",
    "    rects2 = ax.bar(ind, algorithms['dec_tree']['accuracies'], width, color='#6db7c4', yerr=algorithms['dec_tree']['std_dev'])\n",
    "    rects3 = ax.bar(ind, algorithms['naive_bayes']['accuracies'], width, color='#6db7c4', yerr=algorithms['naive_bayes']['std_dev'])\n",
    "    rects4 = ax.bar(ind, algorithms['svm']['accuracies'], width, color='#6db7c4', yerr=algorithms['svm']['std_dev'])\n",
    "    rects5 = ax.bar(ind, algorithms['gaussian']['accuracies'], width, color='#6db7c4', yerr=algorithms['gaussian']['std_dev'])\n",
    "    rects6 = ax.bar(ind, algorithms['ran_forest']['accuracies'], width, color='#6db7c4', yerr=algorithms['ran_forest']['std_dev'])\n",
    "    rects7 = ax.bar(ind, algorithms['neural_net']['accuracies'], width, color='#6db7c4', yerr=algorithms['neural_net']['std_dev'])\n",
    "    rects8 = ax.bar(ind, algorithms['adaboost']['accuracies'], width, color='#6db7c4', yerr=algorithms['adaboost']['std_dev'])\n",
    "    rects9 = ax.bar(ind, algorithms['extra_trees']['accuracies'], width, color='#6db7c4', yerr=algorithms['extra_trees']['std_dev'])\n",
    "    \n",
    "    \n",
    "    ax.legend((rects1[0], rects2[0], rects3[0], rects4[0], rects5[0], rects6[0], rects7[0], rects8[0], rects9[0]), \n",
    "              ('Amish', 'HMP', 'Turnbaugh', 'New Study'))\n",
    "    \n",
    "    #ax.axhline(y=ran_acc, c=\"red\",linewidth=1,zorder=0)\n",
    "\n",
    "    # range for y values\n",
    "    plt.ylim([0,100])\n",
    "    \n",
    "    # labels along x axis (classifiers)\n",
    "    labels = (\"KNN\", \"Decision Tree\", \"Naive Bayes\", \"SVM\", \"Gaussian Process\", \"Random Forest\", \n",
    "               \"Neural Net\", \"AdaBoost\", \"Extra Trees Classifier\")\n",
    "\n",
    "    # add some text for labels, title and axes ticks\n",
    "    ax.set_ylabel('Classification Accuracies (%)')\n",
    "    ax.set_title('Classification Accuracies for Each Study')\n",
    "\n",
    "    # ticks for name of classifier\n",
    "    plt.xticks(range(4), labels, rotation=35, ha='center')\n",
    "    ax.set_xticklabels(labels, ha='right')\n",
    "\n",
    "    # displays the figure\n",
    "    plt.show()"
   ]
  },
  {
   "cell_type": "code",
   "execution_count": 31,
   "metadata": {
    "collapsed": false
   },
   "outputs": [
    {
     "ename": "ValueError",
     "evalue": "incompatible sizes: argument 'height' must be length 9 or scalar",
     "output_type": "error",
     "traceback": [
      "\u001b[0;31m---------------------------------------------------------------------------\u001b[0m",
      "\u001b[0;31mValueError\u001b[0m                                Traceback (most recent call last)",
      "\u001b[0;32m<ipython-input-31-ef702e54c2df>\u001b[0m in \u001b[0;36m<module>\u001b[0;34m()\u001b[0m\n\u001b[0;32m----> 1\u001b[0;31m \u001b[0mplotFigure\u001b[0m\u001b[0;34m(\u001b[0m\u001b[0;34m)\u001b[0m\u001b[0;34m\u001b[0m\u001b[0m\n\u001b[0m",
      "\u001b[0;32m<ipython-input-30-f3f0f42be694>\u001b[0m in \u001b[0;36mplotFigure\u001b[0;34m()\u001b[0m\n\u001b[1;32m     11\u001b[0m     \u001b[0mfig\u001b[0m\u001b[0;34m,\u001b[0m \u001b[0max\u001b[0m \u001b[0;34m=\u001b[0m \u001b[0mplt\u001b[0m\u001b[0;34m.\u001b[0m\u001b[0msubplots\u001b[0m\u001b[0;34m(\u001b[0m\u001b[0;34m)\u001b[0m\u001b[0;34m\u001b[0m\u001b[0m\n\u001b[1;32m     12\u001b[0m \u001b[0;34m\u001b[0m\u001b[0m\n\u001b[0;32m---> 13\u001b[0;31m     \u001b[0mrects1\u001b[0m \u001b[0;34m=\u001b[0m \u001b[0max\u001b[0m\u001b[0;34m.\u001b[0m\u001b[0mbar\u001b[0m\u001b[0;34m(\u001b[0m\u001b[0mind\u001b[0m\u001b[0;34m,\u001b[0m \u001b[0malgorithms\u001b[0m\u001b[0;34m[\u001b[0m\u001b[0;34m'knn'\u001b[0m\u001b[0;34m]\u001b[0m\u001b[0;34m[\u001b[0m\u001b[0;34m'accuracies'\u001b[0m\u001b[0;34m]\u001b[0m\u001b[0;34m,\u001b[0m \u001b[0mwidth\u001b[0m\u001b[0;34m,\u001b[0m \u001b[0mcolor\u001b[0m\u001b[0;34m=\u001b[0m\u001b[0;34m'#6db7c4'\u001b[0m\u001b[0;34m,\u001b[0m \u001b[0myerr\u001b[0m\u001b[0;34m=\u001b[0m\u001b[0malgorithms\u001b[0m\u001b[0;34m[\u001b[0m\u001b[0;34m'knn'\u001b[0m\u001b[0;34m]\u001b[0m\u001b[0;34m[\u001b[0m\u001b[0;34m'std_dev'\u001b[0m\u001b[0;34m]\u001b[0m\u001b[0;34m)\u001b[0m\u001b[0;34m\u001b[0m\u001b[0m\n\u001b[0m\u001b[1;32m     14\u001b[0m     \u001b[0mrects2\u001b[0m \u001b[0;34m=\u001b[0m \u001b[0max\u001b[0m\u001b[0;34m.\u001b[0m\u001b[0mbar\u001b[0m\u001b[0;34m(\u001b[0m\u001b[0mind\u001b[0m\u001b[0;34m,\u001b[0m \u001b[0malgorithms\u001b[0m\u001b[0;34m[\u001b[0m\u001b[0;34m'dec_tree'\u001b[0m\u001b[0;34m]\u001b[0m\u001b[0;34m[\u001b[0m\u001b[0;34m'accuracies'\u001b[0m\u001b[0;34m]\u001b[0m\u001b[0;34m,\u001b[0m \u001b[0mwidth\u001b[0m\u001b[0;34m,\u001b[0m \u001b[0mcolor\u001b[0m\u001b[0;34m=\u001b[0m\u001b[0;34m'#6db7c4'\u001b[0m\u001b[0;34m,\u001b[0m \u001b[0myerr\u001b[0m\u001b[0;34m=\u001b[0m\u001b[0malgorithms\u001b[0m\u001b[0;34m[\u001b[0m\u001b[0;34m'dec_tree'\u001b[0m\u001b[0;34m]\u001b[0m\u001b[0;34m[\u001b[0m\u001b[0;34m'std_dev'\u001b[0m\u001b[0;34m]\u001b[0m\u001b[0;34m)\u001b[0m\u001b[0;34m\u001b[0m\u001b[0m\n\u001b[1;32m     15\u001b[0m     \u001b[0mrects3\u001b[0m \u001b[0;34m=\u001b[0m \u001b[0max\u001b[0m\u001b[0;34m.\u001b[0m\u001b[0mbar\u001b[0m\u001b[0;34m(\u001b[0m\u001b[0mind\u001b[0m\u001b[0;34m,\u001b[0m \u001b[0malgorithms\u001b[0m\u001b[0;34m[\u001b[0m\u001b[0;34m'naive_bayes'\u001b[0m\u001b[0;34m]\u001b[0m\u001b[0;34m[\u001b[0m\u001b[0;34m'accuracies'\u001b[0m\u001b[0;34m]\u001b[0m\u001b[0;34m,\u001b[0m \u001b[0mwidth\u001b[0m\u001b[0;34m,\u001b[0m \u001b[0mcolor\u001b[0m\u001b[0;34m=\u001b[0m\u001b[0;34m'#6db7c4'\u001b[0m\u001b[0;34m,\u001b[0m \u001b[0myerr\u001b[0m\u001b[0;34m=\u001b[0m\u001b[0malgorithms\u001b[0m\u001b[0;34m[\u001b[0m\u001b[0;34m'naive_bayes'\u001b[0m\u001b[0;34m]\u001b[0m\u001b[0;34m[\u001b[0m\u001b[0;34m'std_dev'\u001b[0m\u001b[0;34m]\u001b[0m\u001b[0;34m)\u001b[0m\u001b[0;34m\u001b[0m\u001b[0m\n",
      "\u001b[0;32m/home/barbarahe/anaconda3/lib/python3.5/site-packages/matplotlib/__init__.py\u001b[0m in \u001b[0;36minner\u001b[0;34m(ax, *args, **kwargs)\u001b[0m\n\u001b[1;32m   1890\u001b[0m                     warnings.warn(msg % (label_namer, func.__name__),\n\u001b[1;32m   1891\u001b[0m                                   RuntimeWarning, stacklevel=2)\n\u001b[0;32m-> 1892\u001b[0;31m             \u001b[0;32mreturn\u001b[0m \u001b[0mfunc\u001b[0m\u001b[0;34m(\u001b[0m\u001b[0max\u001b[0m\u001b[0;34m,\u001b[0m \u001b[0;34m*\u001b[0m\u001b[0margs\u001b[0m\u001b[0;34m,\u001b[0m \u001b[0;34m**\u001b[0m\u001b[0mkwargs\u001b[0m\u001b[0;34m)\u001b[0m\u001b[0;34m\u001b[0m\u001b[0m\n\u001b[0m\u001b[1;32m   1893\u001b[0m         \u001b[0mpre_doc\u001b[0m \u001b[0;34m=\u001b[0m \u001b[0minner\u001b[0m\u001b[0;34m.\u001b[0m\u001b[0m__doc__\u001b[0m\u001b[0;34m\u001b[0m\u001b[0m\n\u001b[1;32m   1894\u001b[0m         \u001b[0;32mif\u001b[0m \u001b[0mpre_doc\u001b[0m \u001b[0;32mis\u001b[0m \u001b[0;32mNone\u001b[0m\u001b[0;34m:\u001b[0m\u001b[0;34m\u001b[0m\u001b[0m\n",
      "\u001b[0;32m/home/barbarahe/anaconda3/lib/python3.5/site-packages/matplotlib/axes/_axes.py\u001b[0m in \u001b[0;36mbar\u001b[0;34m(self, left, height, width, bottom, **kwargs)\u001b[0m\n\u001b[1;32m   2077\u001b[0m         \u001b[0;32mif\u001b[0m \u001b[0mlen\u001b[0m\u001b[0;34m(\u001b[0m\u001b[0mheight\u001b[0m\u001b[0;34m)\u001b[0m \u001b[0;34m!=\u001b[0m \u001b[0mnbars\u001b[0m\u001b[0;34m:\u001b[0m\u001b[0;34m\u001b[0m\u001b[0m\n\u001b[1;32m   2078\u001b[0m             raise ValueError(\"incompatible sizes: argument 'height' \"\n\u001b[0;32m-> 2079\u001b[0;31m                               \"must be length %d or scalar\" % nbars)\n\u001b[0m\u001b[1;32m   2080\u001b[0m         \u001b[0;32mif\u001b[0m \u001b[0mlen\u001b[0m\u001b[0;34m(\u001b[0m\u001b[0mwidth\u001b[0m\u001b[0;34m)\u001b[0m \u001b[0;34m!=\u001b[0m \u001b[0mnbars\u001b[0m\u001b[0;34m:\u001b[0m\u001b[0;34m\u001b[0m\u001b[0m\n\u001b[1;32m   2081\u001b[0m             raise ValueError(\"incompatible sizes: argument 'width' \"\n",
      "\u001b[0;31mValueError\u001b[0m: incompatible sizes: argument 'height' must be length 9 or scalar"
     ]
    }
   ],
   "source": [
    "plotFigure()"
   ]
  }
 ],
 "metadata": {
  "anaconda-cloud": {},
  "kernelspec": {
   "display_name": "Python [conda root]",
   "language": "python",
   "name": "conda-root-py"
  },
  "language_info": {
   "codemirror_mode": {
    "name": "ipython",
    "version": 3
   },
   "file_extension": ".py",
   "mimetype": "text/x-python",
   "name": "python",
   "nbconvert_exporter": "python",
   "pygments_lexer": "ipython3",
   "version": "3.5.2"
  }
 },
 "nbformat": 4,
 "nbformat_minor": 1
}
