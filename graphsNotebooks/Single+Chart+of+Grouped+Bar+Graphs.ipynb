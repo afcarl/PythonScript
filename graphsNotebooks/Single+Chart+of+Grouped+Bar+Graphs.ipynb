{
 "cells": [
  {
   "cell_type": "code",
   "execution_count": 84,
   "metadata": {
    "collapsed": false
   },
   "outputs": [
    {
     "data": {
      "text/plain": [
       "<matplotlib.figure.Figure at 0x7fbee8d4d588>"
      ]
     },
     "execution_count": 84,
     "metadata": {},
     "output_type": "execute_result"
    }
   ],
   "source": [
    "#!/usr/bin/python\n",
    "\n",
    "\"\"\"\n",
    "========\n",
    "Barchart\n",
    "========\n",
    "\n",
    "A bar plot with errorbars and height labels on individual bars\n",
    "\"\"\"\"\"\n",
    "\n",
    "import numpy as np\n",
    "import matplotlib.pyplot as plt\n",
    "\n",
    "from matplotlib.ticker import FuncFormatter\n",
    "formatter = FuncFormatter(lambda y, pos: \"%d%%\" % (y))\n",
    "#ax.yaxis.set_major_formatter(formatter)\n",
    "plt.figure(figsize=(10,5)) # sets size of figure"
   ]
  },
  {
   "cell_type": "code",
   "execution_count": 85,
   "metadata": {
    "collapsed": true
   },
   "outputs": [],
   "source": [
    "# dictionary to store each study's accuracies and standard deviation values\n",
    "\n",
    "# stores studies that were ran with 9 classifiers\n",
    "values = {\n",
    "    'amish': {},\n",
    "    'HMP': {},\n",
    "    'turnbaugh': {},\n",
    "    'new_study': {},\n",
    "}\n",
    "\n",
    "# stores studies that were not ran with 9 classifiers\n",
    "other = {\n",
    "    'wu': {},\n",
    "    'yat': {},\n",
    "}"
   ]
  },
  {
   "cell_type": "code",
   "execution_count": 86,
   "metadata": {
    "collapsed": false
   },
   "outputs": [],
   "source": [
    "# Titles/Names for each study\n",
    "\n",
    "values['amish']['title'] = 'Amish'\n",
    "values['HMP']['title'] = 'HMP'\n",
    "values['turnbaugh']['title'] = 'Turnbaugh'\n",
    "values['new_study']['title'] = 'New'\n",
    "\n",
    "other['wu']['title'] = 'Wu'\n",
    "other['yat']['title'] = 'Yatsunenko'"
   ]
  },
  {
   "cell_type": "code",
   "execution_count": 87,
   "metadata": {
    "collapsed": false
   },
   "outputs": [],
   "source": [
    "# Classifciation ccuracies for each study (in decimal format)\n",
    "\n",
    "# Amish Accuracies\n",
    "values['amish']['accuracies'] = [0.470502021563, 0.580275718778, 0.457659478886, 0.530750224618, 0.5, \n",
    "          0.700398697215, 0.532827942498, 0.637415768194, 0.67268081761]\n",
    "\n",
    "# HMP Accuracies\n",
    "values['HMP']['accuracies'] = [0.517695200177, 0.679468038045, 0.547445255474, 0.592402123424, 0.5, \n",
    "                               0.639239106392, 0.628400796284, 0.661634594116, 0.606890068569]\n",
    "\n",
    "# Turnbaught Accuracies\n",
    "values['turnbaugh']['accuracies'] = [0.689094301221, 0.657598371777, 0.549327227499, 0.703132066938, 0.5, \n",
    "                                     0.778459972863, 0.750045228403, 0.770612844867, 0.774061510629]\n",
    "\n",
    "# new study accuracies\n",
    "values['new_study']['accuracies'] = [0.854166666667, 0.85119047619, 0.72619047619, 0.880952380952, 0.5, \n",
    "                                    0.964285714286, 0.827380952381, 0.91369047619, 0.970238095238]\n",
    "\n",
    "# Wu study accuracies\n",
    "other['wu']['accuracies'] = [0.592995169082, 0.652657004831, 0.49154589372, 0.728985507246, 0.5, \n",
    "                              0.966183574879, 0.711111111111, 0.619082125604]\n",
    "\n",
    "# Yatsunenko study accuracies\n",
    "other['yat']['accuracies'] = [0.584343825249, 0.638425925926, 0.485989278752, 0.530306157551, 0.5]"
   ]
  },
  {
   "cell_type": "code",
   "execution_count": 88,
   "metadata": {
    "collapsed": true
   },
   "outputs": [],
   "source": [
    "# Standard deviation values for each study (in decimal format)\n",
    "\n",
    "# Amish study standard deviation values\n",
    "values['amish']['std_dev'] = [0.08512, 0.136595, 0.087962, 0.10546, 0.0, 0.11296, 0.142749, 0.1725878, 0.12152]\n",
    "\n",
    "# HMP study standard deviation values\n",
    "values['HMP']['std_dev'] = [0.1373923, 0.198704, 0.1, 0.1711936, 0.0, 0.2135, 0.15766, 0.166027, 0.1696152]\n",
    "\n",
    "# Turnbaugh study standard deviation values\n",
    "values['turnbaugh']['std_dev'] = [0.202611069314, 0.115264000084, 0.0877397345522, 0.202617456781, 0.0, \n",
    "                                  0.157518127573, 0.155300886903, 0.182318062827, 0.169972989806]\n",
    "\n",
    "# new study standard deviation values\n",
    "values['new_study']['std_dev'] = [0.137219, 0.1383601, 0.14617, 0.20495, 0.0, \n",
    "                                  0.0509175, 0.1327533, 0.09429, 0.0786165]\n",
    "\n",
    "# Wu study standard deviation values\n",
    "other['wu']['std_dev'] = [0.28734894159, 0.193476958146, 0.025, 0.18405916923, 0.0, \n",
    "                           0.0666666666667, 0.258112809101, 0.314735338552]\n",
    "\n",
    "# Yatsunenko study standard deviation values\n",
    "other['yat']['std_dev'] = [0.121632955255, 0.138845548793, 0.0223951604119, 0.146730148321]"
   ]
  },
  {
   "cell_type": "code",
   "execution_count": 89,
   "metadata": {
    "collapsed": true
   },
   "outputs": [],
   "source": [
    "# Randomly Generated Accuracies (Most frequent)\n",
    "\n",
    "# Amish study random accuracies\n",
    "values['amish']['ran_acc'] = 0.665217\n",
    "\n",
    "# HMP study random accuracies\n",
    "values['HMP']['ran_acc'] = 0.81879\n",
    "\n",
    "# Turnbaugh study random accuracies\n",
    "values['turnbaugh']['ran_acc'] = 0.76205\n",
    "\n",
    "# New study random accuracies\n",
    "values['new_study']['ran_acc'] = 0.5\n",
    "\n",
    "# Wu study random accuracies\n",
    "other['wu']['std_dev'] = 0\n",
    "\n",
    "# Yatsunenko study random accuracies\n",
    "other['yat']['std_dev'] = 0"
   ]
  },
  {
   "cell_type": "code",
   "execution_count": 90,
   "metadata": {
    "collapsed": false,
    "scrolled": true
   },
   "outputs": [],
   "source": [
    "# Iterates through all the studies for both accuracies and std_dev lists\n",
    "# in order to obtain percentage values (multiply by 100)\n",
    "\n",
    "# iterate through each study in dictionary\n",
    "for study_name in values:\n",
    "    # multiply accuracies in study by 100\n",
    "    for index, item in enumerate(values[study_name]['accuracies']):\n",
    "        values[study_name]['accuracies'][index] *= 100\n",
    "\n",
    "    #multiply each std_dev value in study by 100\n",
    "    for index, item in enumerate(values[study_name]['std_dev']):\n",
    "        values[study_name]['std_dev'][index] *= 100\n",
    "        \n",
    "    \n",
    "    values[study_name]['ran_acc'] *= 100"
   ]
  },
  {
   "cell_type": "code",
   "execution_count": 135,
   "metadata": {
    "collapsed": false
   },
   "outputs": [
    {
     "data": {
      "image/png": "[encoded data removed]",
      "text/plain": [
       "<matplotlib.figure.Figure at 0x7fbee915ba58>"
      ]
     },
     "metadata": {},
     "output_type": "display_data"
    }
   ],
   "source": [
    "# Plots a figure given a study_name (string) and its corresponding list of accuracies and list of std deviations\n",
    "# assumes that 9 classifiers are used\n",
    "pos = list(range(100))\n",
    "\n",
    "N = 9 # number of classifiers\n",
    "\n",
    "ind = np.arange(N)  # the x locations for the groups\n",
    "width = 0.2       # the width of the bars\n",
    "\n",
    "# plot bars\n",
    "fig, ax = plt.subplots()\n",
    "rects1 = ax.bar(ind, values['amish']['accuracies'], width, color='#6db7c4', alpha = 0.5, yerr=values['amish']['std_dev'])\n",
    "rects2 = ax.bar(ind + width, values['HMP']['accuracies'], width, color='#5a3489', alpha = 0.5, yerr=values['HMP']['std_dev'])\n",
    "rects3 = ax.bar(ind + 2*width, values['turnbaugh']['accuracies'], width, alpha = 0.5, color='#35894e', yerr=values['turnbaugh']['std_dev'])\n",
    "rects4 = ax.bar(ind + 3*width, values['new_study']['accuracies'], width, alpha = 0.5, color='#1049a5', yerr=values['new_study']['std_dev'])\n",
    "\n",
    "\n",
    "#ax.axhline(y=values['amish']['ran_acc'], c=\"red\", linewidth=1,zorder=0, xmin=0, xmax=1)\n",
    "#ax.axhline(y=values['HMP']['ran_acc'], c=\"red\", linewidth=1,zorder=0, xmin=20, xmax = 30)\n",
    "#ax.axhline(y=values['turnbaugh']['ran_acc'], c=\"red\", linewidth=1,zorder=0, xmin=40, xmax = 50)\n",
    "#ax.axhline(y=values['new_study']['ran_acc'], c=\"red\", linewidth=1,zorder=0, xmin=60, xmax = 70)\n",
    "\n",
    "# range for y values\n",
    "plt.ylim([0,100])\n",
    "\n",
    "# labels along x axis (classifiers)\n",
    "labels = ('KNN', 'Decision Tree', 'Naive Bayes', 'SVM', 'Gaussian Process', 'Random Forest', 'Neural Net',\n",
    "               'Adaboost', 'Extra Trees')\n",
    "\n",
    "# add some text for labels, title and axes ticks\n",
    "ax.set_ylabel('Classification Accuracies (%)')\n",
    "ax.set_title('Classification Accuracies for Each Study')\n",
    "\n",
    "# ticks for name of classifier\n",
    "#plt.xticks(range(9), labels, rotation=35, ha='center')\n",
    "    \n",
    "plt.xticks(range(9), labels, rotation=35, ha='center')\n",
    "ax.set_xticklabels(labels, ha='right')\n",
    "plt.legend(['Amish', 'HMP', 'Turnbaugh', 'New Study'], loc='lower right')\n",
    "\n",
    "# displays the figure\n",
    "plt.grid()\n",
    "plt.show()"
   ]
  },
  {
   "cell_type": "code",
   "execution_count": null,
   "metadata": {
    "collapsed": true
   },
   "outputs": [],
   "source": []
  }
 ],
 "metadata": {
  "anaconda-cloud": {},
  "kernelspec": {
   "display_name": "Python [conda root]",
   "language": "python",
   "name": "conda-root-py"
  },
  "language_info": {
   "codemirror_mode": {
    "name": "ipython",
    "version": 3
   },
   "file_extension": ".py",
   "mimetype": "text/x-python",
   "name": "python",
   "nbconvert_exporter": "python",
   "pygments_lexer": "ipython3",
   "version": "3.5.2"
  }
 },
 "nbformat": 4,
 "nbformat_minor": 1
}
