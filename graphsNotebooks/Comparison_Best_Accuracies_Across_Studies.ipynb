{
 "cells": [
  {
   "cell_type": "code",
   "execution_count": 71,
   "metadata": {
    "collapsed": false
   },
   "outputs": [
    {
     "data": {
      "text/plain": [
       "<matplotlib.figure.Figure at 0x7f8e17b48fd0>"
      ]
     },
     "execution_count": 71,
     "metadata": {},
     "output_type": "execute_result"
    }
   ],
   "source": [
    "#!/usr/bin/python\n",
    "\n",
    "\"\"\"\n",
    "========\n",
    "Barchart\n",
    "========\n",
    "\n",
    "A bar plot with errorbars and height labels on individual bars\n",
    "\"\"\"\"\"\n",
    "\n",
    "import numpy as np\n",
    "import matplotlib.pyplot as plt\n",
    "\n",
    "from matplotlib.ticker import FuncFormatter\n",
    "formatter = FuncFormatter(lambda y, pos: \"%d%%\" % (y))\n",
    "#ax.yaxis.set_major_formatter(formatter)\n",
    "plt.figure(figsize=(1.5,1)) # sets size of figure"
   ]
  },
  {
   "cell_type": "code",
   "execution_count": 72,
   "metadata": {
    "collapsed": true
   },
   "outputs": [],
   "source": [
    "# stores studies that were ran with 9 classifiers\n",
    "# order of Amish, HMP, Turnbaugh, wu, yat\n",
    "our_acc = [0.700398697215, 0.679468038045, 0.778459972863, 0.966183574879, 0.681679279899]\n",
    "orig_acc = [0.6077041, 0.6656818, 0.7250379, 0.8623333, 0.6259477]"
   ]
  },
  {
   "cell_type": "code",
   "execution_count": 73,
   "metadata": {
    "collapsed": true
   },
   "outputs": [],
   "source": [
    "# Standard deviation values for each study (in decimal format)\n",
    "our_std = [0.11296, 0.198704, 0.157518127573, 0.0666666666667, 0.113560638539]\n",
    "orig_std = [0.1103585, 0.1295004, 0.1488683, 0.1638126, 0.1033857]"
   ]
  },
  {
   "cell_type": "code",
   "execution_count": 74,
   "metadata": {
    "collapsed": true
   },
   "outputs": [],
   "source": [
    "# Random accuracies\n",
    "ran_acc = [0.665217, 0.81879, 0.76205, 0.85476, 0.780632]"
   ]
  },
  {
   "cell_type": "code",
   "execution_count": 75,
   "metadata": {
    "collapsed": false,
    "scrolled": true
   },
   "outputs": [],
   "source": [
    "# Iterates through all the studies for both accuracies and std_dev lists\n",
    "# in order to obtain percentage values (multiply by 100)\n",
    "\n",
    "# iterate through each study in dictionary\n",
    "list_all = [our_acc, orig_acc, our_std, orig_std, ran_acc]\n",
    "\n",
    "#multiply each std_dev value in study by 100\n",
    "for values in list_all:\n",
    "    #print(values)\n",
    "    for index, item in enumerate(values):\n",
    "        values[index] *= 100;\n",
    "        \n",
    "    #print(values)"
   ]
  },
  {
   "cell_type": "code",
   "execution_count": 76,
   "metadata": {
    "collapsed": false
   },
   "outputs": [],
   "source": [
    "# Plots a figure given a study_name (string) and its corresponding list of accuracies and list of std deviations\n",
    "# assumes that 9 classifiers are used\n",
    "\n",
    "def plotFigure():\n",
    "    N = 5 # number of studies\n",
    "    \n",
    "    ind = np.arange(N)  # the x locations for the groups\n",
    "    \n",
    "    ind = [2 * x for x in range(N)]  # the x locations for the groups\n",
    "    ind = np.array(ind)\n",
    "\n",
    "    width = 0.5       # the width of the bars\n",
    "\n",
    "    # plot bars\n",
    "    fig, ax = plt.subplots()\n",
    "    rects1 = ax.bar(ind, our_acc, width, color='#84ACD7', yerr=our_std)\n",
    "    rects2 = ax.bar(ind + width, orig_acc, width, color='#D7736D', yerr=orig_std)\n",
    "    rects3 = ax.bar(ind + 2*width, ran_acc, width, color='#679955')    \n",
    "\n",
    "    # range for y values\n",
    "    plt.ylim([0,100])\n",
    "    \n",
    "    # labels along x axis (classifiers)\n",
    "    labels = ('Amish', 'HMP', 'Turnbaugh', 'Wu', 'Yatsunenko')\n",
    "\n",
    "    # add some text for labels, title and axes ticks\n",
    "    ax.set_ylabel('Classification Accuracies (%)')\n",
    "    ax.set_title('Comparison of New Classification Accuracies with Previous Results')\n",
    "\n",
    "    # ticks for name of classifier\n",
    "    plt.xticks(range(5), labels, rotation=0, ha='center')\n",
    "    #ax.set_xticklabels(labels, ha='right')\n",
    "    ax.set_xticklabels(labels)\n",
    "    ax.set_xticks(ind + 2*width / 2)\n",
    "    \n",
    "    # legend\n",
    "    plt.legend(['Our Results', 'Previous Results', 'Baseline'], loc='lower right')\n",
    "\n",
    "    # displays the figure\n",
    "    #plt.show()\n",
    "    plt.savefig('comparison_of_accuracies.png', bbox_inches='tight')"
   ]
  },
  {
   "cell_type": "code",
   "execution_count": 77,
   "metadata": {
    "collapsed": false
   },
   "outputs": [],
   "source": [
    "plotFigure()"
   ]
  },
  {
   "cell_type": "code",
   "execution_count": null,
   "metadata": {
    "collapsed": true
   },
   "outputs": [],
   "source": []
  }
 ],
 "metadata": {
  "anaconda-cloud": {},
  "kernelspec": {
   "display_name": "Python [conda root]",
   "language": "python",
   "name": "conda-root-py"
  },
  "language_info": {
   "codemirror_mode": {
    "name": "ipython",
    "version": 3
   },
   "file_extension": ".py",
   "mimetype": "text/x-python",
   "name": "python",
   "nbconvert_exporter": "python",
   "pygments_lexer": "ipython3",
   "version": "3.5.2"
  }
 },
 "nbformat": 4,
 "nbformat_minor": 1
}
